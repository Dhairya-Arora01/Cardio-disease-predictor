{
  "nbformat": 4,
  "nbformat_minor": 0,
  "metadata": {
    "colab": {
      "provenance": [],
      "authorship_tag": "ABX9TyNtKFOVkYqhGOgREtsco8pp",
      "include_colab_link": true
    },
    "kernelspec": {
      "name": "python3",
      "display_name": "Python 3"
    },
    "language_info": {
      "name": "python"
    }
  },
  "cells": [
    {
      "cell_type": "markdown",
      "metadata": {
        "id": "view-in-github",
        "colab_type": "text"
      },
      "source": [
        "<a href=\"https://colab.research.google.com/github/Dhairya-Arora01/Cardio-disease-predictor/blob/main/cardio.ipynb\" target=\"_parent\"><img src=\"https://colab.research.google.com/assets/colab-badge.svg\" alt=\"Open In Colab\"/></a>"
      ]
    },
    {
      "cell_type": "code",
      "execution_count": 2,
      "metadata": {
        "colab": {
          "base_uri": "https://localhost:8080/"
        },
        "id": "xy8lGeAIgBsU",
        "outputId": "9d8ac5a0-31ec-4c1e-c1b5-832822712b41"
      },
      "outputs": [
        {
          "output_type": "stream",
          "name": "stdout",
          "text": [
            "Mounted at /content/drive\n"
          ]
        }
      ],
      "source": [
        "from google.colab import drive\n",
        "drive.mount(\"/content/drive\")"
      ]
    },
    {
      "cell_type": "code",
      "source": [
        "import numpy as np\n",
        "import pandas as pd\n",
        "import matplotlib.pyplot as plt\n",
        "import seaborn as sns\n",
        "sns.set_style('darkgrid')\n",
        "from scipy import stats\n",
        "from sklearn.preprocessing import MinMaxScaler\n",
        "from sklearn.compose import ColumnTransformer\n",
        "from sklearn.model_selection import train_test_split\n",
        "from sklearn.linear_model import LogisticRegression\n",
        "from sklearn.metrics import confusion_matrix, classification_report, ConfusionMatrixDisplay"
      ],
      "metadata": {
        "id": "wUkSvyCmgR0f"
      },
      "execution_count": 39,
      "outputs": []
    },
    {
      "cell_type": "code",
      "source": [
        "data = pd.read_csv('drive/MyDrive/cardio_train.csv', sep=\";\")"
      ],
      "metadata": {
        "id": "EIxdyPeag9SZ"
      },
      "execution_count": 4,
      "outputs": []
    },
    {
      "cell_type": "code",
      "source": [
        "data"
      ],
      "metadata": {
        "colab": {
          "base_uri": "https://localhost:8080/",
          "height": 424
        },
        "id": "ixskpBjxhSqJ",
        "outputId": "d97370b5-923d-44e5-da79-57161f930440"
      },
      "execution_count": 5,
      "outputs": [
        {
          "output_type": "execute_result",
          "data": {
            "text/plain": [
              "          id    age  gender  height  weight  ap_hi  ap_lo  cholesterol  gluc  \\\n",
              "0          0  18393       2     168    62.0    110     80            1     1   \n",
              "1          1  20228       1     156    85.0    140     90            3     1   \n",
              "2          2  18857       1     165    64.0    130     70            3     1   \n",
              "3          3  17623       2     169    82.0    150    100            1     1   \n",
              "4          4  17474       1     156    56.0    100     60            1     1   \n",
              "...      ...    ...     ...     ...     ...    ...    ...          ...   ...   \n",
              "69995  99993  19240       2     168    76.0    120     80            1     1   \n",
              "69996  99995  22601       1     158   126.0    140     90            2     2   \n",
              "69997  99996  19066       2     183   105.0    180     90            3     1   \n",
              "69998  99998  22431       1     163    72.0    135     80            1     2   \n",
              "69999  99999  20540       1     170    72.0    120     80            2     1   \n",
              "\n",
              "       smoke  alco  active  cardio  \n",
              "0          0     0       1       0  \n",
              "1          0     0       1       1  \n",
              "2          0     0       0       1  \n",
              "3          0     0       1       1  \n",
              "4          0     0       0       0  \n",
              "...      ...   ...     ...     ...  \n",
              "69995      1     0       1       0  \n",
              "69996      0     0       1       1  \n",
              "69997      0     1       0       1  \n",
              "69998      0     0       0       1  \n",
              "69999      0     0       1       0  \n",
              "\n",
              "[70000 rows x 13 columns]"
            ],
            "text/html": [
              "\n",
              "  <div id=\"df-6fb6e31c-2038-4df2-9906-f6e564272e99\">\n",
              "    <div class=\"colab-df-container\">\n",
              "      <div>\n",
              "<style scoped>\n",
              "    .dataframe tbody tr th:only-of-type {\n",
              "        vertical-align: middle;\n",
              "    }\n",
              "\n",
              "    .dataframe tbody tr th {\n",
              "        vertical-align: top;\n",
              "    }\n",
              "\n",
              "    .dataframe thead th {\n",
              "        text-align: right;\n",
              "    }\n",
              "</style>\n",
              "<table border=\"1\" class=\"dataframe\">\n",
              "  <thead>\n",
              "    <tr style=\"text-align: right;\">\n",
              "      <th></th>\n",
              "      <th>id</th>\n",
              "      <th>age</th>\n",
              "      <th>gender</th>\n",
              "      <th>height</th>\n",
              "      <th>weight</th>\n",
              "      <th>ap_hi</th>\n",
              "      <th>ap_lo</th>\n",
              "      <th>cholesterol</th>\n",
              "      <th>gluc</th>\n",
              "      <th>smoke</th>\n",
              "      <th>alco</th>\n",
              "      <th>active</th>\n",
              "      <th>cardio</th>\n",
              "    </tr>\n",
              "  </thead>\n",
              "  <tbody>\n",
              "    <tr>\n",
              "      <th>0</th>\n",
              "      <td>0</td>\n",
              "      <td>18393</td>\n",
              "      <td>2</td>\n",
              "      <td>168</td>\n",
              "      <td>62.0</td>\n",
              "      <td>110</td>\n",
              "      <td>80</td>\n",
              "      <td>1</td>\n",
              "      <td>1</td>\n",
              "      <td>0</td>\n",
              "      <td>0</td>\n",
              "      <td>1</td>\n",
              "      <td>0</td>\n",
              "    </tr>\n",
              "    <tr>\n",
              "      <th>1</th>\n",
              "      <td>1</td>\n",
              "      <td>20228</td>\n",
              "      <td>1</td>\n",
              "      <td>156</td>\n",
              "      <td>85.0</td>\n",
              "      <td>140</td>\n",
              "      <td>90</td>\n",
              "      <td>3</td>\n",
              "      <td>1</td>\n",
              "      <td>0</td>\n",
              "      <td>0</td>\n",
              "      <td>1</td>\n",
              "      <td>1</td>\n",
              "    </tr>\n",
              "    <tr>\n",
              "      <th>2</th>\n",
              "      <td>2</td>\n",
              "      <td>18857</td>\n",
              "      <td>1</td>\n",
              "      <td>165</td>\n",
              "      <td>64.0</td>\n",
              "      <td>130</td>\n",
              "      <td>70</td>\n",
              "      <td>3</td>\n",
              "      <td>1</td>\n",
              "      <td>0</td>\n",
              "      <td>0</td>\n",
              "      <td>0</td>\n",
              "      <td>1</td>\n",
              "    </tr>\n",
              "    <tr>\n",
              "      <th>3</th>\n",
              "      <td>3</td>\n",
              "      <td>17623</td>\n",
              "      <td>2</td>\n",
              "      <td>169</td>\n",
              "      <td>82.0</td>\n",
              "      <td>150</td>\n",
              "      <td>100</td>\n",
              "      <td>1</td>\n",
              "      <td>1</td>\n",
              "      <td>0</td>\n",
              "      <td>0</td>\n",
              "      <td>1</td>\n",
              "      <td>1</td>\n",
              "    </tr>\n",
              "    <tr>\n",
              "      <th>4</th>\n",
              "      <td>4</td>\n",
              "      <td>17474</td>\n",
              "      <td>1</td>\n",
              "      <td>156</td>\n",
              "      <td>56.0</td>\n",
              "      <td>100</td>\n",
              "      <td>60</td>\n",
              "      <td>1</td>\n",
              "      <td>1</td>\n",
              "      <td>0</td>\n",
              "      <td>0</td>\n",
              "      <td>0</td>\n",
              "      <td>0</td>\n",
              "    </tr>\n",
              "    <tr>\n",
              "      <th>...</th>\n",
              "      <td>...</td>\n",
              "      <td>...</td>\n",
              "      <td>...</td>\n",
              "      <td>...</td>\n",
              "      <td>...</td>\n",
              "      <td>...</td>\n",
              "      <td>...</td>\n",
              "      <td>...</td>\n",
              "      <td>...</td>\n",
              "      <td>...</td>\n",
              "      <td>...</td>\n",
              "      <td>...</td>\n",
              "      <td>...</td>\n",
              "    </tr>\n",
              "    <tr>\n",
              "      <th>69995</th>\n",
              "      <td>99993</td>\n",
              "      <td>19240</td>\n",
              "      <td>2</td>\n",
              "      <td>168</td>\n",
              "      <td>76.0</td>\n",
              "      <td>120</td>\n",
              "      <td>80</td>\n",
              "      <td>1</td>\n",
              "      <td>1</td>\n",
              "      <td>1</td>\n",
              "      <td>0</td>\n",
              "      <td>1</td>\n",
              "      <td>0</td>\n",
              "    </tr>\n",
              "    <tr>\n",
              "      <th>69996</th>\n",
              "      <td>99995</td>\n",
              "      <td>22601</td>\n",
              "      <td>1</td>\n",
              "      <td>158</td>\n",
              "      <td>126.0</td>\n",
              "      <td>140</td>\n",
              "      <td>90</td>\n",
              "      <td>2</td>\n",
              "      <td>2</td>\n",
              "      <td>0</td>\n",
              "      <td>0</td>\n",
              "      <td>1</td>\n",
              "      <td>1</td>\n",
              "    </tr>\n",
              "    <tr>\n",
              "      <th>69997</th>\n",
              "      <td>99996</td>\n",
              "      <td>19066</td>\n",
              "      <td>2</td>\n",
              "      <td>183</td>\n",
              "      <td>105.0</td>\n",
              "      <td>180</td>\n",
              "      <td>90</td>\n",
              "      <td>3</td>\n",
              "      <td>1</td>\n",
              "      <td>0</td>\n",
              "      <td>1</td>\n",
              "      <td>0</td>\n",
              "      <td>1</td>\n",
              "    </tr>\n",
              "    <tr>\n",
              "      <th>69998</th>\n",
              "      <td>99998</td>\n",
              "      <td>22431</td>\n",
              "      <td>1</td>\n",
              "      <td>163</td>\n",
              "      <td>72.0</td>\n",
              "      <td>135</td>\n",
              "      <td>80</td>\n",
              "      <td>1</td>\n",
              "      <td>2</td>\n",
              "      <td>0</td>\n",
              "      <td>0</td>\n",
              "      <td>0</td>\n",
              "      <td>1</td>\n",
              "    </tr>\n",
              "    <tr>\n",
              "      <th>69999</th>\n",
              "      <td>99999</td>\n",
              "      <td>20540</td>\n",
              "      <td>1</td>\n",
              "      <td>170</td>\n",
              "      <td>72.0</td>\n",
              "      <td>120</td>\n",
              "      <td>80</td>\n",
              "      <td>2</td>\n",
              "      <td>1</td>\n",
              "      <td>0</td>\n",
              "      <td>0</td>\n",
              "      <td>1</td>\n",
              "      <td>0</td>\n",
              "    </tr>\n",
              "  </tbody>\n",
              "</table>\n",
              "<p>70000 rows × 13 columns</p>\n",
              "</div>\n",
              "      <button class=\"colab-df-convert\" onclick=\"convertToInteractive('df-6fb6e31c-2038-4df2-9906-f6e564272e99')\"\n",
              "              title=\"Convert this dataframe to an interactive table.\"\n",
              "              style=\"display:none;\">\n",
              "        \n",
              "  <svg xmlns=\"http://www.w3.org/2000/svg\" height=\"24px\"viewBox=\"0 0 24 24\"\n",
              "       width=\"24px\">\n",
              "    <path d=\"M0 0h24v24H0V0z\" fill=\"none\"/>\n",
              "    <path d=\"M18.56 5.44l.94 2.06.94-2.06 2.06-.94-2.06-.94-.94-2.06-.94 2.06-2.06.94zm-11 1L8.5 8.5l.94-2.06 2.06-.94-2.06-.94L8.5 2.5l-.94 2.06-2.06.94zm10 10l.94 2.06.94-2.06 2.06-.94-2.06-.94-.94-2.06-.94 2.06-2.06.94z\"/><path d=\"M17.41 7.96l-1.37-1.37c-.4-.4-.92-.59-1.43-.59-.52 0-1.04.2-1.43.59L10.3 9.45l-7.72 7.72c-.78.78-.78 2.05 0 2.83L4 21.41c.39.39.9.59 1.41.59.51 0 1.02-.2 1.41-.59l7.78-7.78 2.81-2.81c.8-.78.8-2.07 0-2.86zM5.41 20L4 18.59l7.72-7.72 1.47 1.35L5.41 20z\"/>\n",
              "  </svg>\n",
              "      </button>\n",
              "      \n",
              "  <style>\n",
              "    .colab-df-container {\n",
              "      display:flex;\n",
              "      flex-wrap:wrap;\n",
              "      gap: 12px;\n",
              "    }\n",
              "\n",
              "    .colab-df-convert {\n",
              "      background-color: #E8F0FE;\n",
              "      border: none;\n",
              "      border-radius: 50%;\n",
              "      cursor: pointer;\n",
              "      display: none;\n",
              "      fill: #1967D2;\n",
              "      height: 32px;\n",
              "      padding: 0 0 0 0;\n",
              "      width: 32px;\n",
              "    }\n",
              "\n",
              "    .colab-df-convert:hover {\n",
              "      background-color: #E2EBFA;\n",
              "      box-shadow: 0px 1px 2px rgba(60, 64, 67, 0.3), 0px 1px 3px 1px rgba(60, 64, 67, 0.15);\n",
              "      fill: #174EA6;\n",
              "    }\n",
              "\n",
              "    [theme=dark] .colab-df-convert {\n",
              "      background-color: #3B4455;\n",
              "      fill: #D2E3FC;\n",
              "    }\n",
              "\n",
              "    [theme=dark] .colab-df-convert:hover {\n",
              "      background-color: #434B5C;\n",
              "      box-shadow: 0px 1px 3px 1px rgba(0, 0, 0, 0.15);\n",
              "      filter: drop-shadow(0px 1px 2px rgba(0, 0, 0, 0.3));\n",
              "      fill: #FFFFFF;\n",
              "    }\n",
              "  </style>\n",
              "\n",
              "      <script>\n",
              "        const buttonEl =\n",
              "          document.querySelector('#df-6fb6e31c-2038-4df2-9906-f6e564272e99 button.colab-df-convert');\n",
              "        buttonEl.style.display =\n",
              "          google.colab.kernel.accessAllowed ? 'block' : 'none';\n",
              "\n",
              "        async function convertToInteractive(key) {\n",
              "          const element = document.querySelector('#df-6fb6e31c-2038-4df2-9906-f6e564272e99');\n",
              "          const dataTable =\n",
              "            await google.colab.kernel.invokeFunction('convertToInteractive',\n",
              "                                                     [key], {});\n",
              "          if (!dataTable) return;\n",
              "\n",
              "          const docLinkHtml = 'Like what you see? Visit the ' +\n",
              "            '<a target=\"_blank\" href=https://colab.research.google.com/notebooks/data_table.ipynb>data table notebook</a>'\n",
              "            + ' to learn more about interactive tables.';\n",
              "          element.innerHTML = '';\n",
              "          dataTable['output_type'] = 'display_data';\n",
              "          await google.colab.output.renderOutput(dataTable, element);\n",
              "          const docLink = document.createElement('div');\n",
              "          docLink.innerHTML = docLinkHtml;\n",
              "          element.appendChild(docLink);\n",
              "        }\n",
              "      </script>\n",
              "    </div>\n",
              "  </div>\n",
              "  "
            ]
          },
          "metadata": {},
          "execution_count": 5
        }
      ]
    },
    {
      "cell_type": "markdown",
      "source": [
        "id is of no use"
      ],
      "metadata": {
        "id": "oGoaB5dhnGu9"
      }
    },
    {
      "cell_type": "code",
      "source": [
        "data = data.drop(columns=['id'])"
      ],
      "metadata": {
        "id": "jcTIEit3nKni"
      },
      "execution_count": 6,
      "outputs": []
    },
    {
      "cell_type": "code",
      "source": [
        "data.isna().sum()"
      ],
      "metadata": {
        "colab": {
          "base_uri": "https://localhost:8080/"
        },
        "id": "e5p0SGu3fXNA",
        "outputId": "c39eb7c7-d2f3-4a78-fc31-6bbba8f7f05f"
      },
      "execution_count": 7,
      "outputs": [
        {
          "output_type": "execute_result",
          "data": {
            "text/plain": [
              "age            0\n",
              "gender         0\n",
              "height         0\n",
              "weight         0\n",
              "ap_hi          0\n",
              "ap_lo          0\n",
              "cholesterol    0\n",
              "gluc           0\n",
              "smoke          0\n",
              "alco           0\n",
              "active         0\n",
              "cardio         0\n",
              "dtype: int64"
            ]
          },
          "metadata": {},
          "execution_count": 7
        }
      ]
    },
    {
      "cell_type": "markdown",
      "source": [
        "## EDA"
      ],
      "metadata": {
        "id": "Bfa_aXwtnRar"
      }
    },
    {
      "cell_type": "code",
      "source": [
        "data.describe()"
      ],
      "metadata": {
        "colab": {
          "base_uri": "https://localhost:8080/",
          "height": 300
        },
        "id": "ekz6DEvynQ8L",
        "outputId": "e0967af1-5db4-474a-c00f-6e8e34d57fbb"
      },
      "execution_count": 8,
      "outputs": [
        {
          "output_type": "execute_result",
          "data": {
            "text/plain": [
              "                age        gender        height        weight         ap_hi  \\\n",
              "count  70000.000000  70000.000000  70000.000000  70000.000000  70000.000000   \n",
              "mean   19468.865814      1.349571    164.359229     74.205690    128.817286   \n",
              "std     2467.251667      0.476838      8.210126     14.395757    154.011419   \n",
              "min    10798.000000      1.000000     55.000000     10.000000   -150.000000   \n",
              "25%    17664.000000      1.000000    159.000000     65.000000    120.000000   \n",
              "50%    19703.000000      1.000000    165.000000     72.000000    120.000000   \n",
              "75%    21327.000000      2.000000    170.000000     82.000000    140.000000   \n",
              "max    23713.000000      2.000000    250.000000    200.000000  16020.000000   \n",
              "\n",
              "              ap_lo   cholesterol          gluc         smoke          alco  \\\n",
              "count  70000.000000  70000.000000  70000.000000  70000.000000  70000.000000   \n",
              "mean      96.630414      1.366871      1.226457      0.088129      0.053771   \n",
              "std      188.472530      0.680250      0.572270      0.283484      0.225568   \n",
              "min      -70.000000      1.000000      1.000000      0.000000      0.000000   \n",
              "25%       80.000000      1.000000      1.000000      0.000000      0.000000   \n",
              "50%       80.000000      1.000000      1.000000      0.000000      0.000000   \n",
              "75%       90.000000      2.000000      1.000000      0.000000      0.000000   \n",
              "max    11000.000000      3.000000      3.000000      1.000000      1.000000   \n",
              "\n",
              "             active        cardio  \n",
              "count  70000.000000  70000.000000  \n",
              "mean       0.803729      0.499700  \n",
              "std        0.397179      0.500003  \n",
              "min        0.000000      0.000000  \n",
              "25%        1.000000      0.000000  \n",
              "50%        1.000000      0.000000  \n",
              "75%        1.000000      1.000000  \n",
              "max        1.000000      1.000000  "
            ],
            "text/html": [
              "\n",
              "  <div id=\"df-a3cd4b81-fb1c-4010-97f2-f6620741f960\">\n",
              "    <div class=\"colab-df-container\">\n",
              "      <div>\n",
              "<style scoped>\n",
              "    .dataframe tbody tr th:only-of-type {\n",
              "        vertical-align: middle;\n",
              "    }\n",
              "\n",
              "    .dataframe tbody tr th {\n",
              "        vertical-align: top;\n",
              "    }\n",
              "\n",
              "    .dataframe thead th {\n",
              "        text-align: right;\n",
              "    }\n",
              "</style>\n",
              "<table border=\"1\" class=\"dataframe\">\n",
              "  <thead>\n",
              "    <tr style=\"text-align: right;\">\n",
              "      <th></th>\n",
              "      <th>age</th>\n",
              "      <th>gender</th>\n",
              "      <th>height</th>\n",
              "      <th>weight</th>\n",
              "      <th>ap_hi</th>\n",
              "      <th>ap_lo</th>\n",
              "      <th>cholesterol</th>\n",
              "      <th>gluc</th>\n",
              "      <th>smoke</th>\n",
              "      <th>alco</th>\n",
              "      <th>active</th>\n",
              "      <th>cardio</th>\n",
              "    </tr>\n",
              "  </thead>\n",
              "  <tbody>\n",
              "    <tr>\n",
              "      <th>count</th>\n",
              "      <td>70000.000000</td>\n",
              "      <td>70000.000000</td>\n",
              "      <td>70000.000000</td>\n",
              "      <td>70000.000000</td>\n",
              "      <td>70000.000000</td>\n",
              "      <td>70000.000000</td>\n",
              "      <td>70000.000000</td>\n",
              "      <td>70000.000000</td>\n",
              "      <td>70000.000000</td>\n",
              "      <td>70000.000000</td>\n",
              "      <td>70000.000000</td>\n",
              "      <td>70000.000000</td>\n",
              "    </tr>\n",
              "    <tr>\n",
              "      <th>mean</th>\n",
              "      <td>19468.865814</td>\n",
              "      <td>1.349571</td>\n",
              "      <td>164.359229</td>\n",
              "      <td>74.205690</td>\n",
              "      <td>128.817286</td>\n",
              "      <td>96.630414</td>\n",
              "      <td>1.366871</td>\n",
              "      <td>1.226457</td>\n",
              "      <td>0.088129</td>\n",
              "      <td>0.053771</td>\n",
              "      <td>0.803729</td>\n",
              "      <td>0.499700</td>\n",
              "    </tr>\n",
              "    <tr>\n",
              "      <th>std</th>\n",
              "      <td>2467.251667</td>\n",
              "      <td>0.476838</td>\n",
              "      <td>8.210126</td>\n",
              "      <td>14.395757</td>\n",
              "      <td>154.011419</td>\n",
              "      <td>188.472530</td>\n",
              "      <td>0.680250</td>\n",
              "      <td>0.572270</td>\n",
              "      <td>0.283484</td>\n",
              "      <td>0.225568</td>\n",
              "      <td>0.397179</td>\n",
              "      <td>0.500003</td>\n",
              "    </tr>\n",
              "    <tr>\n",
              "      <th>min</th>\n",
              "      <td>10798.000000</td>\n",
              "      <td>1.000000</td>\n",
              "      <td>55.000000</td>\n",
              "      <td>10.000000</td>\n",
              "      <td>-150.000000</td>\n",
              "      <td>-70.000000</td>\n",
              "      <td>1.000000</td>\n",
              "      <td>1.000000</td>\n",
              "      <td>0.000000</td>\n",
              "      <td>0.000000</td>\n",
              "      <td>0.000000</td>\n",
              "      <td>0.000000</td>\n",
              "    </tr>\n",
              "    <tr>\n",
              "      <th>25%</th>\n",
              "      <td>17664.000000</td>\n",
              "      <td>1.000000</td>\n",
              "      <td>159.000000</td>\n",
              "      <td>65.000000</td>\n",
              "      <td>120.000000</td>\n",
              "      <td>80.000000</td>\n",
              "      <td>1.000000</td>\n",
              "      <td>1.000000</td>\n",
              "      <td>0.000000</td>\n",
              "      <td>0.000000</td>\n",
              "      <td>1.000000</td>\n",
              "      <td>0.000000</td>\n",
              "    </tr>\n",
              "    <tr>\n",
              "      <th>50%</th>\n",
              "      <td>19703.000000</td>\n",
              "      <td>1.000000</td>\n",
              "      <td>165.000000</td>\n",
              "      <td>72.000000</td>\n",
              "      <td>120.000000</td>\n",
              "      <td>80.000000</td>\n",
              "      <td>1.000000</td>\n",
              "      <td>1.000000</td>\n",
              "      <td>0.000000</td>\n",
              "      <td>0.000000</td>\n",
              "      <td>1.000000</td>\n",
              "      <td>0.000000</td>\n",
              "    </tr>\n",
              "    <tr>\n",
              "      <th>75%</th>\n",
              "      <td>21327.000000</td>\n",
              "      <td>2.000000</td>\n",
              "      <td>170.000000</td>\n",
              "      <td>82.000000</td>\n",
              "      <td>140.000000</td>\n",
              "      <td>90.000000</td>\n",
              "      <td>2.000000</td>\n",
              "      <td>1.000000</td>\n",
              "      <td>0.000000</td>\n",
              "      <td>0.000000</td>\n",
              "      <td>1.000000</td>\n",
              "      <td>1.000000</td>\n",
              "    </tr>\n",
              "    <tr>\n",
              "      <th>max</th>\n",
              "      <td>23713.000000</td>\n",
              "      <td>2.000000</td>\n",
              "      <td>250.000000</td>\n",
              "      <td>200.000000</td>\n",
              "      <td>16020.000000</td>\n",
              "      <td>11000.000000</td>\n",
              "      <td>3.000000</td>\n",
              "      <td>3.000000</td>\n",
              "      <td>1.000000</td>\n",
              "      <td>1.000000</td>\n",
              "      <td>1.000000</td>\n",
              "      <td>1.000000</td>\n",
              "    </tr>\n",
              "  </tbody>\n",
              "</table>\n",
              "</div>\n",
              "      <button class=\"colab-df-convert\" onclick=\"convertToInteractive('df-a3cd4b81-fb1c-4010-97f2-f6620741f960')\"\n",
              "              title=\"Convert this dataframe to an interactive table.\"\n",
              "              style=\"display:none;\">\n",
              "        \n",
              "  <svg xmlns=\"http://www.w3.org/2000/svg\" height=\"24px\"viewBox=\"0 0 24 24\"\n",
              "       width=\"24px\">\n",
              "    <path d=\"M0 0h24v24H0V0z\" fill=\"none\"/>\n",
              "    <path d=\"M18.56 5.44l.94 2.06.94-2.06 2.06-.94-2.06-.94-.94-2.06-.94 2.06-2.06.94zm-11 1L8.5 8.5l.94-2.06 2.06-.94-2.06-.94L8.5 2.5l-.94 2.06-2.06.94zm10 10l.94 2.06.94-2.06 2.06-.94-2.06-.94-.94-2.06-.94 2.06-2.06.94z\"/><path d=\"M17.41 7.96l-1.37-1.37c-.4-.4-.92-.59-1.43-.59-.52 0-1.04.2-1.43.59L10.3 9.45l-7.72 7.72c-.78.78-.78 2.05 0 2.83L4 21.41c.39.39.9.59 1.41.59.51 0 1.02-.2 1.41-.59l7.78-7.78 2.81-2.81c.8-.78.8-2.07 0-2.86zM5.41 20L4 18.59l7.72-7.72 1.47 1.35L5.41 20z\"/>\n",
              "  </svg>\n",
              "      </button>\n",
              "      \n",
              "  <style>\n",
              "    .colab-df-container {\n",
              "      display:flex;\n",
              "      flex-wrap:wrap;\n",
              "      gap: 12px;\n",
              "    }\n",
              "\n",
              "    .colab-df-convert {\n",
              "      background-color: #E8F0FE;\n",
              "      border: none;\n",
              "      border-radius: 50%;\n",
              "      cursor: pointer;\n",
              "      display: none;\n",
              "      fill: #1967D2;\n",
              "      height: 32px;\n",
              "      padding: 0 0 0 0;\n",
              "      width: 32px;\n",
              "    }\n",
              "\n",
              "    .colab-df-convert:hover {\n",
              "      background-color: #E2EBFA;\n",
              "      box-shadow: 0px 1px 2px rgba(60, 64, 67, 0.3), 0px 1px 3px 1px rgba(60, 64, 67, 0.15);\n",
              "      fill: #174EA6;\n",
              "    }\n",
              "\n",
              "    [theme=dark] .colab-df-convert {\n",
              "      background-color: #3B4455;\n",
              "      fill: #D2E3FC;\n",
              "    }\n",
              "\n",
              "    [theme=dark] .colab-df-convert:hover {\n",
              "      background-color: #434B5C;\n",
              "      box-shadow: 0px 1px 3px 1px rgba(0, 0, 0, 0.15);\n",
              "      filter: drop-shadow(0px 1px 2px rgba(0, 0, 0, 0.3));\n",
              "      fill: #FFFFFF;\n",
              "    }\n",
              "  </style>\n",
              "\n",
              "      <script>\n",
              "        const buttonEl =\n",
              "          document.querySelector('#df-a3cd4b81-fb1c-4010-97f2-f6620741f960 button.colab-df-convert');\n",
              "        buttonEl.style.display =\n",
              "          google.colab.kernel.accessAllowed ? 'block' : 'none';\n",
              "\n",
              "        async function convertToInteractive(key) {\n",
              "          const element = document.querySelector('#df-a3cd4b81-fb1c-4010-97f2-f6620741f960');\n",
              "          const dataTable =\n",
              "            await google.colab.kernel.invokeFunction('convertToInteractive',\n",
              "                                                     [key], {});\n",
              "          if (!dataTable) return;\n",
              "\n",
              "          const docLinkHtml = 'Like what you see? Visit the ' +\n",
              "            '<a target=\"_blank\" href=https://colab.research.google.com/notebooks/data_table.ipynb>data table notebook</a>'\n",
              "            + ' to learn more about interactive tables.';\n",
              "          element.innerHTML = '';\n",
              "          dataTable['output_type'] = 'display_data';\n",
              "          await google.colab.output.renderOutput(dataTable, element);\n",
              "          const docLink = document.createElement('div');\n",
              "          docLink.innerHTML = docLinkHtml;\n",
              "          element.appendChild(docLink);\n",
              "        }\n",
              "      </script>\n",
              "    </div>\n",
              "  </div>\n",
              "  "
            ]
          },
          "metadata": {},
          "execution_count": 8
        }
      ]
    },
    {
      "cell_type": "code",
      "source": [
        "print(data[data['ap_hi']<=0]['ap_hi'].count())\n",
        "print(data[data['ap_lo']<=0]['ap_lo'].count())"
      ],
      "metadata": {
        "colab": {
          "base_uri": "https://localhost:8080/"
        },
        "id": "KUywk-U5oJRa",
        "outputId": "28a4592f-9357-4037-f90c-fcc12d6dfb31"
      },
      "execution_count": 9,
      "outputs": [
        {
          "output_type": "stream",
          "name": "stdout",
          "text": [
            "7\n",
            "22\n"
          ]
        }
      ]
    },
    {
      "cell_type": "markdown",
      "source": [
        "Systolic and Disystolic pressure can't be negative. So need to remove these entries"
      ],
      "metadata": {
        "id": "nxY6TFcRoda-"
      }
    },
    {
      "cell_type": "code",
      "source": [
        "data[data['ap_hi']<=0]"
      ],
      "metadata": {
        "colab": {
          "base_uri": "https://localhost:8080/",
          "height": 269
        },
        "id": "X2oqD96FqS6w",
        "outputId": "c9b84c3c-d74c-49d6-b589-6786a621a868"
      },
      "execution_count": 10,
      "outputs": [
        {
          "output_type": "execute_result",
          "data": {
            "text/plain": [
              "         age  gender  height  weight  ap_hi  ap_lo  cholesterol  gluc  smoke  \\\n",
              "4607   15281       1     165    78.0   -100     80            2     1      0   \n",
              "16021  22108       2     161    90.0   -115     70            1     1      0   \n",
              "20536  15581       1     153    54.0   -100     70            1     1      0   \n",
              "23988  18301       1     162    74.0   -140     90            1     1      0   \n",
              "25240  14711       2     168    50.0   -120     80            2     1      0   \n",
              "35040  23325       2     168    59.0   -150     80            1     1      0   \n",
              "46627  23646       2     160    59.0   -120     80            1     1      0   \n",
              "\n",
              "       alco  active  cardio  \n",
              "4607      0       1       0  \n",
              "16021     0       1       0  \n",
              "20536     0       1       0  \n",
              "23988     0       1       1  \n",
              "25240     0       0       1  \n",
              "35040     0       1       1  \n",
              "46627     0       0       0  "
            ],
            "text/html": [
              "\n",
              "  <div id=\"df-0545ec34-59c5-4fea-93ba-ed36bec6d317\">\n",
              "    <div class=\"colab-df-container\">\n",
              "      <div>\n",
              "<style scoped>\n",
              "    .dataframe tbody tr th:only-of-type {\n",
              "        vertical-align: middle;\n",
              "    }\n",
              "\n",
              "    .dataframe tbody tr th {\n",
              "        vertical-align: top;\n",
              "    }\n",
              "\n",
              "    .dataframe thead th {\n",
              "        text-align: right;\n",
              "    }\n",
              "</style>\n",
              "<table border=\"1\" class=\"dataframe\">\n",
              "  <thead>\n",
              "    <tr style=\"text-align: right;\">\n",
              "      <th></th>\n",
              "      <th>age</th>\n",
              "      <th>gender</th>\n",
              "      <th>height</th>\n",
              "      <th>weight</th>\n",
              "      <th>ap_hi</th>\n",
              "      <th>ap_lo</th>\n",
              "      <th>cholesterol</th>\n",
              "      <th>gluc</th>\n",
              "      <th>smoke</th>\n",
              "      <th>alco</th>\n",
              "      <th>active</th>\n",
              "      <th>cardio</th>\n",
              "    </tr>\n",
              "  </thead>\n",
              "  <tbody>\n",
              "    <tr>\n",
              "      <th>4607</th>\n",
              "      <td>15281</td>\n",
              "      <td>1</td>\n",
              "      <td>165</td>\n",
              "      <td>78.0</td>\n",
              "      <td>-100</td>\n",
              "      <td>80</td>\n",
              "      <td>2</td>\n",
              "      <td>1</td>\n",
              "      <td>0</td>\n",
              "      <td>0</td>\n",
              "      <td>1</td>\n",
              "      <td>0</td>\n",
              "    </tr>\n",
              "    <tr>\n",
              "      <th>16021</th>\n",
              "      <td>22108</td>\n",
              "      <td>2</td>\n",
              "      <td>161</td>\n",
              "      <td>90.0</td>\n",
              "      <td>-115</td>\n",
              "      <td>70</td>\n",
              "      <td>1</td>\n",
              "      <td>1</td>\n",
              "      <td>0</td>\n",
              "      <td>0</td>\n",
              "      <td>1</td>\n",
              "      <td>0</td>\n",
              "    </tr>\n",
              "    <tr>\n",
              "      <th>20536</th>\n",
              "      <td>15581</td>\n",
              "      <td>1</td>\n",
              "      <td>153</td>\n",
              "      <td>54.0</td>\n",
              "      <td>-100</td>\n",
              "      <td>70</td>\n",
              "      <td>1</td>\n",
              "      <td>1</td>\n",
              "      <td>0</td>\n",
              "      <td>0</td>\n",
              "      <td>1</td>\n",
              "      <td>0</td>\n",
              "    </tr>\n",
              "    <tr>\n",
              "      <th>23988</th>\n",
              "      <td>18301</td>\n",
              "      <td>1</td>\n",
              "      <td>162</td>\n",
              "      <td>74.0</td>\n",
              "      <td>-140</td>\n",
              "      <td>90</td>\n",
              "      <td>1</td>\n",
              "      <td>1</td>\n",
              "      <td>0</td>\n",
              "      <td>0</td>\n",
              "      <td>1</td>\n",
              "      <td>1</td>\n",
              "    </tr>\n",
              "    <tr>\n",
              "      <th>25240</th>\n",
              "      <td>14711</td>\n",
              "      <td>2</td>\n",
              "      <td>168</td>\n",
              "      <td>50.0</td>\n",
              "      <td>-120</td>\n",
              "      <td>80</td>\n",
              "      <td>2</td>\n",
              "      <td>1</td>\n",
              "      <td>0</td>\n",
              "      <td>0</td>\n",
              "      <td>0</td>\n",
              "      <td>1</td>\n",
              "    </tr>\n",
              "    <tr>\n",
              "      <th>35040</th>\n",
              "      <td>23325</td>\n",
              "      <td>2</td>\n",
              "      <td>168</td>\n",
              "      <td>59.0</td>\n",
              "      <td>-150</td>\n",
              "      <td>80</td>\n",
              "      <td>1</td>\n",
              "      <td>1</td>\n",
              "      <td>0</td>\n",
              "      <td>0</td>\n",
              "      <td>1</td>\n",
              "      <td>1</td>\n",
              "    </tr>\n",
              "    <tr>\n",
              "      <th>46627</th>\n",
              "      <td>23646</td>\n",
              "      <td>2</td>\n",
              "      <td>160</td>\n",
              "      <td>59.0</td>\n",
              "      <td>-120</td>\n",
              "      <td>80</td>\n",
              "      <td>1</td>\n",
              "      <td>1</td>\n",
              "      <td>0</td>\n",
              "      <td>0</td>\n",
              "      <td>0</td>\n",
              "      <td>0</td>\n",
              "    </tr>\n",
              "  </tbody>\n",
              "</table>\n",
              "</div>\n",
              "      <button class=\"colab-df-convert\" onclick=\"convertToInteractive('df-0545ec34-59c5-4fea-93ba-ed36bec6d317')\"\n",
              "              title=\"Convert this dataframe to an interactive table.\"\n",
              "              style=\"display:none;\">\n",
              "        \n",
              "  <svg xmlns=\"http://www.w3.org/2000/svg\" height=\"24px\"viewBox=\"0 0 24 24\"\n",
              "       width=\"24px\">\n",
              "    <path d=\"M0 0h24v24H0V0z\" fill=\"none\"/>\n",
              "    <path d=\"M18.56 5.44l.94 2.06.94-2.06 2.06-.94-2.06-.94-.94-2.06-.94 2.06-2.06.94zm-11 1L8.5 8.5l.94-2.06 2.06-.94-2.06-.94L8.5 2.5l-.94 2.06-2.06.94zm10 10l.94 2.06.94-2.06 2.06-.94-2.06-.94-.94-2.06-.94 2.06-2.06.94z\"/><path d=\"M17.41 7.96l-1.37-1.37c-.4-.4-.92-.59-1.43-.59-.52 0-1.04.2-1.43.59L10.3 9.45l-7.72 7.72c-.78.78-.78 2.05 0 2.83L4 21.41c.39.39.9.59 1.41.59.51 0 1.02-.2 1.41-.59l7.78-7.78 2.81-2.81c.8-.78.8-2.07 0-2.86zM5.41 20L4 18.59l7.72-7.72 1.47 1.35L5.41 20z\"/>\n",
              "  </svg>\n",
              "      </button>\n",
              "      \n",
              "  <style>\n",
              "    .colab-df-container {\n",
              "      display:flex;\n",
              "      flex-wrap:wrap;\n",
              "      gap: 12px;\n",
              "    }\n",
              "\n",
              "    .colab-df-convert {\n",
              "      background-color: #E8F0FE;\n",
              "      border: none;\n",
              "      border-radius: 50%;\n",
              "      cursor: pointer;\n",
              "      display: none;\n",
              "      fill: #1967D2;\n",
              "      height: 32px;\n",
              "      padding: 0 0 0 0;\n",
              "      width: 32px;\n",
              "    }\n",
              "\n",
              "    .colab-df-convert:hover {\n",
              "      background-color: #E2EBFA;\n",
              "      box-shadow: 0px 1px 2px rgba(60, 64, 67, 0.3), 0px 1px 3px 1px rgba(60, 64, 67, 0.15);\n",
              "      fill: #174EA6;\n",
              "    }\n",
              "\n",
              "    [theme=dark] .colab-df-convert {\n",
              "      background-color: #3B4455;\n",
              "      fill: #D2E3FC;\n",
              "    }\n",
              "\n",
              "    [theme=dark] .colab-df-convert:hover {\n",
              "      background-color: #434B5C;\n",
              "      box-shadow: 0px 1px 3px 1px rgba(0, 0, 0, 0.15);\n",
              "      filter: drop-shadow(0px 1px 2px rgba(0, 0, 0, 0.3));\n",
              "      fill: #FFFFFF;\n",
              "    }\n",
              "  </style>\n",
              "\n",
              "      <script>\n",
              "        const buttonEl =\n",
              "          document.querySelector('#df-0545ec34-59c5-4fea-93ba-ed36bec6d317 button.colab-df-convert');\n",
              "        buttonEl.style.display =\n",
              "          google.colab.kernel.accessAllowed ? 'block' : 'none';\n",
              "\n",
              "        async function convertToInteractive(key) {\n",
              "          const element = document.querySelector('#df-0545ec34-59c5-4fea-93ba-ed36bec6d317');\n",
              "          const dataTable =\n",
              "            await google.colab.kernel.invokeFunction('convertToInteractive',\n",
              "                                                     [key], {});\n",
              "          if (!dataTable) return;\n",
              "\n",
              "          const docLinkHtml = 'Like what you see? Visit the ' +\n",
              "            '<a target=\"_blank\" href=https://colab.research.google.com/notebooks/data_table.ipynb>data table notebook</a>'\n",
              "            + ' to learn more about interactive tables.';\n",
              "          element.innerHTML = '';\n",
              "          dataTable['output_type'] = 'display_data';\n",
              "          await google.colab.output.renderOutput(dataTable, element);\n",
              "          const docLink = document.createElement('div');\n",
              "          docLink.innerHTML = docLinkHtml;\n",
              "          element.appendChild(docLink);\n",
              "        }\n",
              "      </script>\n",
              "    </div>\n",
              "  </div>\n",
              "  "
            ]
          },
          "metadata": {},
          "execution_count": 10
        }
      ]
    },
    {
      "cell_type": "code",
      "source": [
        "data = data.drop(data[(data['ap_hi']<=0) | (data['ap_lo']<=0) | (data['ap_hi'] < data['ap_lo'])].index)"
      ],
      "metadata": {
        "id": "4YD-VgHsocGX"
      },
      "execution_count": 11,
      "outputs": []
    },
    {
      "cell_type": "code",
      "source": [
        "data.describe()"
      ],
      "metadata": {
        "colab": {
          "base_uri": "https://localhost:8080/",
          "height": 300
        },
        "id": "tBEiKwNNqrl7",
        "outputId": "142b8a5b-a673-4230-bc3d-013773111025"
      },
      "execution_count": 12,
      "outputs": [
        {
          "output_type": "execute_result",
          "data": {
            "text/plain": [
              "                age        gender        height        weight         ap_hi  \\\n",
              "count  68744.000000  68744.000000  68744.000000  68744.000000  68744.000000   \n",
              "mean   19464.158850      1.348583    164.359857     74.116847    128.775297   \n",
              "std     2468.210782      0.476525      8.190841     14.331747    155.059640   \n",
              "min    10798.000000      1.000000     55.000000     11.000000     16.000000   \n",
              "25%    17657.000000      1.000000    159.000000     65.000000    120.000000   \n",
              "50%    19701.000000      1.000000    165.000000     72.000000    120.000000   \n",
              "75%    21324.000000      2.000000    170.000000     82.000000    140.000000   \n",
              "max    23713.000000      2.000000    250.000000    200.000000  16020.000000   \n",
              "\n",
              "              ap_lo   cholesterol          gluc         smoke          alco  \\\n",
              "count  68744.000000  68744.000000  68744.000000  68744.000000  68744.000000   \n",
              "mean      81.272795      1.364686      1.225620      0.087877      0.053343   \n",
              "std        9.573730      0.678893      0.571479      0.283118      0.224718   \n",
              "min        1.000000      1.000000      1.000000      0.000000      0.000000   \n",
              "25%       80.000000      1.000000      1.000000      0.000000      0.000000   \n",
              "50%       80.000000      1.000000      1.000000      0.000000      0.000000   \n",
              "75%       90.000000      2.000000      1.000000      0.000000      0.000000   \n",
              "max      182.000000      3.000000      3.000000      1.000000      1.000000   \n",
              "\n",
              "             active        cardio  \n",
              "count  68744.000000  68744.000000  \n",
              "mean       0.803416      0.494821  \n",
              "std        0.397418      0.499977  \n",
              "min        0.000000      0.000000  \n",
              "25%        1.000000      0.000000  \n",
              "50%        1.000000      0.000000  \n",
              "75%        1.000000      1.000000  \n",
              "max        1.000000      1.000000  "
            ],
            "text/html": [
              "\n",
              "  <div id=\"df-1ad9cc70-3eff-4558-931e-95b95a75c96d\">\n",
              "    <div class=\"colab-df-container\">\n",
              "      <div>\n",
              "<style scoped>\n",
              "    .dataframe tbody tr th:only-of-type {\n",
              "        vertical-align: middle;\n",
              "    }\n",
              "\n",
              "    .dataframe tbody tr th {\n",
              "        vertical-align: top;\n",
              "    }\n",
              "\n",
              "    .dataframe thead th {\n",
              "        text-align: right;\n",
              "    }\n",
              "</style>\n",
              "<table border=\"1\" class=\"dataframe\">\n",
              "  <thead>\n",
              "    <tr style=\"text-align: right;\">\n",
              "      <th></th>\n",
              "      <th>age</th>\n",
              "      <th>gender</th>\n",
              "      <th>height</th>\n",
              "      <th>weight</th>\n",
              "      <th>ap_hi</th>\n",
              "      <th>ap_lo</th>\n",
              "      <th>cholesterol</th>\n",
              "      <th>gluc</th>\n",
              "      <th>smoke</th>\n",
              "      <th>alco</th>\n",
              "      <th>active</th>\n",
              "      <th>cardio</th>\n",
              "    </tr>\n",
              "  </thead>\n",
              "  <tbody>\n",
              "    <tr>\n",
              "      <th>count</th>\n",
              "      <td>68744.000000</td>\n",
              "      <td>68744.000000</td>\n",
              "      <td>68744.000000</td>\n",
              "      <td>68744.000000</td>\n",
              "      <td>68744.000000</td>\n",
              "      <td>68744.000000</td>\n",
              "      <td>68744.000000</td>\n",
              "      <td>68744.000000</td>\n",
              "      <td>68744.000000</td>\n",
              "      <td>68744.000000</td>\n",
              "      <td>68744.000000</td>\n",
              "      <td>68744.000000</td>\n",
              "    </tr>\n",
              "    <tr>\n",
              "      <th>mean</th>\n",
              "      <td>19464.158850</td>\n",
              "      <td>1.348583</td>\n",
              "      <td>164.359857</td>\n",
              "      <td>74.116847</td>\n",
              "      <td>128.775297</td>\n",
              "      <td>81.272795</td>\n",
              "      <td>1.364686</td>\n",
              "      <td>1.225620</td>\n",
              "      <td>0.087877</td>\n",
              "      <td>0.053343</td>\n",
              "      <td>0.803416</td>\n",
              "      <td>0.494821</td>\n",
              "    </tr>\n",
              "    <tr>\n",
              "      <th>std</th>\n",
              "      <td>2468.210782</td>\n",
              "      <td>0.476525</td>\n",
              "      <td>8.190841</td>\n",
              "      <td>14.331747</td>\n",
              "      <td>155.059640</td>\n",
              "      <td>9.573730</td>\n",
              "      <td>0.678893</td>\n",
              "      <td>0.571479</td>\n",
              "      <td>0.283118</td>\n",
              "      <td>0.224718</td>\n",
              "      <td>0.397418</td>\n",
              "      <td>0.499977</td>\n",
              "    </tr>\n",
              "    <tr>\n",
              "      <th>min</th>\n",
              "      <td>10798.000000</td>\n",
              "      <td>1.000000</td>\n",
              "      <td>55.000000</td>\n",
              "      <td>11.000000</td>\n",
              "      <td>16.000000</td>\n",
              "      <td>1.000000</td>\n",
              "      <td>1.000000</td>\n",
              "      <td>1.000000</td>\n",
              "      <td>0.000000</td>\n",
              "      <td>0.000000</td>\n",
              "      <td>0.000000</td>\n",
              "      <td>0.000000</td>\n",
              "    </tr>\n",
              "    <tr>\n",
              "      <th>25%</th>\n",
              "      <td>17657.000000</td>\n",
              "      <td>1.000000</td>\n",
              "      <td>159.000000</td>\n",
              "      <td>65.000000</td>\n",
              "      <td>120.000000</td>\n",
              "      <td>80.000000</td>\n",
              "      <td>1.000000</td>\n",
              "      <td>1.000000</td>\n",
              "      <td>0.000000</td>\n",
              "      <td>0.000000</td>\n",
              "      <td>1.000000</td>\n",
              "      <td>0.000000</td>\n",
              "    </tr>\n",
              "    <tr>\n",
              "      <th>50%</th>\n",
              "      <td>19701.000000</td>\n",
              "      <td>1.000000</td>\n",
              "      <td>165.000000</td>\n",
              "      <td>72.000000</td>\n",
              "      <td>120.000000</td>\n",
              "      <td>80.000000</td>\n",
              "      <td>1.000000</td>\n",
              "      <td>1.000000</td>\n",
              "      <td>0.000000</td>\n",
              "      <td>0.000000</td>\n",
              "      <td>1.000000</td>\n",
              "      <td>0.000000</td>\n",
              "    </tr>\n",
              "    <tr>\n",
              "      <th>75%</th>\n",
              "      <td>21324.000000</td>\n",
              "      <td>2.000000</td>\n",
              "      <td>170.000000</td>\n",
              "      <td>82.000000</td>\n",
              "      <td>140.000000</td>\n",
              "      <td>90.000000</td>\n",
              "      <td>2.000000</td>\n",
              "      <td>1.000000</td>\n",
              "      <td>0.000000</td>\n",
              "      <td>0.000000</td>\n",
              "      <td>1.000000</td>\n",
              "      <td>1.000000</td>\n",
              "    </tr>\n",
              "    <tr>\n",
              "      <th>max</th>\n",
              "      <td>23713.000000</td>\n",
              "      <td>2.000000</td>\n",
              "      <td>250.000000</td>\n",
              "      <td>200.000000</td>\n",
              "      <td>16020.000000</td>\n",
              "      <td>182.000000</td>\n",
              "      <td>3.000000</td>\n",
              "      <td>3.000000</td>\n",
              "      <td>1.000000</td>\n",
              "      <td>1.000000</td>\n",
              "      <td>1.000000</td>\n",
              "      <td>1.000000</td>\n",
              "    </tr>\n",
              "  </tbody>\n",
              "</table>\n",
              "</div>\n",
              "      <button class=\"colab-df-convert\" onclick=\"convertToInteractive('df-1ad9cc70-3eff-4558-931e-95b95a75c96d')\"\n",
              "              title=\"Convert this dataframe to an interactive table.\"\n",
              "              style=\"display:none;\">\n",
              "        \n",
              "  <svg xmlns=\"http://www.w3.org/2000/svg\" height=\"24px\"viewBox=\"0 0 24 24\"\n",
              "       width=\"24px\">\n",
              "    <path d=\"M0 0h24v24H0V0z\" fill=\"none\"/>\n",
              "    <path d=\"M18.56 5.44l.94 2.06.94-2.06 2.06-.94-2.06-.94-.94-2.06-.94 2.06-2.06.94zm-11 1L8.5 8.5l.94-2.06 2.06-.94-2.06-.94L8.5 2.5l-.94 2.06-2.06.94zm10 10l.94 2.06.94-2.06 2.06-.94-2.06-.94-.94-2.06-.94 2.06-2.06.94z\"/><path d=\"M17.41 7.96l-1.37-1.37c-.4-.4-.92-.59-1.43-.59-.52 0-1.04.2-1.43.59L10.3 9.45l-7.72 7.72c-.78.78-.78 2.05 0 2.83L4 21.41c.39.39.9.59 1.41.59.51 0 1.02-.2 1.41-.59l7.78-7.78 2.81-2.81c.8-.78.8-2.07 0-2.86zM5.41 20L4 18.59l7.72-7.72 1.47 1.35L5.41 20z\"/>\n",
              "  </svg>\n",
              "      </button>\n",
              "      \n",
              "  <style>\n",
              "    .colab-df-container {\n",
              "      display:flex;\n",
              "      flex-wrap:wrap;\n",
              "      gap: 12px;\n",
              "    }\n",
              "\n",
              "    .colab-df-convert {\n",
              "      background-color: #E8F0FE;\n",
              "      border: none;\n",
              "      border-radius: 50%;\n",
              "      cursor: pointer;\n",
              "      display: none;\n",
              "      fill: #1967D2;\n",
              "      height: 32px;\n",
              "      padding: 0 0 0 0;\n",
              "      width: 32px;\n",
              "    }\n",
              "\n",
              "    .colab-df-convert:hover {\n",
              "      background-color: #E2EBFA;\n",
              "      box-shadow: 0px 1px 2px rgba(60, 64, 67, 0.3), 0px 1px 3px 1px rgba(60, 64, 67, 0.15);\n",
              "      fill: #174EA6;\n",
              "    }\n",
              "\n",
              "    [theme=dark] .colab-df-convert {\n",
              "      background-color: #3B4455;\n",
              "      fill: #D2E3FC;\n",
              "    }\n",
              "\n",
              "    [theme=dark] .colab-df-convert:hover {\n",
              "      background-color: #434B5C;\n",
              "      box-shadow: 0px 1px 3px 1px rgba(0, 0, 0, 0.15);\n",
              "      filter: drop-shadow(0px 1px 2px rgba(0, 0, 0, 0.3));\n",
              "      fill: #FFFFFF;\n",
              "    }\n",
              "  </style>\n",
              "\n",
              "      <script>\n",
              "        const buttonEl =\n",
              "          document.querySelector('#df-1ad9cc70-3eff-4558-931e-95b95a75c96d button.colab-df-convert');\n",
              "        buttonEl.style.display =\n",
              "          google.colab.kernel.accessAllowed ? 'block' : 'none';\n",
              "\n",
              "        async function convertToInteractive(key) {\n",
              "          const element = document.querySelector('#df-1ad9cc70-3eff-4558-931e-95b95a75c96d');\n",
              "          const dataTable =\n",
              "            await google.colab.kernel.invokeFunction('convertToInteractive',\n",
              "                                                     [key], {});\n",
              "          if (!dataTable) return;\n",
              "\n",
              "          const docLinkHtml = 'Like what you see? Visit the ' +\n",
              "            '<a target=\"_blank\" href=https://colab.research.google.com/notebooks/data_table.ipynb>data table notebook</a>'\n",
              "            + ' to learn more about interactive tables.';\n",
              "          element.innerHTML = '';\n",
              "          dataTable['output_type'] = 'display_data';\n",
              "          await google.colab.output.renderOutput(dataTable, element);\n",
              "          const docLink = document.createElement('div');\n",
              "          docLink.innerHTML = docLinkHtml;\n",
              "          element.appendChild(docLink);\n",
              "        }\n",
              "      </script>\n",
              "    </div>\n",
              "  </div>\n",
              "  "
            ]
          },
          "metadata": {},
          "execution_count": 12
        }
      ]
    },
    {
      "cell_type": "code",
      "source": [
        "data['cardio'].value_counts()"
      ],
      "metadata": {
        "colab": {
          "base_uri": "https://localhost:8080/"
        },
        "id": "bvqvHPYLiVPo",
        "outputId": "fcfb986f-7a64-48c7-ff8e-50e46681cb64"
      },
      "execution_count": 13,
      "outputs": [
        {
          "output_type": "execute_result",
          "data": {
            "text/plain": [
              "0    34728\n",
              "1    34016\n",
              "Name: cardio, dtype: int64"
            ]
          },
          "metadata": {},
          "execution_count": 13
        }
      ]
    },
    {
      "cell_type": "code",
      "source": [
        "plt.hist(data['ap_hi'], bins=20)\n",
        "plt.show()"
      ],
      "metadata": {
        "colab": {
          "base_uri": "https://localhost:8080/",
          "height": 430
        },
        "id": "CIRSP4PhvzGT",
        "outputId": "04cc5889-1b98-416f-86bb-ee0c4663d445"
      },
      "execution_count": 14,
      "outputs": [
        {
          "output_type": "display_data",
          "data": {
            "text/plain": [
              "<Figure size 640x480 with 1 Axes>"
            ],
            "image/png": "[encoded data removed]"
          },
          "metadata": {}
        }
      ]
    },
    {
      "cell_type": "code",
      "source": [
        "plt.hist(data['ap_lo'], bins=20)\n",
        "plt.show()"
      ],
      "metadata": {
        "colab": {
          "base_uri": "https://localhost:8080/",
          "height": 430
        },
        "id": "9N4dQIEWtVRt",
        "outputId": "9061b179-e3f0-461b-b56e-7b82de161a74"
      },
      "execution_count": 15,
      "outputs": [
        {
          "output_type": "display_data",
          "data": {
            "text/plain": [
              "<Figure size 640x480 with 1 Axes>"
            ],
            "image/png": "[encoded data removed]"
          },
          "metadata": {}
        }
      ]
    },
    {
      "cell_type": "markdown",
      "source": [
        "It seems that the data is filled with outliers lets say by plotting box plots for each of the numerical feature"
      ],
      "metadata": {
        "id": "o6EN8jBHPBP7"
      }
    },
    {
      "cell_type": "code",
      "source": [
        "num_features = ['age', 'height', 'weight', 'ap_hi', 'ap_lo']"
      ],
      "metadata": {
        "id": "S4YAn_XpPO4a"
      },
      "execution_count": 16,
      "outputs": []
    },
    {
      "cell_type": "code",
      "source": [
        "for feature in num_features:\n",
        "  plt.boxplot(data[feature])\n",
        "  plt.title(feature)\n",
        "  plt.show()"
      ],
      "metadata": {
        "colab": {
          "base_uri": "https://localhost:8080/",
          "height": 1000
        },
        "id": "0Qu0HYjuP5vY",
        "outputId": "16468732-2011-4eba-ff5f-a771029009c3"
      },
      "execution_count": 17,
      "outputs": [
        {
          "output_type": "display_data",
          "data": {
            "text/plain": [
              "<Figure size 640x480 with 1 Axes>"
            ],
            "image/png": "[encoded data removed]"
          },
          "metadata": {}
        },
        {
          "output_type": "display_data",
          "data": {
            "text/plain": [
              "<Figure size 640x480 with 1 Axes>"
            ],
            "image/png": "[encoded data removed]"
          },
          "metadata": {}
        },
        {
          "output_type": "display_data",
          "data": {
            "text/plain": [
              "<Figure size 640x480 with 1 Axes>"
            ],
            "image/png": "[encoded data removed]"
          },
          "metadata": {}
        },
        {
          "output_type": "display_data",
          "data": {
            "text/plain": [
              "<Figure size 640x480 with 1 Axes>"
            ],
            "image/png": "[encoded data removed]"
          },
          "metadata": {}
        },
        {
          "output_type": "display_data",
          "data": {
            "text/plain": [
              "<Figure size 640x480 with 1 Axes>"
            ],
            "image/png": "[encoded data removed]"
          },
          "metadata": {}
        }
      ]
    },
    {
      "cell_type": "markdown",
      "source": [
        "Definitely ap_hi and ap_lo values are non-sensical. Lets calculate the z-score and by convention values more or less than 2 and -2 can be considered as outliers.\n",
        "\n",
        "![z-scores-formula-concepts-and-examples.jpg](data:image/jpeg;base64,/9j/4AAQSkZJRgABAQEAkACQAAD/2wBDAAMCAgMCAgMDAwMEAwMEBQgFBQQEBQoHBwYIDAoMDAsKCwsNDhIQDQ4RDgsLEBYQERMUFRUVDA8XGBYUGBIUFRT/2wBDAQMEBAUEBQkFBQkUDQsNFBQUFBQUFBQUFBQUFBQUFBQUFBQUFBQUFBQUFBQUFBQUFBQUFBQUFBQUFBQUFBQUFBT/wAARCAGQBAwDASIAAhEBAxEB/8QAHwAAAQUBAQEBAQEAAAAAAAAAAAECAwQFBgcICQoL/8QAtRAAAgEDAwIEAwUFBAQAAAF9AQIDAAQRBRIhMUEGE1FhByJxFDKBkaEII0KxwRVS0fAkM2JyggkKFhcYGRolJicoKSo0NTY3ODk6Q0RFRkdISUpTVFVWV1hZWmNkZWZnaGlqc3R1dnd4eXqDhIWGh4iJipKTlJWWl5iZmqKjpKWmp6ipqrKztLW2t7i5usLDxMXGx8jJytLT1NXW19jZ2uHi4+Tl5ufo6erx8vP09fb3+Pn6/8QAHwEAAwEBAQEBAQEBAQAAAAAAAAECAwQFBgcICQoL/8QAtREAAgECBAQDBAcFBAQAAQJ3AAECAxEEBSExBhJBUQdhcRMiMoEIFEKRobHBCSMzUvAVYnLRChYkNOEl8RcYGRomJygpKjU2Nzg5OkNERUZHSElKU1RVVldYWVpjZGVmZ2hpanN0dXZ3eHl6goOEhYaHiImKkpOUlZaXmJmaoqOkpaanqKmqsrO0tba3uLm6wsPExcbHyMnK0tPU1dbX2Nna4uPk5ebn6Onq8vP09fb3+Pn6/9oADAMBAAIRAxEAPwD9U6KKKACiiigApKWigAooooAKKKKACiiigApKWigAooooAKKKKACiiigAooooASilooASloooAKKKKACiiigAooooAKKKKACiiigAooooAKKKKACiiigAooooAKKKKACiiigAooooAKKKKACiiigAooooAKKKKACiiigAooooASlpAaM0ALRRRQAUUUlAC0UmaKAFooooAKKKKACiiigBKWiigAooooAKKKKACiiigAooooAKKKKACiiigAooooAKKKKACiiigAooooAKKKKACiiigAooooAKKKKACiiigAooooAKKKKACiiigAooooAKKKKACiiigAooooAKKKKACiiigAooooAKKKKACiiigAoopKAFooooAKKKKACiiigAooooAKKKKACiiigAooooAKKKKACiiigAooooAKKKKACiiigAooooAKKKKACiiigAooooAKKKKACiiigAooooAKKKKACiiigAooooAKKKKACiiigAooooAKKKKACiiigAoopKAFri/ih8YfCXwZ0W21Xxfqy6TY3NwtpDJ5Mkpklb7qKsasxJx6V2ZOK8++LHg/wlrFvpfiTxgV/s7wnO+sx+cwEKOsTpvcHrhXYj3ANAHJap+2T8KdEm0+HUNdvbGTUJRDaLc6Lex+c5/hXMPXkV7RbXCXUMUqZ8uRA67gQcEZHHavj34GaBqX7U/wAWpvjN4lRo/BOmE2vg/RpVIQ4J33bqepbgD2WvsXjjjJ74oAfuozXEeI/H2qaHqklpbeENW1WNRkXVqBsb9Ky/+Fq63/0T7XfyH+FAHpQbJPpWV4l8TaX4P0e51XWb2LT9Pt13SXExwo9vc+1SaDqk2r6TBdT2M2nSyDJtrj76c9DXy/8AtxatLdeKPg54SlJbR9e8Sot5FnAcRRSSqD6jdGvFAHtvgv4/eBfH2vf2Lo2t+Zqhj85bW6tZrZ5I/wC8glRd49xmvQ42LZNfHX7bVqnhXx98AvFemoLe/wBP8Q/Y90PyGSF1QeW2OqjHTpzX2JH3wc0ASUUUUAFFFFABRRRQAUUUUAFFFFABRRRQAUUUUAFFFFABRRRQAUUUUAFFFFABRRRQAUUUUAFFFFABRRRQAUUUUAFFFFABRRRQAUUUUAFFFFABRRRQAUUUUAFFFFABRRRQAUUUUAFFFFABRRRQAUUUUAFFFFABRRRQAUhNLVa6uo7OCSedxHDGpZnboAKAJt3vSbufWvBW17wX8bPHGp2Og/FTxNpurafEpudK0q6ks40XnDhZIhuB5+ZSRxV74F654M1jxV4jt/C/xQ13x5faX/oeoWepXzXENq+4HI/dqpbjGQTwTQB7cD60uRVW6uYraCSaaVIYowWeSQhVUDqST0Fcwvxi8B8Z8beHM+n9rQf/ABdAHZUlcgfjF4E/6Hbw5/4NoP8A4uuntrqK8hSe3ljngkXckkbbgw7EEcGgCxRmuK+IXxc8JfCmxS88U6wulwMeMQSztgd9kas2PfGKwPEf7Tnwy8K+HrDXdS8V28Wk3yLJDdw2808e1hkM3lo2we7YoA9UyPWlrynxb+018MfBVpZ3eseLbW1tbpFkjuIoJriMK2Npdo0YR5yMb8fpXo9rqdvfafBf288c1nNEs0cwb5GjZQQwPoQc5oAvUZryPVP2rPhVouuLpF74wt47tp1tg62s7weaxwqeeqGPJP8AtV6F4g8W6P4X0OXWNV1O207SokDvdTuFQKenPv7UAbdJmvG7f9rz4SXM0UX/AAmEcLyELELmxuoRMScDyy8Q3/8AAc10PjL4/wDgD4e6tZ6Xr/iKHT7y6dYolaCV13MQFVnRCqEkjG4igD0PNGa8y179oz4c+GPEum6BqnieC01TUpFhtUaCZopJG6J5oTyw3sWFejqxYDC8HmgCbcPWjcPWuR+IHxS8LfC/S01DxNq8WlW0riKMujyPIx6KiIGZj16A1g/D39oz4e/E/wARXOgeG/EP2/WbWJZ5rKWyuLaVEYkBiJY17g/lQB6ZmjI9a4Xx98bPBfwxuILbxJrkVjdzcx2sUMtzcMP73lRKzY98Yp/w1+MPhH4waFPrXg/W4tZ0y3ma3muFikiEci/eUiRVOR9KAO3zRmvJNW/ap+F2iatJpt54ugS4jlELyx2txJbo5ONrTrGYwfq3Fb3jz43+CPhlo8eqeI9fh0+xkjEwkSKS4Pl/3ysSsQv+0RigDvcgdTQGB6HNeTeLv2pPhX4FstAutd8aadZW2vKraacSSNchiNpCorEA+pArt/EHjzQPCugLrmr6tb6bpbIrpcXDFd4IyNq4ySR2Az7UAdFRuHrXnPw/+P8A4D+KWsXGk+GdfF9qdvGJpbSa0ntpRGf4tsqISOeor0SPufWgB9FFFABRRRQAUUUUAFFFFABRRRQAUUUUAFFFFABRRRQAUUUUAFFIaTdQAtLUYkp9AC0UUUAFFFFABRSU3fQA+io2f0o8z06UASUjUwSUFqAFYgDrXxR+1h4t1b4rfFLTPhXJYeItL+Hls63niHVbXR7qWO/VCGW1R0QggtjPOMA19psyr8zcgfpWFrHjLw/o+832pWdqy8kTSqp/WgqNOVT4Vc8d+Hvxhute+Lek+BfCXhbVNJ8DaTpLyXGoX+kzWsTuCixRRF0AyAHJ9c19A5+UkdPavAvF37aHw08GXDxTX7TOpwTAgYfnmvPdX/4KKeFZCw0a0ubgD+J4sZquVnbDAYiS+Cx9EeI/hvN4i1OS9TxPrWnK4x5FpdNHGPoAazB8G7j/AKHbxJ/4Hyf/ABVfOZ/4KIWpA/4ktxgdT5ZxT4f+Ch1nfKfsujTzBDhtsZ4qXaOjOiGU4mTtGN/mfYnh/S20XSYLN7u4vjGCPtF0xaR+epJr5+/bO+Gev+J9J8H+L/DNi2p6v4R1eLURZx8vJCcpLtHUsEdiAOa4Zf8AgoBFCVaXQLvyv4j5RzXS6N/wUE+Ht5ti1D7bZTMcbWh4/nSunsaVMoxtPXkMb4jWt7+1R8UfhTaaZomraf4b8M3jaxrN3q1jLaqWwojhQSKCzZDZIyBxX18jDccGvMPCP7RHgPxhxYaxbwkjOJyqZ/WvQ7PWLTUU8y0uIrmPHDRMGH6UzyqlGrT+NNF/NLVfzjjlee2ae0o288fSgxJaKjVskemPxprSYwR+tAEuR60V4p4u/actPD/xMvvA+leA/Fvi/W7K2jurltDt7YwxI5O0F5p4+flPH0qp8Jv2sNK+LnxL1fwNaeDPFOjaxpMXm38upw2v2e29EaSGeQbycDaOeecUAe7UtRxsdxBGPSpKACiiigBM0UxsDOePrVTTdYstWR3sr23vEV2jZ7eRZAGBwQSDwR3FAF6jcPWqOq6xZaJYzXuoXcNlZQqXluJ2CooHqSeK85+EP7SHgn44a94l0zwheTan/YMqw3V55JSF3IBwhPzHGeuAPTNAHqtFFFABRRRQAUUUUAFFFFABRRRQAUUUUAFFFFABRRRQAUUUUAFFFFABRRRQAUUUUAFFFFABRRRQAUUUUAFFFFABRRRQAUUUUAFFFFABRRRQAUUUUAFFFFABRRRQAVBcxxzQtHMiSRMMMsgBU+xFT1w3xk8Car8R/Ad9oei+IJ/C+pTshj1O2/1kWGBOPqOKAPkf9pmSC8/ay8B6L4X1aPRH1e0bSNavLaMZSMsSkKnorkPx6Zr67+HXwh8I/Cezmh8K6Ha6R56RRztCp3TeWgRC5PVsDk9SeTk15N4i/ZBsr/wL4d02w1mSDxJpGqJrJ1y4G+S4ulIy8meo+UDHYAV7h4N0nVNJ0ny9Z1T+179nZ3mCBFGTnAA7CgCTxV/ZjeGdTOthDpH2d/tiyEhfKwd2cdsV8LNpf7A5bm08MZJyf9MuR1/7aV9+3VpDeQvDPEs0Ug2vG4yrD0IrmB8I/BPJ/wCET0bJ6/6DHz+lAHxSdJ/YGZWBtfDGMc/6Zc//AByvufweukr4X0pdB2DRVt0+yeWSV8vHy4JOenrWb/wqLwTjH/CJaLj/AK8Y/wDCuotbSKxt0gt4khhQbVjjACqPQCgDw39s7xJZeCP2ffGWvNbW8mox6fJDbu6DzCWBG1WxnknpXgnjr4e6X8C/+Cd91oKKJdW1fTrezWaU7nlnldAq5PbJ4HSvp39ob4In48eFtO0F9VfS7a31GG8n2DPnqjBjGfYgY/Gs74+/s9/8Lp8NeF9CTVf7L07RtVtNSkjEYYziBwwjPscUAfMfx88DaX+z9/wT903wbY27XOqeKZLHSZ7uYb7iaaY7yzE84Xbgdh+Jru/2wfFmt/B39l3wZ4O0e4nt9Z1SPT/DxmtR++C7I4pPL9HxnHvXr37Rv7O6/Hbw74YsoNVOkXWg6nDqNvJsDxuUBGxl546Uz4ofs8SfF/wLaaX4h1159csr9NSs9SjQAQTI4ZQAP4QQOKAPHfEHwd134ifDHw78MfDXgxvCHhm3uba4vtW1VAsriN1diqEZZ2x97Peq3xo08/Ez9qz4V/Be4mafwloumPr+oWjni+MRWNEk9VHXHvX0Rpvw58V6hrGnXfiTxW1zbWDCSOz09fJSVgCAZMAZHPTpWF8Qv2fLjxB8aNE+Jvh7Wl0TxHp9hJpsokj3xz27sGwRg85HWgDyH9p7T9I8e/tTfAXwFa2dvLLo92+s3NvGijyrVFwFwBwPl6VY/wCCgVra654V8H+ArK3it7/xlr9tatcQx7ZSsWZiSy4OQsRwe2a669/ZN1G3+NGm/E3R/FbQ+IE0yTT7+S5iDmdnLfvBkcbQwUD0UV1Hjb9nVvHHxV8BeLtR1ySeHwojulrJGCZp2Ur5pPqAWH40AeGftZeDdNtW+Bfwq0mFVlu9bjllPWQJGq5kLdSSR1NfbCKViCA/dGM9DXjXxa/Z9ufHnxW8J+P9J1ldM1fQYJraNZYhIjpIVJPIOCNteteH9PuNM0m0tru7fULmKMLJcSABpGxycduaAPn39qr4P+LfEmv+EfH/AIJFrqeteE5Xm/sS+G6K6RlIbbz8snofc1r/AAP+KXhH4w6brXj2Dw8uh+M9JjbTdZjnXE8Dxgv5THuPnyDjo1bM3ws8f6X468R61ovjkJYaxt26dfQ+YlqVzzHkHB5rU+EfwL0/4X6Lr8L3DanqfiC6e81S9kGPPkZQhOOwCqB+FAHiH7COmn4mP4y+MuvFdQ1zXNYurS0kmAY2VrBK0Sxx5+6Ds7dc1p/tgzWHwL/Z91XTvA1pHoN34q1aO28yzJBMs7jzX68EordOnauq+Hv7N/iL4U6Dqnhbwv4v+w+Fry9nu4ojCDcWwmkZ5FRserNjniur+KH7PulfE74T2/gq7vbgfYzFNaahJIXmjmjbcrljyT1z9aAPMPjB4T8NfB39iXUtI+xwR2kelKrbkUtNO65Ltx8zFj1PNcD8R7uX4Vf8E2YLrW7aNvEn/CMQaY0lwu6djJGqFdx+Y/ez1r2zVP2d9a8fNoNl478SprOhaRsddNt4fLS5dMbWl4G4cdOlav7RX7P0Px68O+G9El1H+zNN0vVbbULiFFyLiOJ1YxewO3FAHE/s+/sneFNM+C3hiz8baRa+Kdfa2t7me+vIhuiZfmjSEjBjRc/dHXPOa8o8d+MH+J/7aTaBc+H9S8S+GvAdjG8Gk2Kb4jeON26QYwQF2Yz05r7otbVLWCKKMYSNFRAewAxXjGrfs+3unfGDUfiH4O1mPSNU1S2S2v4LiLzI5iudr4wcNg4z7CgDA+HPwt8TeI/2hbz4seJLGPw7GNM/sqx0mNw0hTIO+U8YPHTFfRyHIrj/AAF4J1Dwz9sutW1q41rUrxg0ryEiNMdAi9FA9q7BRtzQA6iiigAooooAKKKKACiiigAooooAKKKKACiiigAooooAKRvrilprdqAPP/jxH4vuvhjrFp4EuJLLxRcx+TZ3scaubd2OPM2sCCFznBHavk/40T/EnwTfeEfh94W+MXi7XvihrhUyqYdO+z2kKjMs0ii1yFGcAZHJHNfVfx0+NGk/A/4fX3iPUz5rxjyrW1Tl7mdjiONAOSSxAwPWvJf2d/BqeAzN8R/iTdRQ+PfGlysUYuD80CEFo7WP0GASR/s+1AH0D4P0nUNB8LaVYapqk2t6jbwKlzqE6orzSY+ZiFUAc9gBxW000ceN7qh6Dc2KcQCuO1eW/FzT7C8vrMXfh3XdYKocPpNw8ar7Haw5oA9P+1Q8fvk/76FPjmSTJRg30Oa+bDoGht/zInjT/wADpP8A4uvWPhHa2lnoN0lnpGp6MvnktDq0pkkY7V+YEknb/gaAO93UbqyfE1tq91pckeh3UNlf5XbLcJvQDIzxg9s1xv8AYfxO/wChj0j/AMBD/wDE0AejblbrkV8pftsfGT4n/DPwDf6t4Qs7bRtIs7+ztZ9WuvnnlE08cX7lDwMF/vMCPavfPC9h4zs9SL6/q+n31ltIEdrBsYN9cCvDv+Cj0n/GKus8ZI1bSe3T/iYW9AH0d4dme+8P6bcSyGSWW2id3PBYlASfzq+F25xzWV4ZkC+GtIB4P2OEn/vgV5v8Zv2mPCfwZ0+R769imv8AB22kbhnP4CqXMzSnSnVdkrnq895FbZMsiRhRksxwK8M+K37YXgf4btNbf2hHfaogIFvG2RXyH40/aC+JX7QV1LZ6DDcaFoEjbRJyGIPfNaHgX9mLTNLkjv8AX5Tq9+3zGSQlua6qeHb1Z6Cp0MOr1nfyLHij9rr4nfFm4eDwhp8ukwH5RJjr78iuZX4F+NviMwuvGHiG6WYncVU4zX0Ppuj2emQpFa20cKIMDaoFXSmWJxzXVGikc9TNnH3aEbHj2hfs1+GbSNYr+A6iyfxyMf8AGuw0/wCEXhHTcLBo8KjpXYLHt6frSquMccVtypaHmyxlee8zlNU8A6DHpN6E0uEbYXI49jXnv7OPhvStUuPEC3FhG3luAB6cn/CvZdV/5Bl+fWCT/wBBNeX/ALLv/Hz4nH/TVf5tXl5hFeyujuyXEVP7ThFyvoetL4B0Fo8HT4yPSsfVPgv4N1UHz9Gt/MbowXGK7lF4xinbRnO0H8K+XUp20P1+54H4j/ZR0nUnSTT72bTDGSR9ncjNYMWj/GL4UyE+HdZmudMh5McgDbhX00Yw2eMU3yQykcY9D3reNeotCZQpzVpq6PM/AX7d95plymm+NtFNmiYVr3nBNfU/gT4ueGfiFYpc6RqUUytxt3AHNfPnir4Z6B4utzFqNjGx6jC968P8RfAnxL4B1L+2fB2qTQqjbltY3O38q7Y4q6szw8VkeHxGtB8rP0lXHmckE0p+Xkc8V8TfCP8AbbvNHvo9E+IVnLZXCnZ9ukXC19b2fjay1zwrNrOgldX/AHLSQxQMMyHHA/GumMlI+HxeAr4N2mtDxb9pT4iW/wAIbWTS/A+mRXPxO8ayi2tY1JZicBfNfnhVGPau1/Zp+A9n8Bfh3DpHnHUteu2+16xq0o/e3t0/Lux9Mk4HYV4L8ItL8Zaf8SfE/wATvHngbXNR8YXRa30qzXY8Njar91EIOAWOST15HpXv/wCznq3j3XvBN3qvxD099F1q81G5kh0t2Rja2/mt5KEqSCdm3vVnnHpuoyXEFjPJawrPcqhMcbvsDHsC3avMm8cfE3cf+KE0kjPH/FQIP/adenX1pFqVnNazbvKmUo2xipwfQjpXAf8ADP3hPcT/AMTQE9calN/8VQAmieLfiDearbRX/g7TbGxdwJZ49aWVkHchAgz9K9GZj+PpXCaP8EPDOh6hbXtr/aInt3Dp5moSuuR6gtgiu+2igDzzxN8bPCHh2+u9M1DVRBeQZV0KE4yM/wAiK+e/2QPjd4M0HwZ4lhu9UWGR/EN/Kv7s4IMzkGvsC4BMcgHUoQK8Z/ZZ8G654J8I+IbXXbGSyuLnXb25iSQg74nmYq3HqCKAPSdQ0nQfiN4etxe20eq6RMVnSGbIR8ZwWUfeHPQ5FfLn7HNlb6b+0n+0PbWlvDaW0WrWqJDBGERR9mhwAo4FfWPiLVn0LSpr2KxuNRePpb2wBdvpmvkv9mnTfGvgz45fFbxDrvgPVNP0vxZqMU9lJujfCJGkeXAYkfcz+NAH2XRTVanUAFFFFABRRRQAUUUUAFFFFABRRRQAUUUUAFFFFABRRRQAUUUUAFFFFABRRRQAUUUUAFFFFABRRRQAUUUUAFFFFABRRRQAUUUUAFFFFABRRRQAUUUUAFFFFABTdvpTqTcN2O9ADfLHfrTgMUZozQAtFJuHPNFAC0UmaKAArnPak246Uu4Ubh0oATbznNG386XcMZozQAbaQIKR5FjUsxwB1NVrHWLHUnkS0u4blo/vrE4Yr9cUAWtlG3nNLRuFAARkYpPLHOTntShs9qN3OKAE20u3rzRuqnNrVhb3a2st5DHctwsLOAxz6CgC5ik2+9LuHrRmgAxSbQKUMCM0m4etAC4pNvvVW/1ix0tUN5dw2obhTM4XP51ajkWRFdGDKwyCOhFAC7fzoC4zRmigBaKQsB1NGRQAtFJmjNAC0UlG4UALRSbhS0AFFFFABRRRQAUUUUAFFFFABTW5x2p1J6UAeRfGD9m3R/jN4l0DWtU1zWLCfRJPNtIbCZUiEg/iKkHJqjcfsu6fqvjvwr4p1rxd4j1u68NztcWVpd3Km33mNkyyBecBjivbKKAI9ppdlPooAYVPrSFfQYqSigBvPFG40jSBc5NN3buV5FMLXI5FDHAOT1xXin7QP7PujfHDQ7m28VeK9b0vw7uinexsrhYoVaJg6tyDzuUH6ivV/EniKx8N6ZNf6jcrZ28Kli7MAOK/Or49/tK+I/2gfFT+EfArzW2iRyFJrmMkebzjqO1aU6bmzqp4d1I88tEjpvin+1cfAtm/gTwFq2p+K70BYRfXziQxqBtCqQBXAeBfgRqvjTUF8QeObmS6uJWDiCRjkV3fwk+A2m+A4Eu7uIXeqNy0smCQfyr1UwsTz0r040lFBWxSpx5aOhT0nRbHRIRb2NukESjAAUCrzL0xxSCPDZ/rTtpra/Q8mU3J3kKtOpBRQZXCg/dNFL/CaQirqy/8Sm7P/TCT/wBBNeX/ALLv/H54mH/TVf5tXqOrf8ge7/64Sf8AoJry79l//j98S/8AXVf5tXl5j/BPTyX/AJGkPQ99XilptOXpXynQ/ZrC0mAeopaKLtDI2FJtVVwvPqDTmB5xTRGVOR1oEcP49+EGg+PLJ4ru1VJTyHUYOa8X07WPiB+y/rxuNPkm1Lw6zbpEYkhE9BX1A0WSSD9Kq6hpVtqlu9tdwJcwuMFJBkVtCq4vUmpCNanyVFc774LftBeHvi9o8MtlcpBfsv7y0kPzj3r1cZ3bh0PWvzm8cfBnWfhzrR8V+BbuS2lQ75bVGwrDrgCvor9m39qvT/iVGmh60f7P8RQjY8MnAZh6Zr2KUlUWh8DmGUypSdWivd7H0nGcseelS1ViYK2c8NUqzBjVo+YJqKYsis2B1p9MBjJuz6UgTaxI79akooAZt68Umw+tSUUANC+9LS0UAFFFFABRRRQAUUUUAFFFFABRRRQAUUUUAFFFFABRRRQAUUUUAFFFFABRRRQAUUUUAFFFFABRRRQAUUUUAFFFFABRRRQAUUUUAFFFFABRRRQAUUUUAFFFFABUFzPHawtJI4jjQFmZjgADqTU9QXMMd1C8UqLJGwwyt0I9KAOY8OfFLwr4u1i80nSNctL3UrNd89tG48xFPRivpwead4V+Jnhbxzqmp6doGvWWq3mlymG8itJRIYHH8LY6Gvj79or7Ppv7W3gjRfB2qQaJeeILBtL1iaBT+6jDEqoI4DkPwD7V9XfC/wCCvhH4Px3X/CM6VHYSXiQpdTLy03loEVmPc4HJ70Adw8iQqzyOEQDJLHAA9TWcPGGgjrrenD/t7j/xpPFUOnT+HdSTV3VNKa3dbpmYqBGR83I6cV8Vf8IH+xhyT4h0wYOD/wATKegD7UbxjoGf+Q5pv/gXH/jWtDMk0avG6yIwyrKcgj2NfCbeBf2LP+hi0z/wZz19reE4dMt/DWnR6M4l0pYFFqysSDHj5Tk+1AFbx1400jwF4fuNW1zU7fR7CIfNeXRxHGfVj2FcN8L/ABsNJ+Ho8Q+JvHWn+JLC/nee01O2VUiMLElEXA+bA7+1cj+3t4kTQf2afFECpHJfalF9htI5FDBpn+VR+ZrpvD3hfRfh1+zrYJcWUIt9D0Rp40mUYRlhJ6fp+NAHUw/GbwRP4Xj8RQ+JLGfRmdkF1DMGUsv3hx6d/TvXQ+G/FOk+M9FttW0PULfVdNul3Q3VtIHjcexFfEP7K/hPTfAH7IfjT4meIWWf+2V1DUIIpl/d2kLZRUVTwCWGSfcVd+APiG+/Z6/4JvjxY+X1JNMutThgckBSzOyKPQEEfnQB9XeI/i94J0O8m0rVddsluAu2eBnD7FPB34zgH3r5m/YB8K6FB4o+NXjvRLaCz0vUtcNlC1ugEbRQJv3rjjBMzdPSt74d+F9K+D/7IOs+K/E5i1LWtS0ma/1LULgAvNJKhxjPTlugrqP2K/DqfDn9lPQ5bqFYXkguNTn44ZWZnGf+A4oA6j4f+PI/iV8VdV1Hw98Q9N1nwtYW4hl0CyVWkgmAwzStjIO7Pymu3sPix4R1LxU/hy11+xn1vY0os1mG8qpAYj1AyORXy9/wTV0WDVPBnxJ8epChtfGPi3Ub61cDH+jCd0VR7fLV2z0ey1T9vaOGzghtrHw34alhljVcZ85kOWP0U0AfScHxW8JXviceG4Nesn1to2lWzEgLuq43FR3xkZx61xOl+Oj8QPjhb23hf4hafLpGi2bjV/DEUYe4eQkhJGbGUAJAx3xXB+FdD0r4lftMDxToUMcXhfwTYy2C3cS/Jc3UpDSgN3CBU55+97VyX7E9ra+M/j38fviRFEkYn1v+w7aSMYWSGAKNw+pU5oA+r/FXjrw/4FtY5tc1W206OVtqefIAWb0UdSfpXx18XIvBXxn/AGyvhH/YZtL3UNPjm1G7vbdcSoIyuxZDjIzubAPvXRfBGH/hf37TfxK8Xa9tvdJ8I3f9i6RZvzHGwJLS4PGSF/Cq3wN07TfG37bnxU8V6faxDTdKsbXSFeNflFwvmNJjHs6UAfTQ+Lng4+Krfw0fENl/bdwzJDZmYb5CBkhfUjB6Ve8RfEHw94S1TStO1nV7XTr/AFOQxWUE7hXnYdQg7nFfKvxd0S08T/t2fCDw3pFulrDodtc61fSQrja212QMeuGOB+NS/ES6g+KP/BQjwJoUTLdWvgvR7nUL2LOQkspRUz7jn86APrHxF4o0nwnpsmoazqEGnWMfWW4kCDP49a5nTfjl4E1jUrawtvEtk19cSCOG3Z9kkjHkbVOCeK+e9Z1Jfjn+2w3g6/kMvhjwXpsd+1lk+XPcys33x32hBj6moPEug6P45/4KD+FLTT4Yv+KS0eS9vEhUBNzoUQNjuCw/KgCf/gpLo2ieIPhV4T0m/wBNtr3WdX8S2em6fcSRhpbfdud2QnkDbGQceor6v8M6Svh/w5pOlr92xtIbYfREC/0r5E/aJmT4lftxfBLwLG3nWehwXmv6lb56YCJAx/Fm/Ovs2gDF8VeMdE8F2P27XNRt9OtiwQPcOF3MeAB6n2FYHhj41eCPGXiN/D+j+IrO91xYTctp6vicRggb9h525I5xjkV5R+1t8L/GXiXUvBvjTwbbW+t3vhS6N1J4fvGKx3yFSrAHkbgCSoIxkDpR8D/Hnw8+Ln9q/FWx8Of2H418P2M+l6rbzRhJ7VOJGjbHBBMQIP8As0Ae0+KviN4b8DyQx63rNrYzTDMcUj/vWHqFHOKk8H/EDw58RNMk1Lw7qtrq9nDI0TzW7hlRh1U+hGDkV8u/sO2a/GNvG3xe8SldVv8AWtZntdNSb50trKI7EVAehOCT9a0v2tEtv2e/gHqem/D61TQ9Q8VaxHY+ZCcFJrudUaUe+ZCcUAe56j8d/AWl3z2l14osIpElELt5gKK56KW+6D+Na3i74neFvAlil3r2t2mnWskfmrLNKNvl/wB//d9+lfOXx/8Ah/4d+Ev7CvibT5baFbiPSox9ocZmmumZfmDddxOa5b4tOfCv/BN+1utfjS78SXnhSDTYJ7hN0haaP90nPfDAUAfU3iD44eAvCsOkTat4s0uxXWNv2DzrlB9o3fd2DPOc9q6bVvEml6Do7apqN/DZacqhzcXDhVwenJr54+C/7K/hnWPgx4Qi8e2CeIdZjtrS58+4yGgePa6KvoAVH1xXmPxf8dXPj39r6w8DXWj6vrXg/wAH6cL+fTdKjRhNdOdsRcM6/KFV6APrfwr8YPB3jTWpdH0bX7O+1SKMTNZo4EoQ9G2nnHvXa18rfDv4S+IfGn7UVr8XtU0KPwbo2kaM2j6bpYYGe6D7t0kwUBVI3cDLcAc19U0AFFFFABRRRQAUUUUAFFFFABRRRQAUUUUAFFFFACZozTdwHWmtIo6UBvsRSgPkE8Dk1k694ktPDOjXGo6hIsFrCCxZiB2q5q2rWuj6fcXl5IsMEKFmdjgYr86f2hPj3rnx48Zf8Id4UaUaKrlJpo+B1xVwj7R2R2UMO6qc5fAtzP8Ajr8bfEH7SXjSbwt4cllh8OpJ5byRkgH15r0z4afDPSfhro8NtaRKbop+8mA5z9ab8L/hbp3w50OGCBA93jMkrDJ3V2qx9s/8Cr14QUFYxxmL5v3VL4USRt8tOpijbxTqt6nj3drBRRRQIKKKKACl/hNJS/wmgCtq3/IHu/8ArhJ/6Ca8u/Zf/wCP3xL/ANdV/m1eo6t/yB7v/rhJ/wCgmvLv2X/+P3xL/wBdV/m1eXmP8E9TJf8AkaQ9D3ynL0ptOXpXyfQ/ZxaKKKAENJk06igBuTR3p1FHW4Ec0ayKNw3L3WvCPi98Ebk3jeKfBziy122JlGz5d+OT+le8tzTG6hSNwb+H1raNVwloRJXRj/ssftQR+NbQeGvE5a016AbD53ymQjvzX1CrqqqFG5W5zXwH8avg/dyXK+LvCw+ya9aHeY4+BMO549MV7j+y3+0dbfEDSV0XWJfI120/dyRycbiK9qE1NHw+a5byt16S+R9Hx/601YqrHJUok4qz5FO5LRTFbdT6BhRRRQAUUUUAFFFFABRRRQAUUUUAFFFFABRRRQAUUUUAFFFFABRRRQAUUUUAFFFFABRRRQAUUUUAFFFFABRRRQAUUUUAFFFFABRRRQAUUUUAFFFFABRRRQAUUUUAFFFFABXn/wAcPBfiX4gfDvUdE8JeJf8AhEdemZDb6ssfmeThgW+XvkZFegUm0c8daAPl7xR+x9cXPgHw3b6N4kRPHOj6pHrUniHVITKLy5XGTKqkHYdoGARgCvevAem+ItO0JF8U6rbavq8jGSWSyg8m3TPOyNTlto6DcSfUmul8tc5xzTtooAgvLO31CzltrqGO4tplKSRSqGV1PUEHqK8/X9nH4Vbif+Fc+Fjn/qD2/wD8RXpFJgUAedf8M4/Cr/onHhX/AME9v/8AEV39lZwafaxW9rDHb28ShI4olCqijoAB0FTUUAeQftMfBK9+OXg/TdL03U7XS9Q07UoNTgkvYTLA7ROGCOqkEqSOxFVvH3wl8ZfEL4FeJfB2o+KLKLX9ZtzAt9b2hjtrVSRlUQHdtxkcsT717Oy7vb6UFQaAPFPFX7OsPiL9l26+D8Go/ZIp9JXThfiPIDBlbft9CwPHvWEv7OPiHxZ8AtR+GfjPxHYyWk+ipotu2iWRgihCR7BN85Zi5xk84z0Ar6JKg0mwdaAPlnxF+yv4y+I3wNufh94y8aafMIbEWdhJpNpJBFuXGyScFyzEAdFIHPSvRfh/8KvFul/DO88KeJ/Edjeb9LXS7caTamGGFVQr5gDlnLHIzliOOAK9g8td2cc0eWuc45oA+fP2U/2f/F/7PfgnSPB+p+KtN1Lw/o6zLa2+m2JhaYySM+6dnLHIL/wbRxzmuU+Iv7HfiXxl8d9d8aaZ8RLrw1oGv2kVnqen6fAoupUQ/dWYg7ARkHGDzwRX1fsH9aPLXnvQByvhL4eaP4F8Ew+F9DtvsOmQwNEu0kuSwILEnksSckmvGf2af2cfF3wCiudHl8WWF94a/tS81FYrSwK3Vz50juFndyQdu7qgXpX0f5YHIHNGz1oA+b/B37N/i74dfEDx5c+HPFen23hPxhe/b7q1ls2a+tZDncIZAwQKQSPmU9ah+Bv7Mnir4HeLvFL6Z4ssD4V1vVv7VeP7I73+fLRCjSuzKVJXPCg88GvpfYAMAYFJt/KgD568Zfs/eLW/aM/4Wl4P8SaXp0l1pi6Xf2eqWbz4jHG+JlZdrAcjdkZ6gjisHwz+yh4o+H/x017x54c8YWfk6/p8NnfyajaNLfeYr7nljcERjdgDBQjFfUfljjt9KXYNwPOaAPnPUf2b/E2hfHS8+IvgzxFp1hNq+nxafq0Gp2bSs3llv3sRRlCudx+8COBxWZ4f/ZY8UeAvjNq/jTwz4us449atorfUptSs2mvyylSzxtkRjJHQoQM9K+nmjVuv1pdoxigD5u8Tfs0+JpP2nR8XvDfifT7O5u/Dy+H7yDULJpnSMOr+dAVYKr5X+IMOelfRFjDJb2FvDNO93Kkao88gCtIwHLEAAAnrwMVZ2igIBQB4dq/gD4w6V8RNf1vwp420CTRdUVdmleIrCedbRgAMxmKRMdOhzVr4H/ACL4Y6N4s/trUF13XvFtw1xrF5HCIonyrKEjTsgDNjOTz1r2cr2HSk2A8kc+tAHzD8LP2bfiJ8G9H1bwf4X8Z6La+Cbm/nurV5NOkbVLNJTuaNJN/lHBLYLIeMV3Pxj/Z4tPit8KLDwlJrV3HfabNb3lnq1wRJKLiF1dJH4wfmUEgV7L5K/X60CMDHU++aAPmzxB+zj45+MU2gWHxS8WaTqHhXSJ47o6P4es5bYX8kY+Q3DyO5IHXCFQTXSftNfs/3vx58LeHPDljqttouk6fqdvfXcLwl/OjiIKxoAQF6d+K9wCgdBQEA6DFAFeKMJHHGgCBF2jGB09q8I8VfAHxLpXxov/iX8Pdc0nTtY1SzSy1Gz160luLeVUJKMvlOjKw3N3xz0r3/AGgDAyBQsaqcigDz/wCGvgfxH4dvNT1XxT4nm8QatqGzdDEgisrUAAbII8ZAyCcuWbnrXoK0m0elLQAtFFFABRRRQAUUUUAFFFFABRRRQAUUUUAFJ2pnmjft74zS5NAEbLnnNQyXEcKOznaFGee1Pm+Rs9umK+Xv2zf2kofhr4bbw/o83meIb5dirGclQeKuMeZ2NqNF1Z8q26njf7a37UU2sX1z4I8MXRREPl3E8Z+97ZHvTP2ffBdp4c8HwXoiBv7jmSYjJP0NeOxfC6fQfhzL4i1lTLq16Q7NLyy5NfQnwjQr4F07k4Ir2adFU6fOeZjM1f1v+z6WkUtfNnbpT6alOqvMx8wooopAFFFFABRRRQAUv8JpKX+E0AVtW/5A93/1wk/9BNeXfsv/APH74l/66r/Nq9R1b/kD3f8A1wk/9BNeXfsv/wDH74l/66r/ADavLzH+Cepkv/I0h6HvlOXpTacvSvk+h+zi0UUUAFFFFABRRRQA09aF60uKAMVVkAyTDKwboRg18c/Fi7ufhx8Uv7d8PhoZEcPKsP8AFjrxX2Q3Q186a9p8Gp/Gb7JcRrLA6kFWGRzXVQk1c+fzSvLD8ltm7H1z+z18bLD4zeD4L2GQJqMKAXEBPzK2OeK9bjyetfmpDdap+zD8Vk1jThMfDs0mJ1Unb83GT+dfoZ4F8XWfjbw3ZatZzpNFcJv3RnI+lenTlzq6PlM1wP1ap7SC91nSLT6g80A4qZW3VoeEtVcdRRRQAUUUUAFFFFABRRRQAUUUUAFFFFABRRRQAUUUUAFFFFABRRRQAUUUUAFFFFABRRRQAUUUUAFFFFABRRRQAUUUUAFFFFABRRRQAUUUUAFFFFABRRRQAUUUUAFFFFABRRRQAUUUUAFFFFABRRRQAUUUUAFFFFABRRRQAUUUUAFFFFABRRRQAUUUUAFFFFABRRRQAUUUUAFFFFABRRRQAUUUUAFFFFABRRRQAUUUUAFFFFABRRRQAUUUUAFFFFAEZA3Bsc0iuWB4xzj60OwFVbq8SxtpLidwkKAkk9sUeQ0uY4/4w/ErTvhf4J1DWr2YRmOMqgPXdg4r85/hxo+ofHX4jX/jXxFG8lpHLm1V+QVHQ11X7T3xM1L49fFSDwbpDMdJs3/fiP7rgHvXrXhHw3b+E/D9rplqojSBAuQPxP8AOu/D09bs9OrP6hRdKPxSOK+PyqvgOZVUKo24X05Fbvwf/wCRD0/PPH9Kwv2gOfA0ufvZH863fhAf+KD07/dr2Kn8I/NE75s/Q7RRS0i0tcx9ItgooopAFFFFABRRRQAUv8JpKX+E0AVtW/5A93/1wk/9BNeXfsv/APH74l/66r/Nq9R1b/kD3f8A1wk/9BNeXfsv/wDH74l/66r/ADavLzH+Cepkv/I0h6HvlOXpTacvSvk+h+zi0UUUAFFFFABRRRQAUhpaRqoBHPyE18+X/wDyXSMe1fQbfdr591XB+PERX7oABrqo/aPmc71VJf3keqfEbwTb+OvDV1psow0iZBx3615x+yj8X774S/ECb4d+JJGjt5nxbMx+VP8A9de4r9McY9a8H/aP+GcmqWcfiXSlaDVLFxJvi+82KVKs4ux7tShDGUHSkuh+gNvNHNsK8hhkMOhq2v5V88fsk/HOD4o+EY7C5lxq+nqIpo3+9wMZr6GVhk16++p+U4nDywtR0n0H0Um4UZpnMLRRRQAUUUUAFFFFABRRRQAUUUUAFFFFABRRRQAUUUUAFFFFABRRRQAUUUUAFFFFABRRRQAUUUUAFFFFABRRRQAUUUUAFFFFABRRRQAUUUUAFFFFABRRRQAUUUUAFFFFABRRRQAUUUUAFFFFABRRRQAUUUUAFFFFABRRRQAUUUUAFFFFABRRRQAUUUUAFFFFABRRRQAUUUUAFFFFABRRRQAUUUlABS1Tk1SzhYrJeW6OP4WkUf1p8F7Bd8wXEUuOvluG/lQBZopFOR60tABRRRQAUUUUAFFRzSxwqWkkWNf7zMAKit7y3uiwhuIpgOvlsG/kaALNJQGB6HNFAFV5P3uP4/T2r5M/bQ/aOTwrpbeD9Bl87Wb0eU/lHlM9vY16h+0p8dtL+DfhW4nklH9qToVgjB5yeBXxR8HfBOofELxFceOvFgMtzO++NH6fhW9KHM7nrYelGjH6zV26I7D4D/DJ/Cejrqd9l9Tu/nkeTlua9cXlME85pi7QqhBhccCpK9ZK1jwMTXdas5yPMP2glx4Im+o/nW38IP8AkRNP/wB3/CsX9oT/AJEmX/eH862vhB/yImn/AO7/AIV0zd6R8bC/9r/I7VaWkWlrlPqWFFFFMQUUUUAFFFFABS/wmkpf4TQBW1b/AJA93/1wk/8AQTXl37L/APx++Jf+uq/+zV6jq3/IHu/+uEn/AKCa8u/Zf/4/PE3/AF1X/wBmry8x/gnqZL/yNIeh75Tl6Uz+Gnr90V8mfs4tFFFABRRRQAUUUUAFNanU1qYAfu18+aj/AMl0T6ivoTtXz7qn/Jdo/qP6V1Udz5jO/wDlz/iPfqiuII7qGSGVQUZSpB6c1KW/lSKobrXLK/NdH0Ub8l0fL/iS11P9nf4l23ivRUc6fNIGuUj+6VzyTX6A/DP4jaZ8SvCtpq+nzrMkiAvtOdp9K8D8YeFLLxdolxp92gZZFIBI5H0rw34O/ELVP2YfiNJoWryM/h68fCs2dq5PGK9OhWvaJ4+bYBYyl7WmvfR+jasCwwDmplrL0HWrXxBYW99ZyCWCZAyspz1rU6c13n5q1KLcZqzQ6iiigQUUUUAFFFFABRRRQAUUUUAFFFFABRRRQAUUUUAFFFFABRRRQAUUUUAFFFFABRRRQAUUUUAFFFFABRRRQAUUUUAFFFFABRRRQAUUUUAFFFFABRRRQAUUUUAFFFFABRRRQAUUUUAFFFFABRRRQAUlLTX+6eM8UAeSfGP9qL4d/AXULO08b67/AGK92peFpImKv7Z9a7zwP42034ieGbLxBossk2l3ib4JZIzGXX1wecV+bX/BT69f4h/tHfCH4eW0K3W+9juJUXBO3eu4H/gJY/hX6PWun3PhrwHBZaJBafaLKzVLeK7do4MqowHZVYgcdgaAPP8A4rftReFfhj460jwQ3naz4y1TabbRLEgzFSeGY/wj61t/An456b8dND1TUdO0680z+zr17GeG9XDCRSQwHHOMV+aP7MV98R/jh+3x8QfHltY+HNR1vQ55rWaO+vLiOzRYibdDFIkLMQAgwSozxnFfrVpdmbKzQNbW9tcON0y23+r398HAJ+pFAGhmivHv2jPjZrvwd8Mxz+GPBGoeOdcmWSRLO1IjhijQAs8srEBRyMAZJ54r5n8Of8FVdI174LSa9D4Pu734ii+fTo/B+mlrh5JQNwcEDd5YXGW29cgA0AffVFcN8HfHGs/ET4a6D4j1rRD4e1LUbdZ5dMYtugz2bcAQfYitXxn8QfD/AMO9Jk1TxNrVlounoMme8mEYPsoPLH2HNAHREZIpkjHjnH418q6r+1x4t+KWoPpPwO8AX/iKI4DeKddjbT9LjDDh08wCSQDP8KHNdH8J/gD4/i8caf42+KPxIn8R63aozQaJpKtDpdq7AglQcF+CRyooA+gZrg20Mk0m4qoztVcn8B3rzub4+6DFNJH/AGT4mYqSvy6HcEcehC816OcL05NfKX7XX7ZHiT9nNrifQvhheeKNG07yxqWszyi2tYC+MKhPzOeRyFxnjNAHs3/DQGgtj/iT+KBnjnQrnH/oNej2d0t5aw3CB1SVFdVkUqwBGcEHofavivXv+CkOna1d+BdO+G/gy+8c6hr0cE+oi3jdodKikO3ErRq2HzngjoDkjjP2paM720LSII5GRSyDoDjkUAWKKKKACiiigAooooAKKKKACmMTzjrTmbaM1leIvEVh4V0W/wBX1W5Sz06yhaeeaThUVRkmgD5P+J3hHQPgB4c8VeLPFUtx4m8VeJdSZNI01ryZl8xlAjhiTdx0JOK9E/Y/+BepfCDwHLe+IdQvLrxNrkhvr2K4unljtC53LDGGJCqgIXj0ry74ZiT44eOtU+PHjs/2b4I8PrLF4b0+7OwGNeXumB4y2AF+nvX1X8PfG1n8SvB2neIbC1ntrHUI/OgW6ChmjP3W4J4I5H1oA1tZ17TvDenT6hqt9b6dYQDdLcXUoSNB7sTgVxH/AA0b8Lmzj4h+G8f9hOL/AOKrrfFkOqXGg3S6Naabe6kUxDBqkjx27HPR2RGYD6Ka8hGk/Gnp/wAIZ8Kv/Bxff/IVAHonh34yeBfGGqRaZoPjDRdX1CQFltbO9jlkYAZJCg54Fdpn2ryfwNp/xMt/Edu/iPw14B07SgG8y40PUbqW6Bx8u1ZLZFIz1+bpXq7cq3OKAEzgEjj60obp19a8tvfgJHd3k1x/wnvjuDznL+XBr8qImTnCjsPaorf9n9Le5il/4WD49l8tg3lyeIJSrY7EdxQBc+LHwef4p654ann8R6lpmjaZK0t3pdlL5aahkfKsjD5gAcHgjOOa+el0+68A/t5aF4c8DXl62h3uifa9e0xrh5re3HmOsbgMSEJ2tx7V7f8AtHfHC1+BXge0EM8M3iXWJ10zRobyVVV52BPmSsxwERVZ2J/u46kCua+Atn4B+Gj4uPHGi+KPiR4quBLqV9bXiTzXU+BiNAhJWJBwM4H0zQB75uEchIOOelcT8Yvi3pfwl8I3eq39xGsqIWjhZuXPsKsfEz4laR8MPD13q+qXMcIjQssZIBY+gr84da8R+Jf2tviJ9uvXmtPDFrIQkeThhnitadNyZ6GHoc376tpFDtJj179pr4hT+KPELS/2NHL/AKLbyE7QgOa+lbGxgsbeGC3RY7aEYCqMAVX8P6DaaBp0GnWcQjhhUDgYHSrwjGAOQOtetGChGyPMxeJeJdl8MSVVC9KXHymgUv8ACapfCefo0zy79oL/AJEeb/eH8xWz8If+RE07/d/wrG/aC/5Eeb/eH862fhD/AMiJp/8Au/4V0y/hI+Xj/wAjb5HYSSssm0DC+tK0yQQmSSQIo5Jc4Ap+AzHI+UDNeX+IvCevfEDXGRtVn0vR4/8AV+Xz5nqK5T6lnpNvqEV5GHtpEnTuyNkCpW+VsknH1r5StZPEvwf+N+laJFqs2qaNqDYKvxs/Cvq5l37g65UjKnrTEMkm8tQ0jKgUc+wp0ckcqqY33BujA184ftTfFLUtIsbXTfD0pB88efcxnAGOq5r27wLdG48B6LPM2WNqJHkz1PegDo8lcnONvVjyKbuaYB0cEE8EdK+en8da18YPiTd6Bol7Lp2jaa225uI+jsOorovs+v8AhPxINMh1aa80xoGuHkbjyVXkigD2FriKG4SJpMSOuUUnk0/cdprxv4PjVvFHifV9a1S9kms7aXyrFj0dMdR+NeyEHOCMD19aAINSbOkX3/XCT/0E15h+y7/x8+Jv+uq/zavT9SULpN7j/nhJ/wCgmvMP2XP+PnxN/wBdV/m1eXmP8E9TJf8AkaQ9D3qb5VU/xHtSJnOS3yrzTnG5TmuG8eadr3iG4TTNJumsLc/6+4XkgfSvkz9n6HYQ6pBNI8aTxySL/BGwJFT7j6naeT7V8n/Grwp4g+Cq6b4l0XxDc3cjSBZ7dgfmAI5/Wvp/w3qDat4f0q7mys1xaxyuCO5UE0AaO5ux6dM02C4S4yElV9v3tvNea/HT4gy+DfCF4unKZdRkQhVTqnvWV+y7rF/4i+HclzqUxkvHuGDHOeOKAPZefulTnHao45PMDbHDFTjjnFeG/Gb4o6nH4v0/wJ4akZNTuSpmmU8xoSMmr2r+HPEXgaCwubTXrjUZpHWKaHpkn+KgD2OaZbdVaV1QE9Se9SbgQCDnNeFW82t+K/iVbaW2oyy6XbxiS4Vf4ZOu0/hivcwuxQB90cChgPDcivn/AFX/AJLvH9RXv614Bqv/ACXdPqK7KJ81nX/Lr/Ej39adj5qatO/irl+0z6GHwoR1B9uK4D4tfDKy+ImhyQPGqXsa5hlxggj0r0BqgkY8nG7HaqT5Xc1TPGf2Zvj1qHwl8VN4G8aXLC2ZttpcTnHfpn0r7ws7yO+tY5opd8cg3qynjFfD3xs+Dtv8RtLF/ZhbfWrVS0cijBJHbNO/ZX/advfDGrDwF45LxNG3l217KfvHoFr1qNZSVmfKZzlKrQ+tUd+qPuRWKvyT+dT+9Vbe4julV4yHUjcGXkH8atfwjFdJ8C+1rM4P44WfivUvhZ4isvBMxtvFFxaPHYXIZR5MpBCvzxwfWvlv40L4k8Gy+Efhx4Y8b+IdY+KWtbBLcrckx20SjMtw6fdC4BA4xkivpr49fGnSfgP8O9Q8UapvuGhXZaWMGDNdznhIkUnkk4H4149+z54THw7t7j4ofFS8jtfH3jSdF8uVWka1Rz+7tUABPAwOnagD6G8EaHeeG/CemabqOoz6rfW8IW4vJzl5Xxyx/H0rd3MFHPH9KI8FFcD7w4z1rxv4/abp19daWbz4O6t8T2VDtk017JRbdflP2i4i5/3c9aAPZzjH3v1pqthu5r49/wCEd0L/AKNF8Vf+BGi//J9e8fAeztLLw3dJafDXUPhohuDnTtSe1Z5eB+8H2eaVcduTnjpQB6bn5TivMPjV8YpfhRfeCbePTlvv+Ei1qPSmZmI8oNFI+/r/ALGPxrtPGGm6zq2gz2uga0vh/VHx5eoPZrdhPXMbEA5+tfHP7U3gj4lafqnwq/tT4n22qNN4qhS2ZfDUMP2eUwTYk4lO8YyNp9c9qAPuHO5eDzXjF18KfHHirxd4hu9c8b3Njortt0ez0g+S0K7fvSH+Js546e1dL4J8I+P9D1ZrjxL8QoPE1iVwLWPQYrMg+u9ZGP6Vw/xz8feIfFHiS3+FPw/mFt4h1KLfquuEZTRrQjmQf3pWH3F9SMkDmgDnP2Gvi14p+JnhfxjYeJb1tXfw7rL6dbauUC/a0G7kkDBIwM49a+nk+6K4L4O/Drwz8IPBtr4M8MtD5emKPPVZA0zSPyZJe+5sE5PXFd6v3RQA6iiigAooooAKKKKACiiigBr9K83+L/x+8GfAbTLXUPGuqnR7K6fy47h4yybsdCR0PHevSGr86P8AgsP4mebwF4J8E2rIbzW9WjR0PJ2jO0j/AIFtFAH3D8Kfi94Z+NXhn+3vCd8+o6Tv8tbry2RXI/uk9fwrmPjx+014Q/Z9g02LxBcyT6vqj7LDSrRd9xdHOMKo568dK1fgP4R/4QT4MeF9HtraG3nttOTdGRtBkK98D86/NTx5N8Q/jx/wUq0DSlh8NXOq+FZFvLez+2znT9sGJCryeTvBOeRsPOetAH6K/Bv9omx+MHinxX4ej0TUNE1bwzMIL+G9XhXPQA4wR7ivXl+uaxPDdrfR6RbT6xaafZ65NGpvl0x2kg8zHIV3VWZc9CQD7Vz3xh+It/8ADPwdcappPh2+8VasSI7XSrFRulfBPzMSFVeOpNAHfUV8H+Av+Co+mah4P8Xy+MfCU/h/xrody1rb+GbOX7TPfSdFSPuTng8Y9Ca+kP2XPjJ4i+O3wri8V+JfCM3gm+mu5oE0q4EglCI2Fdg6qRuHPSgD1tmPQcjvSo3TNcN8Yvhi/wAVvCbaRBr1/wCGrpZBLBqWnOVlicdD1GR7ZrwaTxF+0X+z2U/tnS7f41+E4+t5pLrb6vFGOrPFIVWRuvRyaAPramu21SfSvH/hP+1Z8Pfi5IlhYas2jeIuBJoGuxNZXqNj7oSQDeev3C3SvXt5ORjgd6APOtU+OWjaTqE9pLpfiKV4XKM9votxIhPswXBH0qt/w0FoX/QI8Uf+CC5/+Jri/wBqr9o/xF8B/D8l34Y+Ht543uoYGurllcQ21tEoJLNIeSeOign2rxTVf+CoekXfwn8P6z4R8FX3i3xzqiky+GNOVpms9v3mlKAsFzgAgHrQB9uaBrUPiDRrXUbeO4ihuF3Kl1E0Ug5I+ZW5HToa1FOVBrE8H6td654V0bUr+0FheXlnFcy2q7j5LOgYpyAcgnHI7Vtr0oAWiiigAooooAKKKKACiiigAooooAKKKKACikziigBaKKKACiiigBGpjSKiks2AOuaearXunxahbSwTAmKVSjAMQcH3HSgD8tfDs1v8ef8Agqtc38F0sth4YWSSKPcCpKqYyPzcH8K/Rr41eLoPAPwl8W69cN5cVjps0pbOMEqVB/MisDwj+yz8MfAvihPEeheFLTTdcVmb7dCWEjE9dxz82fevLP8AgoJqWv8Aif4Q3fw38H6RqGq+I/EzJbEW9uzQxwkncZJMbV5A6mgDwr/gjP4Smk+H/jvxtfBmvdX1Qw+cw5kUAMzf997q/Rs4VuefrXjv7I3wKT9nb4B+GfBbOJb62iae8kHeeRjJIM9wGYqPYCvZNp7etAHz/wDHr9rXwN8Mbu98G+dJrvji7hENv4csxmaUyhlXPHA4PNfBf/BOPXvD/wAE/wBoP4t6d8Q7Ky8PatZrJNDLdfPJCRKd8cZI5woJyBk1+oA+Cvgv/hYEnjd/D1lJ4pdBGdSkiDShR0wT0rM1b9nH4b6946TxlqHg/S7vxIrK/wBukt1LllAwTxgngc0AegW1yl1bxTxEvFIoZW6ZB6GvMP2gP2d9A/aC0Gzs9Xubuwu9Pl+0WN1bbD5MvZijqyt9CK9VWHaoUcDHan7T2NAHylaax8c/2d4Ra6rpNj8U/B9qmFutHgFlqEUaryWiG5Hb2UJXpvwm/ag8D/F68TStNu59M8Qbd0mjanEYbmP1G3p+VeveXyTj8a5y++GvhrUPFFh4jm0WybXLFmaC/EKiZSwwfmAyeD3oA6B2WOJ3Y7VUEs3pivhX9sT9o/wz8dPhn4v+Fnw6tZPG+vtazSX5tSVh09YMu5dsH5hsICjqcc191yQ+dGyuMhhgj1rjPBPwV8FfDifVJvDnhyx02bVHaS8kjiG6YsctuJ6g56UAfGP/AASl+I3gnR/gHZaDN9h0zxfNrM9k8Eaf6RcYXcrMeuMK/sMe9foGrV514G/Z1+HXw28QXGu+G/COm6Tq9xnzLuCBQ/JycHtn2r0gLQAUtFFABRRRQAUUUUAFFFFACHmsLxl4H0T4gaBc6J4gsV1LS7obZ7aR2VZBnODtIOOK3qKAPGD+x38Imtfsp8Jk2mNv2b+07wxbfTZ523HtivV9D0Gx8NaTZ6Xplutnp9nCsFvbx/djjUYVR7ACtCigBuzrzRsGKdRQA3yxS4oooAbzzSDPQtmlqNsbs549aBanBfEr4HeBPjFNY/8ACZ+HLbX/ALBu+zG4kkXyt33sbWHXFeV+IPhZ8DP2Z2XxhZeEtO0jWrQMbWaOWQyZ9tznrx2ruPjr8fNB+Cvh6e9vJ1lvtp8q3Vslj24r4LM3jD9qHxcNd8RPJb6ErbYoQSq7c8ZFbU6bmz1aGFVvbVXaKH+IvEXiz9rHxhNLfO9r4ZhmPlRKCBsz0J71734S8K2PgvRY9PsYhEigDIAyfepPDvhew8L6bFY2EQjiRcHHBJ9a19oPBGfQ16sY+zWh5mLxzry5IaRRJs3LnJzQopy/dpKqx5fW4Uv8JpKX+E0+jDozy79oH/kR5v8AeH862vhD/wAiHp/+7WL+0D/yI83+8P51tfCH/kQ9P/3f8K6JfwUfLx/5G/yOxk2lfmyM9MVm+ItUutH017ixsjfyAEiFDt57YrUPIxgHHWmQTJJIwjZS46oMZrlPqWfJmhfFd7r46D/hNfD0mm3MgCWfmNkLz1BxX0X418XHSdIEdkynULv5LVT3JFeYftLeG4dU1LwrJbwBtQF6P3iD5sY7mrPj/wCFnjLxFqWk6noWrW9q1tCq+XLg7GA64piOM/aG8KjQfhRp2/m/uL9Zrgk5JJBJGfrXt/hOF7r4T6XbwsFmaxwuOua+Zvjx8OviZF4Sil13xBa3VmkwYJGMMGr2n9n/AMN+L9G0XT7nWdRhutMktx5MaAbhQByvwFni+GEniex1iIpqtzfPNChU5lB6YNa/jDUtTisZLFNy6zrUyp5Z5MVsxw36GvYtYs9Lso5tVvbaBpLdDIZTGCwAGeteJ/ari80XxZ49uNzPFaTR2BPTZg4I/KgDo9L+IWneDbaz8KeHLRtbu7NdswibGD1OTg816H4Z8TR+IbZiU8i5h4lgJyUPpXlP7LvhmDw78M28U3S+be6tuu5ZpOWGCRjNd38O4BdXGr6pEjLDfSblz+X9KAOv1VsaTed/3En/AKCa8w/Zd/4+vEw/6ar/ADavTdSH/EnvQevkP/6Ca8y/Ze/4/PEv/XVf5tXl5j/BPUyX/kaQ9D3tm46VFcyrb28k8cZklUZ2jq3tU3Wo9yCYKXVT6E18mfsy2Pk/44fFjVLbxZosPiPwtND4bguNxYvw446nFfRdv4w0lfCcGrwsseni2UxkHoMcL+Fc9+0XpNprXwn1mO4hWeRYv3eRllOe1cLYfDLxD4i+C+gaVpt6tjcwhZMTdGXHAPrQM2Nc0ebUvBPiXxDqigXM9sywA8gJkYI96j/ZLYL8M5UGA/2pwSfwrjfFXwx+LS+D76G68R2TWiQYaNVHQdhWf+y/4Q8b2dis8WqQDSIroiaJgCWPGcUAb6aX/wAIP+0ldeJ9eGNNuLQwQXBG4AnoK7jxN4kkM1zr7gw2SRGG0jbnzZT91hXp95ptnqDYu7WK5XO4LKgbH515DqjDx546+wRDOiaNl3VfuiVeg/nQBX8K+KLH4b6X51yDfeJdZk+0PaqfmzwAP0r0Xwp44l1y6FnqOnvpV86l0gdskr1z0rxn4E6C3jL4peKvFF7mRdPuTZwRuMhQFByB+NesWrR698SzeQZxp8b28jE8ZIIpkneKp2g9q+f9V/5Lun1Fe/IDuyenbBrwHVf+S7p9RXVR3Pm842pf4ke/rTv4qatO/irlfxM+ih8KFpvl/Nk9KfRQXYYFCtwOe/oa8i+M3wRtPHNub/Tz9i1iP5knj457GvXmHWomXJXoQPari3HYqL5XdHkv7N/7TWqeCtZXwZ48nIMbeXb3b8A/XPWvt7TdWt9QtUuLeQTQOMq6nINfFnxc+C+n/EOzaaEC11GPLRTJwdw6VzHwS/aS1z4J+IU8JeMhJc6SW8uK5bqDnrn0r16NZTVmfK5rlCqR9vQ37H1d8Y/2cvD3xv1rQNV1vVdas59FfzbJNNniSNJM58wq8bhm6deOBxVNf2XNHu/F2g+Itb8XeK/Et5ocxuLKHVLyAwo5UrkrHCmeGPU16f4f8QWHiXTre90+4SeCZQ6sjZFbGQOK6fQ+BlF09JbihO+aVY8Y9ulLmlpCG7B60eWKdRQA3b71xvxC+E+ifEy68OT6ubgPoOoLqVoIHCjzVRkG7IOVw5447c12lFADPLHqa+dvGn7C/gjxx421jxVdeIfF1hqmqyCS4/s7VRCnGAFAEfAAAwM9q+jKKAPL/gn+z34e+A9vrEehahrGovqssctzPrV39plJQMFAbaMD5jXp/SlooAKKKKACiikoAWiiigAooooAZJ93rivyq/bK1Sz+M3/BRT4a+CvNSW20Z4kmKNkBiRLz2yNuK/VaRBIpUjIPBryH/hk/4WJ4sPiceE7Q+IPO+0f2kzMZ/Mzndvzn9aAPSLy5TQ/D88pwEs7Zny3oif8A1q/Nr/gmtZt8TP2qfjR8R57fdAs721tO3Zy7BgP+A7a+z/2rvGlz4X+D+taZo2m6jquvapbmysbfT4HlO9hjLEAhR7muJ/4J7/s36j+zp8E/s2vRqnibW7p9T1FAc7HYAKn4Kq5980AfUG0L1Oa8k+OX7TngP4CLBbeJtUCatfRs1lpkalproggbVH1YfnXrnPpXF+J/gv4L8aeKtM8Sa54fs9T1rTc/ZLq4jDmHOM7QeB0H5UAfl38Bdc07wZ/wUE1rW/iP4btfDSeILZ9SsY9Qw4swU3I2SANzDHbg1+svhzXrHxTodjq2mTCfTryJZreVQRvjIyDz0rj/AB7+zz8PPidr1nrPibwpp2r6laACK4uYQzKAcge9d/a2kVnbxwQRJBDGoVI41CqoHYAdqAMbxp440T4f6BNq/iDUI9M06H700p4r57vP2rvEfxNuJNM+D3ga81zJC/8ACQawTbWCA/xrgFpB7fLX0N4q8E6N42sYrPXdOg1S2ilEyQ3KB0DDocHrWnY6bb6bbrBaW8VpAowsUCBFUegA4oA+YPCv7HeoeLvH2j/EL4ueI017xTpkouLOy0W1SztLWTvz80jjn+J6+p9vccUBSCe4pduVwaAPl/8AaM/ah8KRw698LvDcB8Y/EG9iewXQbXgxM6cNI2DtUBs5xXy5/wAEsfGXhD4Y2vjnQPFMdjo3i221WO286VB58pkYgRqcZwDgcV+h+jfBnwb4e8aah4u0/QLODxHfnNxqPlgzPxj7x56Vl2H7OXw303x1J4yt/B+lxeJXcyHUBbqZNx6sOODQB6MqgjI/Cn0CloAKKKKACiiigAooooAKKKKACiiigBCaRW96yPFXifTfB2j3Oratc/ZbG3XdJIVJ2j8K+J/gf/wUSf4tftGeLdCll0nTfhjpqMLHUJLSb7XcvvCIu/eVGc7sbegoA+1fE3jjw74NjifXte03RFkyU/tC7jh3467dxGcZHT1q1ofiLTfEunRX+k3sGoWMvKXFu4dG9wRwa+FP+Cu2s6ZL8CvDWmi2trjVNV1iGK2nkTMkUZRtzI3UdUzXr/wH+MHwx+Dfw9+H/wANtU8Y6XYeJhp8CLp8kuJJHcZH4nNAH07mioJLqGG3aaSRY4lXcXY4AA5zn0rynVP2sfhLotxJDe+ONMgMc4tmZnOwSnou4DGaAPXaK4Hx38dfAPwx0O11jxP4q0/R9Nu1V4bm4lwsit0IxWd4i/aS+GPhHwvp/iLV/Gml2Ojagoe1vJJvkkUjgjrQB6fmk3Vi+EvGOjeO/D9prugajBqmk3a74Lu3bcjj1Bqn8SLPW9Q8Ea1beG2jGuS2rpaGZ9iCQqQpLY4570AdNu9qjaNWbcVUsP4sc1+Yn7UXh7wd+yB+zzZafq93q3if4p6ogjjuptfvQ0cjcs4VJVGF5wMeler/APBMX4D+L/CPga68f+Ota1i+1bXlX7Hp+oXssqW1uMkMFZjhmJ79lFAH3P5gFHmD6VleI/EOmeEfD99rOr3S2WmWMTXNxcSZxGijLMcegFfJP7MNj4e8e/tHeOvH+hfGFfH1rMhEWj2ayrb2EbMMDmQqx99ooA+zQ2aWvPvGvx18CfDvVIdN8Q+JbLTtRlUslq7FpCPXAGcVP8M/jV4J+MEN7N4N8Q2mvxWMnkXJtWJ8mT+6wI4NAHdUlcz42+IXh34a6LLq3ifWLXRtPj+9NcybR/8AXrlov2mPhhceAz4zj8aaU/hkMUOpCX92COo9aAPT6M1yHw1+LXhD4vaCdZ8GeILPxFpiyGJrizfcoYcEH0NVvHHxo8E/DW5htvEviKy0u6m+5BK+Xb32jJxQB3GaM1xfw7+MXgz4sW11ceEtfs9citZPKma1bPlsOxB5FW/HXxK8M/DPSzqPinW7PRbPOFkuX25PoB1P4UAdTkUV43H+158HpdSSwXx5pa3sksUCW7OVdnkJ2AKRnnB/KvU9a13TfDumS6jqd5DYWUK73nmcKqj60AaJOKTdjrXjE37YnwbtVLzePdLhj2u/mSOyqQudxBIwcYrR+Iv7Rngf4e/CuXx7daxFPocls09nNHlhcHHyheO5xQB6tuo3Zr41/Ye/bX1b9o2PV5vF50bSpJb9rfRbGwtpklkiGCDIzOwJwQOMcg1U/bA1jwl8VvH/AIL8FWnxpj8D63purQyXeiW6Sme/XcP3WUdNoPrzQB9rUV5t42+NHgD4F6Lpy+MfFdlocJRYo5L2b5pMDqe/bqata98dfAPhvwNZ+MtS8VadaeGb1BJb6jJKPKlU91PegD0Ciuc8H+PtA8eeFrXxH4f1a31TQ7pPMivoHzG6+oNcLr37V3wl8M3UkGo+ONMtnjlEDs0hKq56KWAxnigD12iqel6na6xZQXtlOl1aXEayRTRtlXUjII9quUAFFFFACUjN6UN1pOgNMLoZuNHmUisKzNY8Qaf4ds5bvULpLaIAnc7YpajinJ2RptcBRk8D1r5u/aQ/a80j4T276fpEsepa42VWGMhgG9OK8e/aE/bU1HxBdTeFfhzG0s8jmJr5Byh6Vwfwr+ALR3f/AAkHjC5fU9VmPmGOXkButddOi5bnqxo08LH2mIevYxvDfw/8SfGzxF/wlXjWaT7Mzb4rRicDn0r6I0nSbTR7KK0tIFghXgIo4qxDCkMSxxqsUa8Kq+lSL165r0UlTXKjxMVi5YiVpbdEPALZ3AA+tG2lXpRTOHZWQi0tFFABS/wmkpf4TT6MOjPLv2gf+RHm/wB4fzra+EH/ACImn/7v+FYv7QP/ACI83+8P51tfCD/kRNP/AN3/AArol/CR8vD/AJG/yO02jac9G6+1eL658H9cHjQ67pOu3AjkPNu7kKPwr2im5Ge4Ncp9SzkdB+HqQXkepancPd3i/dDnKqfUV2HloudowD1NKvTrmlpiOU+I3gW2+IGgjTLtmjj3bty9TxWz4d0ldA0Oy06PMkVtF5a564FaLZ7UmGoA5rx5oM/iLRhYxSNGkxxJt/untU0PgvT18Jnw4YwbL7P5GMdsYNb/AM1FAHmPhf4IW/hqx+wR6rdPp6NujgZuAM9OvSvSrGxh0+1W3hjCRoNqhakXrTqAKuprt0i+B/54Sf8AoJrzD9l//j88Tf8AXVf/AGavT9W/5BV7/wBcJP8A0E15h+y//wAfnib/AK6r/wCzV5eY/wAE9TJf+RpD0Pex0ry/4qfCjUfF95b6hpmtXNjcwtuEcbkKfY16ftNAj4618mfsy0R59o3w5vb23tf7evWnEOP3QOVf616DDbpbLHGihEjXaqjsKeq7R1zTqYzO1zS01jR7qxlbCTKUYjrg1gfDrwLbfDvR5rC3laaKSUy/N1ya61vpmk27uc4pAVNVhludLuI4G2XDIVRvRscVgeA/BsXhXS50XElxdN5k7t/ET1rq6bQB5pa/BGz03Xr/AFDT9SuLNL5vMmhjYhd3qK7rQfD9t4fsjbxfMzffkP3m9zWitOpksVV28joa+ftV/wCS7p9RX0F2r591X/ku6fUV1Udz5vONqX+JHv607+KmrTv4q5ZfEz6KHwodRRRQaCUm0U6incBn3U5XqOPauJ+IXwv0rx9pskVxCqXH8Myr81ds9RnLJhTg9aItxd0EfdPmrwX8SvGv7LevC2uxJqfhhpdpLZOxc9a+7vhh8XNC+KmjxX+kXaTblDNHkbl+orxDxB4c03xNYPbajarcRuNvzCvnTX/BPi79n/Xv+Ej8FXsz6arb5rLOQwz90V6dKvzaM8DMMphio81NWkfph5mOTxzin7/avnf4C/taaJ8VIINN1Mx6b4gCgPBIcLn8a+gd5Zdy4bI5IPFd3ofn1ahUw0+SqrEyvUqnIqvHn0qdOlBz6rcdRRRQAUUUUAFFFFACFsUm6uW+I/xG0D4W+HbjX/Ed99h023RndwpYnAzgAd6+Sv2Qf29L/wCP3jLxhH4kbR9F8PW92lroMdvbTLcXe4tyzF2U4C84A+8KAPr/AMTfEHwz4N2jXvEOl6M7KXRL68jhZgOpAYgn8K09J1qx16xivdPuo7y0lG6OeFgyOPUEda/PH/gr1cWmqab8M/DEdpAdY1bUm2XO0GSNFKZXd12nP6V9RfC343/CzwZb+Fvhkni7SoPE9vaQ2yaUJv3hkCDI+tAHvVJVTUNSttJs5by8uI7a0jUu80jBVUD1Jrytf2s/hI2oW1n/AMJxpazXUpt4AzkLJIDgqrYwTmgD1/NGR61578SPj58PfhGtufGHivTtBFwQIzdS43Z6dO1U/Gv7S3ww+Hen6dfeIvGel6Vaagoa2kml4kB6EYoA9OprVneHvEGneKtGs9V0i8iv9Ou4xLBcQtuSRD0INcT+0D4X8UeOPhTrWgeErlbPV9SjFqLlpzEYY3IV3VhyGCliPcUAeh+WrNl1DemeaePl46V+U37cCeD/ANm34f8Ah7wD4Yk1jWfibqSqkmpya9etNH2LbBMFyWOAMdq+sv8Agn38BfEXwe+D8V94x1vU9X8Ua8Bdzx6jdyT/AGVCBsjXcTjgAn3JoA+qA2KdmuW+IHjfQvhv4Svtd8SarFo2kW6ATX1xnbFuIVSce5FfNX7DXhfTJdY8e+L9L+Kz/E+LUr7AkjWVILUckRqryMOAeoAoA+v6SvOfFn7QXw+8Da2+j634psbPU0TzGtSxZ1X1IAOPxrV+G/xa8I/F3R5dV8H69a69p8MnlPcWrZUN3B96AOypMiuM+I3xe8G/CbTl1Dxf4hstCs2OBJdSbfxxWFrn7S3wv8O+D7DxVqPjPS7bw/fAG3vml+SXPTGKAPUaTNc94J8e+H/iN4btPEHhrVrfWNGuhugvLZtyOPY1yfij9pH4aeD9Un03V/F+n2l9bjdNFvLGIerYBxQB6bRWL4V8X6N420S31jQdSt9V025XdDdWzhkYeua4PxJ+0/8AC7wpqV/Yap4y0+2urEZuk3lvJH+0QCBQB6rupC3fpXn1x8cvA0nwybx3F4nsR4SZWK6yrFoR1Gc+gIr5/wD2JtC0a21r4k+NNP8Aiu3xM0/VNQmutyLKsFgGcuY03SMMAHHAH0oA+wt1G6vgrxd/wUYlk/an0H4f+En0mTwYgc63q99ZzPJFhTzEVcADdgcqetfSfxq+MnhDwz8KZdS1HxtaeErPW7d4LDW7pGMauRjIHHr6igD2LdS18s/sQ6Dovwo+AMuqS/E2Tx9pNzcSXLeI71nRMKSpC73cgDHr2r2H4e/tA/Dv4sf2gfCfivTtb/s7m7+zS58kc8tnp0oA9ForzvwP+0B8PPiV4l1Hw/4X8V6frOtafzdWVtJl4hkjkY9QateNPjb4H+HN9FZeIfEdnpl3IMpbyPukI9doyaAO6pa434c/Fzwh8WNNnvvCOvWeuWkD+XLJavnY3oQa6/J7EUAPprU6kagDzv49eM18A/B/xdrnnG3ks9PldJOfv7Tivjr/AIJDeGRpvwd8T+OtRmjW48T6wwSSVgvKMUKgnrlscetfafxg+Glp8XvhzrfhK8ma3g1KBojMgyUJGAcd6+fP2Z/2F7z4G6fo+la345uPE+g6HdvfadpaQfZ4kmckl3+Y78E5HuBQB81f8FL7h/i1+1h8JPhjbzyRi2Vp7gRMeFmdMMR6jym/Oq37Ynwu8NWf7RXwM+GPhPS4o9WtZYp7+6jQGaaMsBvkbq2Np619V3H7FMuqftgD426l4oW8SFPKg0c2mBGgB2jfu7Ent3qt8cv2Ib34n/HrSPinoPjebwxqljbrbtGtt5uVBJO07hjrQBw3/BUb4r638Pvg14f8EeHr6Sx1HxNcx2L3EblGaLoV3DoCcA+2ag1P9k3xf40/Z+8J/CuGDR/BHgiIwXeoXwlWW6uZAM8nJ5Ysck88CvXvj5+xXovx2+Euj+E7/XL5dX0crJZ65N+8mDj+JueR3xVLwb+yP4rkl0iD4hfFDUPF2kaP5bWun20H2WNivTzfmbeOB+VAHl/7fnw/8F/Bv9ki7WTTINQ1aPTY9Csr26QSSR5GAUz905OcivDdY+Gfh74Kf8E1hrHiGx/tLxNr9rDFBPqCmV7LeysEi3Z2AAY+XFfaf7ZH7Jt3+1Z4f0LQ4/FLeHdN0+fzp4fs3m+fjG0Z3DGMU79pb9j20/aA+COkfD+PXG0T+zTD5V2sPmD5Bg5TI6j3oAX/AIJ9+Bbn4f8A7J/gixvNwu7iFruRGOdpc8D8gD+NezfEj4g6R8LfBeq+Jtduo7PTdPhaaWSRgBwM4/GuL/Z/+DOr/CTQfs2ueLLrxTfGCK1Dyp5UMUcQIUJHk4J3HPPOBXF/tl/st63+1V4Z0/w9b+M28K6JC/mXUCWvnGdh0z8w4FAHwb8B/Butf8FEP2qL34leLIXi8DeH5/Mjgl/1ZVTlI+fcAnHpX666Q9kNLgXTXheyjURxfZyCgUcYGOOMV8v+BP2TvG3wz+Ccnw48M+NNL0i2mt2gk1K30rE7bhhm+/1IyOvevevg/wDDiH4UfDnRfC0Fw12unw7GuGGDIxJLN17kk0AZP7Rfj6P4X/BHxp4ok2507S7iZVbHzMqEgY9zXy5/wSR8AnQfgTqPiSeBRPr1600cmMEx5Jx+or6k/aG+D8Px6+EviHwRPfNpqarbtCLpF3eW2OCR3FeVfs7/ALIus/A/wUPD118QbzWI7S1ltdOWODyIrYOMbyu47mHbpQB8x/tLaD8R/wBkX9qK8+POn6SnirwjfxC2vdy73gTuM9V9jwK+yv2Ub74feNvh03xD+HmkJpdr4vuHv9QAUhmugxSUHPoykcccVwmrfsq/EPxJ8ILr4cax8TI9S0e6ndpr2bT83RiZifL3b/fGfavb/gn8H9C+BHw10bwT4cjMelaajBSx+Z3Ylnc+7MSfxoA4b9rzQfCbfBvxD4m8R6XaanPo+nzSWJvFDokjKVBAPGecZ96+EP2PfhRoHh39jzxx8UvFdvFqC3i3LafZ3vz21v2ysbfKGznkDPAr9Af2pvgbd/tF/CPU/BNprf8AYEV88ZmuvK8wlVYNjGR3Armrn9kbT7n9lVfgymqNBbi28o6hHFjL8ndtz79M0AfPH/BLHTP+FZ/sqeNPiFqIaOy1G7udV8gLgJHArKQPbCVwn7Cdt47+MXif4jfGNNJsfEniq+umsbTUdWuAUso8sdqKTkDhcBfevq79mz9j+9+Cnhc+H/EHjS48W6NHZyWEGm+QIIFhkzv3LuOWO481wfw9/YD8U/BvUtdtfAHxXvNA8J6tP5s2mGz8yRRz92TeMHk84oA739kr9l5/gbqHi3xRq+tx6z4l8RXbXN8bYAQwH/nmAPT86+cvBtwv7WH/AAUc1xNelF/4Z8AxNPY6bL88LOp2K5Q8bg2Gz6ivsC8Xw1+yN8EdX1a6mvtQ0/T0a6u7iZjJPcSEck/Wvl74d/s8WXibU7z9ojw54+uPh94d8W6d9r1TT2RDIkLDe6iUPhT6cHmgDyn4hW+lfHv/AIKzaFZWPlT6foUUUNzJBggNbq5PI6/MyV6R/wAFCPF+qfEr9oj4afA+3uJbbRL/AGahqkURIFxG0hUKSOw2H865T/gmP8Nj4w/aM+JvxdhtZYvD6+Zp+mzTjImaSRWZ1PcgRc/79fTX7S37Fcvxw+K3hr4h6B4rl8I+J9HjEC3K2wmDorllGNw7saAPmf8A4KjWGgsPhL8H9BS2tri5vreziggVVNujuI1OB06ivXP+CiXiCP4L/sJJ4atFET6mbTQ1VByAVaRiPTmH9au/Fj/gnSfiJ4k8MeKrXx9eWfjHSrpbu41e6thMZ5FO4YXcNoBx37V2/wAef2KYfjp8CbPwDqXi2+/tK11BdTXWbhfMYyhWUgrnphjxmgDW/YP8C2/wz/Zf8A6VIqW9/eWJv5oycNJ5jM4bb3+QrXy5Dap8cP8AgqjMysk1j4PtmcEAEEhCpz7hjX118AP2db/4VW9jceIvFlz4v1exsF0y0nkj8mKC3UEKqpk846nNeT6X+wBqHh348eJfH2jfEO60uy8QTPJeafDbfvCrNuZRLu4BPtQBkf8ABTzw74T8I/s/+JvE8uiW194k1iW306O7uF8ySIfOw8vOdg47Y6iuW174f+Efhb+wx8OtIvNHg8QeNbzRDa+HbC4Uzv8Aab4tKSqHOOZuWxxjrxX0d+1Z+y8n7SXwjs/Bi67Jor2lzFcJePF5xOxSORkZJzUfwV/ZN0/4d6hpmv8AifXLrxv4q062js7S8vl2xWkaKEVYY8nb8qjv1zQB8pftNf8ACQ/si/sU+BPhfol9Jba94gni0yW8hbaVd+XUMOmQCPxrtrj9lPxb40/Zy0H4ZR2ujeDPCVwIrnUtQaZZLi4kx97OTknJ6+1fQ/7VX7Lui/tReB7fRNTvJNLv7GcXVhqMK7mglHAbGR2J/OuH8G/sg+LW/si0+IHxSv8AxXoWkmNrTTLa3+zKxXp5h3neOn5UAfQHwz8D23w18B6D4Ys5WntdKs4rSORurBFC5P5V1GaZFGI1VR0AxT6BgG3e1I0m3imnmhmxgYyO5oEIshNEkgVcntWP4k8VaT4T097zVL2K0hQZZpGxivjD42ftyS6heTeH/AELXt9kx/aEBKHPFaRTkdlHDTrvbTufSXxh/aI8LfCXTZJdQvojd4PlW6sCWPpXwn4w+J3xA/am1Rrez+0aR4eEhBIyuV+ted3Hg/Xdb8bafP4wupbma4fe0cjEhc819eeHtItNJ0u2trKJIolUfdGM8V6EMPypSkQsww1NypYd3lHdnLfDb4L6N8PbVXhiWa/YDzJWHJNegbB0AwKcACvPNLXTtojyaladWXNN3Y0IPSjbTqKNNzK99WAHFFLmkoEFFFFABS/wmkoz2p9GHRnl/wC0D/yI83+8P51tfCD/AJETT/8Ad/wrF/aD48Ezf7w/nW18IP8AkRNP/wB3/CuiX8JHy8P+Rv8AI7Slx70LS1yn1LAcUUUUxBS80lFACHNJin5pKAEWlopexoAp6t/yC73/AK4Sf+gmvMf2X/8Aj88Tf9dV/wDZq9Q1Zf8AiU3h7+RJ/wCgmvL/ANl//j88Tf8AXVf/AGavLzH+Cepkv/I0h6Hvf8NKF46UU5elfJn7OC8UtFFABSEZpaKAG7TSbfan0UAIq+1FLRVCEr591X/ku6fUV9BV8+6r/wAl3T6iumjuz5rOdFS/xI9/WnfxU1ad/FXLL4j6KGyHUUUUjQKKKTNABTSnzZp9FMCFox3qOa3jmjZJFDqwwQwzxVqopBuxxTT5XdC12PCPib+zzFe3/wDb3hudtM1KM+YrQnBZh61o/Cv9rzXvh1qkOgeP4ZNu4R/bH+7joK9lZiox2rwr9pvQ7PUNLs1aBPPkIG8DGDnFd1Gu72Z5mYRo+ycq0bpH3N4V8aaX4w0+K90q7iuYpF3LtbNb3mlf61+Y3hmH4hfAm3g1fQLqXWNPkw0kBJxGvevqz4Mfth+HPiLFHZakf7K1FQEZJ+Nzd69NSU9UfE4jKZ04qrS1iz6OjnWT7p+tSg5rPt7qK4hWWBlkjYZ3KQQaux8jNB4bi4uzJKKSjPvQSGaM02lxQB8+ft5fEKT4b/sw+NNQt5hDeXFm1rDn+Lf8pH5E1wH/AAS98Fw+A/2VfD9zcyxrd+JrmTU13MFaQOAVUeuAGr2j9p74CWn7R3wp1Lwbd3z6YbnDRXSrv8twcglcjPSuI/Zt/ZJuvgrZ6BH4g8YXXi0+HbZrPR4jD5EFrG2MnZuOWwMZ9CaAPjv9sizf9ob/AIKIeCPh7BdyR2Ok20K3AjcqY5C7OxyOhKMlT/HT4d+HPEH7f/wu8CeEdOt7H+xyl3fXFvGBIXj/AHmZWHJJx1PXNfUvw/8A2KT4V/as8SfGnU/Eg1a51Y7o9P8AsuzyCEVFO/cc4CjtWR8QP2D77xJ+0fd/FfQfH1z4bub5BFdW8dtvcpt2EI+4beKAPKf+CnHxI13VvFvw5+C+iXckEXiC5R9QhSQxfaIwQAhbI45b8cV3XxG/ZG8TfF7T/AHhDV10fwP4C8MSI9vY2TI89xINo2kjPXaDkcksc12/7R37Del/HSy8KXdn4jutE8V+Gyv2TWinmuwBB+cZGeQO9bvw8/Zk8QweJ9K8Q/ET4hX3jXUNJcNZW8cX2a2QjozJuO5h60AfOv8AwVY8OeEPBnwJj+z6RbyeKNWuLWxtbqRA8+xGXKoTyPlU8CvMf2nvhf4c+DP7BHhrT7yGPVPG2vy23l6hdqJLj7rHy42blR8w+UYFfYn7Wn7H9z+094m8GXs/igaTpXh68jvDY/ZfM+0MrAkZ3DGRkfjU37Wn7HUP7S3hHwnpNt4gbw5P4dnWe3nEAlUkAcFdw7gUAdp+yP4Hl+HP7Nfw+0GZmE8GlxyyeZ95WlJlKnPpvx+Fav7Q3xu0b9n/AOF2s+LtYmVVtIiIIWYAzSnhEHrlsU74IfCnVPhfoNzb6x4pvPFWp3TI8lzcjbHHtjWMLGmTtXCA4z1JNeJ/tm/sU63+1tqWkLL46/sDRNO+dNNWz80PLjG5juGeCe1AHyf+w78H9T/al+NWtfH/AOI4H9j2txmyju+ImcH5SM8bVH4Zav1htZobi3jlt2R4GUFGjIKle2CO1fMWofst+Np/g5Z/DbTfGWl6FoMaxxTvYaYVkmjU/Mud3Bb1r6L8IeHbfwh4W0nRLU5ttPtY7WMnuqKFB/SgDwn/AIKCfEKP4b/sp+Ob5tpkvLT+z0Q9WMzCM4HsGJ/CsX/gm98Nm+H37LPh5JohDd6kGu5HUYLA4Cn3ruv2uP2bYP2pPhVP4Pl1eTRHM0c8d2sfmAFWBwVyM8Z71jfDL9mPxF4D+F994bufiDe6lqUmnDTbS+WLy47SMZwUj3H5ueuaAPjn4rXHj79gf9pbxX8VrnQ/+Es8D+KpFS5uMbpIU/ubj0PXrx0r72/Zts/AUnwv07xD8O9Mj0zQvEgGq+XGpUlpBuJYHoeenavJPGH7Ifjn4lfCPTfhv4u+I0OqaBAUF3crp+26ukU5ALbzg+9fRfw58A6T8MfBOi+FdDh8nStKtktYEPXaowCfyoA+bf8Ago1o3hTQ/gL4m8Xano9pf6+tr9jsZrpA7JuPOwHoeOor5++EfwK8LfDH/gnrqvi/xraw61f3+lTXNs19+9FqJAxjEQbOw8jpjmuk/wCCu3iSfVtD+H3w5sZtl7rupmUBfRNq8/8Aff6V6sv7GfiH4gfCfwb4F8Y+N/tHg3TLWETWFhaeTJc4UEK7bunagDwD9mXx1rvwB/4Jd+MfGUYkivDNOdMR/lKieZIlkX8JNw/3a7v9ifwfpvg39iHxX4/1sx3Os+JYbq7vtQuDueVQu1VYn/a3fnX1x4y+AHhPxd8Eb34WyWK23he4s0tFghAGwIyshHuGVT+FeH6Z+xL4gh+DVn8Jrvx+X8CQzMZIoLPy7maAnPlM+71zzjvQB51/wST0vV7v9nHXDcPLaWF5ezi0AyAhLHJUduc9K8W07xZ4p/4J9fE7xX4f+IvhuPxD8N/G92wl1RUBZlYkHc3Ujax4PPpX6BeKv2d4ovgUfhv4B1iXwRFHCILfULRN0kf+11GTXnHxQ/Y48QfHuy8K6N8RfGkOp+H9EkWWW1s7Hy5LxlGAXctxnnP1oApftXat4Y+B37Bmsw+EbWHS9EvNOW30m3AyubjMi8HqTk1J/wAE3PAsPws/ZJ0e+lRo31BZNSnVuoySf5V6F+09+y7Y/tDfA62+HUOpNoNtZy28tpcJH5nl+SpVFK5GRg+tHwF/Zz1P4U+E/wCyde8ZXfidls/7Pi/deTDFDjACpk8470AfIX/BPm3HxM/ay+MfxSvbjdFZubG3nmOF8uSTPB6ceWPzrvf+Cv3jaGz/AGf/AA/4VjZHu/EesRmDkHcsWN2P+/grpPg7/wAE9bz4T+Jtd+z/ABCupvB+rXgvLjRIrby2dlbcgMu7pnqMc12P7Yv7F9v+1Rp/g9bbxDJ4Zu/DcryW8ywecpDBOCuRyNg5oA6v4RfAvw/pH7M/grwj4h01bqy0/Tre5ubSTIQzBVdww7jdnIPBr5H/AGF/CPhvxR8VPj54uu7WGw8ISXJtkiiPkwrErEsDtwAPlHFfc3wv+Fuo+CfCd1Y614lu/EurXyYur24GxQ23afLTJ2j2zXzr8Lf+Cdn/AAg91rNjqXj2+1HwlqN8b99Ft4fJEj5J2yPuO5eemKAOQ+BvhfS9D+IHxa/aFsNEg0HwnZ2LWGhwwxiJJ44UxJOFGPlZuM+qk15p/wAE+9P+IfxQi8efGODS9P1/xfrt5JBDq2rXGRaLzlFUnIUHgAdBxX6UT+AdGm8Fy+EzYxR6HLbG0NogwgjIxgV8k/DP/gn74s+Czaxo/gj4tXmj+DdSuWlfS/se+VUPGFk3jBx3xQB6X+x/+zIfgDp3iPUL/W49c17Xbw3N5LbgCKNsk7ABxxmvo7PA4rkvhf8ADfTvhb4Vg0LTZri5ijJkkuLqTfJLIfvMx9TXX0ALRRRQA3Z3HWl25paKAGNHuPXApdnX3p1FACbfWk29McCnUUAJtpNtOooAbto8sU6igBu2l2/hS0UAMCnueKXb606igBu0Umzg0+igBuwUbT606igBhyOvPvR/SvLf2j9Q8e2vw4kh+Gn7vxZd31pa29y8Amjt45JkWWVlYEYVCzfhXz38ZPGnxX8I+OPB/wAO/CPxQutd8fawyzXcR0WzMFnarjzJZCE+UZICjvn60AfY2vaDpvijSrnS9Ws4dQsLhDHNbTruR1PYivIG/Yv+Eb6WdLPhqcaVv3/2eurXgt85zjy/O24z2xj2r17Qbe8stFsodRu/t17HEqz3IQIJXx8zbRwOa0aAMbwn4O0XwNo0Ok6BpttpOmw/ctbWMIg98Dv71tAUmKTdzigB2welG2l3ccmjNACbQq47UzOcd19aVyWBA5PpXhOsaD8YtVs/FGpXXjO18IJavcSaba2FnBdK8K7ijStIpIJAGQOlAHu2RwOvfNOC14t+yZ8Xta+M3wjt9d16CNNSjuJLR54FxHcbDjzFHof8a9oNABxt244pODSEseKZ/eA+9SuholzUbTKhwepqtc3kWn27S3MscKDktIwAr59+MH7Z/g34Zme1t7ldR1RcqkMJ3qW9OKtJy2NqOHqVn7qPoS91C30+Ey3EqRRKMs7nAFfM3xu/bk8KfD25m0rS2bVtU6Ibc7k39ga+XPFXxe+K37R2pSW1kbjQdGk4aNGKBlrrPh1+zbo3hOOO51NF1S+Pzs03zHd9a7I0O52uFDCK9V3l2OH1SX4oftGaobzV7uXTNLkbLW0eVG2vX/h38HdB8A26fZrdJrrq8sq5bP1ruYYYrVdsMaxrjAUDAFSsd2MDNdcKaijza+PqVVyw92J4H8UMR/EvShjO5wCM9K91tQI7S3AHyhRx+FeE/FEY+J2luANu8Zr3a1z9nhBB+6P5V21dIo+DyuzxNZLuWFal3evFRqw5o3bWGTnd0rm6n1MrkhcUb801l3E9sUigCgkfupQaZuApR7elADgcsRSbqaVOV7djQcKoJ6GgBxbFJu3UHmmA9uhNPoHRnmn7QXPgib/eH862vhB/yImn/wC7/hWJ+0Bn/hCJv94fzrb+EP8AyImn/wC7XTL+Ej5eH/I3+R2q0tItLXIfUsKKKKYgooooAKKKKACl/hNJS/wmgCtq3/IHu/8ArhJ/6Ca8u/Zf/wCP3xL/ANdV/m1eo6t/yB7v/rhJ/wCgmvLv2X/+P3xL/wBdV/m1eXmP8E9TJf8AkaQ9D3ynL0ptOXpXyfQ/ZxaKKKACiiigAooooAKKKKoBGOBmvnzVf+S6xn3FfQbfdr591Zh/wvaJec8HpXTR6nzGd7Uv8SPf1/8Ar0pbDVGrhWweuOlOb17da5XufRx2XoPD57UbqavTNDUjQcWpu78qYGDKSOg60o+bB6D0oAk3Uu6mjnPFNZsUAP3c4ppGaarZ569qf60AIyhuvSvGf2isjTbJfVxg+nNezqd3SvGf2jONPsP+ug/9Crej8R4ecO2Ekeh+D7NbrwjZQyRqyGPBDd+O9cB8Qv2eNM8RFr7SX/srVR92SE7FB+leieB8HwzYf7g6/StvaC3JOPrzR7SVOWh24RXoQ9D538HfHX4ifs73gsPEtu+saGrBftQBY7c/Wvsf4U/tF+EfitYxyadfxw3JHNtM4V/yrzPVtFsdchMF/bR3ER/hkUMPqQa8N8Z/s3yafe/214JvX0nVVO7bG2xPXiu+niFazODGZVRxV3azP0NW4VunIp+4HntX5/fD79rTxr8Lr9dK8cWU15ZRna17tLceua+t/h58evCfxKtEfTNQiMjYPlyMA35GuyMlLZnxmKyuvhnoro9LzTg1VWmHlxkHO7pirAPQUzyB33qTb155oDUkjHbnNACselHBHtXzHqV98UY/EnxK8T+I/H0ngbwDpNyE0i3Gm2zvJCsEbPIWkXJBcuB9Km/Y58TfE34iaPqfi/xhr9xfeGr+Vv7DtbvT4bWdrfPyyv5agjIwcH15oGfS+0UbaTd2zTqBCbfzo2D2x9KGpFYdc0ALghT6dqbxxxUd9dCzs55yC3loz4HsM1wXwL+LkHxw+GWmeL7XT5tLhvt2LW4ZWdNpxyQSKAPQflH50uQOK4D4qQ+PbqHSbTwPNY2Xn3G2/vrvBa3hwfmjQ8M2ccEV4pqvxK+IXwg/aV8B+B9U8S/8JtoniyJ8rJYRQT2LKSC/7tRlPr6UAfVnBpNvTFJGeop9ACbfzppUelPooA8l+KH7Lfwz+M3iOw17xf4bXV9WsBi1uTdzxGLnPyhHUdfavTNL0uDR9PtrG1Vlt7dBHGrOXIUDAGSST+NXdoooATbxwcUeWKdRQA3bRsFOooAbtA6UbadRQAzyx+NKExinUUAJtpNv4mnUUANK570Beck806igBAMUtFFABRRRQAUUUUAFFFFABRRRQAUUUUAFFFFABRRRQAUUUUAFFFFABRRRQB5f+0J8ctI+APw9vPEWpBrm8P7nT9OiGZby5biOJB6liPzrzL9mH4cSfDqybxz8Sr+3k+JnjacNK0nWJSC6W0fpgAk49K6f4yfsvxfF74meHvGFz4w1nS5dB+ax0+3S3ktY5P8AnqUkibL55BJ47U+x/ZsuJvid4f8AGniHx7r3iWbQhJ9k0+9W3S2V2XaXKxxLlgCQDnuaAPbuPoe9eT/FaLSG1yI31p4ouJtgw2isojx75I5r1lfpS0AfNxi8N/8AQM+IP/fSf/FV6/8AC37EvhsfYrfVoIfNbCawQZs8ehPFdlS7aAMLxYuvy6ao8PSWcd7uGTeZ2be/QVx5t/isP+Xzw7jP92T/AAr0ygjKmgDjvCcPjSK8lPiO40uS12/ILIMGz75Fcd8efhfqvxa8L6hb6J42udDRYmDQWWCkjLyVdgeAcYIxXrMoAzuGVxzXhyfsz3Gi3WvvoHxE8RaFpmtzyXNzYo8EqK0hJcI0sbMoOT0PHbFGonfZIrfsTfEQePPg69s+lQaRdaBqEukXEVt/qnePB3rxyDu/PNfQO7tnmvE9H1r4Z/sv+DY9Bi1K30+2hLTMs0u6aaQ8s7k8ljXgXxH/AOCiFteST6Z4K0uS6vDlIro5Iz9K0VOUtjsp4WpU3Wh9satr2n6LC097dw26KMsXcDivnD4r/tz+EPByT22jSHVtRjyPJiGcn618o3WkfF745XQm8Q6zPpFq/OxBtDCvQfBf7O/h3wwY572IX1+OfNc5yfxrphh77nS44XCq8nzSOL8S/Fr4t/tAyvHaRyaPo8p5XcQyrXQ/D/8AZr0rQwLrWpDq9597dLyQa9ltbO3sQFt4liUDG1QBUyDaSfWu2FOEDgrZhOp7sPdRVtdJt9NgSK2hjhRRgbRzVkKxwDx2qRaWrPKk76yd2M8vbS4xg9vSnUvTn0pi6Hz18XLhLT4j2Ejg7M7to9q6H4bfHBfG3ja/8NpabBYxqxcnmsP4qqv/AAszTQ43qzdDXLfB2BIf2lPGEce0AW8Zwo966a2yPlsp/wB5rep9PX13HY2r3L/6uMEkfhXjOu/FLxzqi3Nx4b8NLdWULELJJJtLY9sV7HfW63ivDKMxMMMPWuf8VeMtC+HOhyz3sqWdvEh+XHX3rme59Szlvgh8aP8AhaVrdW91afYtUsmKzw5zgg4NepyZZj69q8E/Zk0fTby41zxRYXaTpqErgxoR93Oc17zwemMMeBmkSZXijXl8N6DdX8ieY0KFgn972r56uf2oPGu5msfAkk8JP7tmbGR+Vdr+0tp3jLUPD9nB4RtWe7SVZGIG4MAc4x715Z4T/aY1fwPrVjoPj/w0LOWRxGs/l4UfpQB9OeCdWvdd8M2OpanB/Z91dR+Y9vnOw+lcPr/xskk8U3Hh7w1p41jUrc4mXdhVI98V2XibV4ZfAGoalp7eYjWjSwmP6V4v+yRaRQ+EtR8UagFjvrxjO8kv3gOpoA9G0H4uLN9rg120ewv4OsSAsPzpPhx8Rr/x1rmqxtZeTp9q+yObP3+O1cd4h8RLZ6bqtzaW4uJtZuFitty5YocgkfSu/wDB1ppfw58N2OmTXccU7AszHBZixzz+dHUOjMr4/SbvAswxg5H862/hF/yIunf7tYXx4khuvh7NNburxMVIZTnPIrc+EP8AyIun/wC7XXL+GfMQ/wCRv8jtlpaRaWuTqfUBRRRQIKKKKACiiigApf4TSUv8JoArat/yB7v/AK4Sf+gmvLv2X/8Aj98S/wDXVf5tXqOrf8ge7/64Sf8AoJry79l//j98S/8AXVf5tXl5j/BPUyX/AJGkPQ98py9KbTl6V8n0P2cWiiigAooooAKKKKACiiimgEJA69K+d9euo7D44xzSkkY4CjNfRH4Zr571KFD8d4Q67wSODW9DdnzWdbUv8SOg0j48f2x8WU8IQ2RPytvmYYxgE/0r12bEKvK7Hag6V8xW1sLX9rybylWJWVzgf7pr6em/ebkcZHT65rGW7PoYfCjx/wAS/EzxfeNdnwroA1C0hJAkd9hyOD29qf8ABX43T/ETUr/RdVsf7P1ix4kj3Z7132s6vo/w/wBDknumWztgGckdCfWvHvgHa6L4t8da/wCL9Ovo5ftOVEMeBtwetSaH0CzbiO1U9Z1OLSdNnvZ/uQLuxV1VGcdDjOa8v+P9v4nu/Br2nhm3a5u5iQ+BnigDznU/2mvGcN5PHY+CZLy0DYin3Y3L69K9q+G3iPVvFHh9bzVtN/sy4kwREWzivl/wz+0P4k+EbWek/EPw0YbMkRC6MeF9Ac4r6tj8RQal4NOraaweKS282Ap0PHSgDkPGXxmj0fxLH4b0O1Gr60V3PEpwE555qTR/itNa3gsvFFgdLvn5hij+fcPc15j+y3YjUdc8ZeKNYUrqK6jLGDIeQg9M11/jDxHbt/aGvPAs8y5sbMMucluA1AHQeDviheeNPGl1ZWViRpVrlZLgn+L6Vh/tHE/2fYf76/zroPh/Z6b8PfC0E2qSpbX95+8m5+8xrmv2hNQS80fS5rZhLEzKcr7muij8Z4ec/wC5zPT/AAKv/FM2P+5/StwrWF4Fb/il9P8A9yuhqKm534P+DH0RC0ZbpSLGR1GanpCM1mdm5ia/4T07xFatbX9pHPGw7qK8N8Tfs6X/AIcuH1fwfqMltdq25YEJC19G0wfdatY1HATfN7sldHgfgf8Aax8e/Cu4TTvGOlyX8OQBKuTgevSvrH4dftMeCviGkSWWqRpeFRvhlO0qfSvM9a8M6dr1uYr60jmB/iKjP514r4w/ZhtWlkvfC95JpNyTuPlOQSa7IYlvc8nEZPhcWrr3ZH6Fw3UNxGHhdZFPO5DkU9mG07uB1JPQV+b/AIb+LXxe+Bo8vUVl1bSIeN0i5JH1r2fSf2yPCfxa8J6l4d1PVLrwXd39ubb7fCyiWItwSm5SAcZ6g13RqRkj5HFZHisP70FzIq+Otcf9rr40/wDCB6TcOPhp4VmWXxDfx/6u+uhyLZT3CjG7/e9q+rPCt9o93pKR6FLDNp9tm3RbbhE2cbR9MV81/Cj9me18P/DWXw14M+L3iCDRrgyNLNDFY+fK0hyzs/2fJbnr1r3b4QfDOz+EPw/03wvY3tzqEVim03t6VM85PJdyAAWPXgVZ8/KDg7S3Oi8T+T/wjt956XUkXlfOtnjzSPRfevBRD4aK8aX8Qf8AvpP/AIqvotNrcgsfrU6nNBJ4T4Jj0JfFFj9m0/xpFPv+V9QZPJHH8WG6V7p2z+lOakoA8y8TQ/Epo9UNpc6Gthsk8sSq5cJg4zx1rwb9h2D4hv8As4+GP7KudESxJk2idX3fe56CvsG8tRd2k0DEqJEKEr1GRiuH+CXwksfgj8O9N8H6de3Wo2lhu2XN4V8xsnPO1VH6UAdJeefNo4s59Qi0/ULiPYs0ZGQ/fYpIzXx7rNrqf7OH7WHgW51vUJvHFv46uRpMF3eD/SNMkYhR5Y5AQ5yefWvpX4wfBe2+LcejF9Z1LQdQ0m5+12l9pcoR0fGOQwKsMdmBrD0H9nSz/wCFgad4x8U+ItT8a6zpSldNk1MRLHZk9WVIkRdx/vEEjtigD2NOcmnU1OnrTqACiiigAooooAKKKKACiiigAooooAKKKKACiiigAooooAKKKKACiiigAooooAKKKKACiiigAooooAKKKKACiiigApM0ZprMBgd6AHbhRuHrTOTz2pBjucUAPzRupv45prPQL1Hmk49KbuLD3puRn5jQPUl3Ae9IT+FRSSLDyXUDHPNYmpeNtA0rJu9Vtrfb18yQCnZspQqS+FXN9WFLv+Xjk14l4w/a2+HngsObrV0uAna3wxP614V41/4KKwzpKngrQ7jU5ei+YuM1XJJnTTwdee6PuBpFQZZsfWuT8SfFLwv4TSRtU1yys9ucrNOqn+dfnjrXxy+NnxfcLYxv4ejbrgkYqnb/ALOuveKQ1z4y165uTtLthyc1vDCzkzWVGhRTdaV7H0R8Sf8AgoV4S8N3EtjosE+r3nKxSW43IT9a8E8QftDfGn4zvJaWNvNoumz/AHZETYyj1yKw/gj4F0K28b6paS2iXkELbYmmGSK+l7e0g02JYbWFUjB6KOBXf9V9nucGHzihUhz4eGmx876L+y7qPiK4S88a6zPqT9dpnZj+Wa9k8J/Crwz4Pt9tjpcLMOkkkYL/AJ12AbChiQD7VHuEnPNUkkY1MbWrO8noIhPlquxQF6BRyKVIwCTkn60/bt68H1pN2V45/CqON9xQoHQUtJzk+lG4cdvXJoJHbhSjHrUe8UbCfmU8elAD2OGpyt+NRMVXrnd6UkcjM2MUyjwT4rkf8LK0wH+9XNfB9Sf2lPGG04H2aP8AnXQ/Fy6W3+ImmsEaRlbkCsj4baLqmj/GnXdfubKVbO+hREKj0NdNbZHzGU/71W9T6Xkrm/FXgTSvHFnLbatEZoZBtKnpir/iO81C10WafTYknuwu5I378V5d4I+M+uXF3cWfiHQp4LlSVjaFCU9q5nufS9Dzr4P+EX+EX7Qmq+FrO5ll0ie18+OEsSEO4du1fVr4UE549PSvPfCHgl/+Euu/F2pJt1G4j8iNAOBHnIP1rH1nxd4yj+LsOlW2mpJ4fMStJcnP3snj9KQHqxzG2VO78a8p/aQ+Hej+NPhrrN1expHc2MDTxz4+YMB2NQfFz4heNPBniezOjaNHqGiMAZmBO9fpxT9Y1DWPixosVhY2bWljMQt39oBUlT1xQBa/Z1lk1L4I+H47yNmh+y7AZBy67iKsQ/BHw9omqzalFd3VvAWMptVlIhA64K5xiu68N6HbeF/D9lpNtxbWcQjRQOOuf61zPxWur6Pw6tpp8byy3TrE5UdFJAP6UAeXap4jX7VrPi54lOm6LGbbT40UBHZu4HfpUvwX8C3Hizw7d+M/El1NJd6iGeOAuSsKAkcDt0rtPFnwvF98Kv8AhHbDatwuJBnuQM1leDG8Q/8ACIW3h5LRYLm1/dzOeFK5PSjqHRnPeKYkt/g+0dtNJNZiTCSSMWZvm969S+D/APyImn/7tcn8YNFg0H4XrZ26bIoyOPfNdZ8H/wDkRNP/AN2uqX8M+Xh/yN/kdqtLSLS1y9T6kKKKKBBRRRQAUUUUAFL/AAmkpf4TQBW1b/kD3f8A1wk/9BNeXfsv/wDH74l/66r/ADavUdW/5A93/wBcJP8A0E15d+y//wAfviX/AK6r/Nq8vMf4J6mS/wDI0h6HvlOXpTacvSvk+h+zi0UUUAFFFFABRRRQAUUUUAIa+f8AUSf+F9QfUV9ANnHAya+eNYuBbfHSOVgX24+UV1UftHzOc/8ALr/EjFj2v+144KkkB+f+Amvpxst6AZ4NfNceiasv7SC+IDZSjTyGDPj1Uivoe7uLiTSp5rJN1yFJjjfgE1zPc+jj8KKPifwbp/jGzNnqa+db4+Ze3NfNWgeBk+Df7QFpYaDNJFpOoOQ8O7pwT09K9B8JfGjxMutXNh4l0CWErIyxSWy5DDPGa6vQfBZ1jxhL4j1OPEn/ACwT+76Uiz0Rl28AcdqXc6x5j655zxXkfjvxf4y0j4laLpmmaes+hXEgE8/JK1N8Y/GvjPwfJbT+HtLi1CzyPMyTu9+1AGx8avBeleN/AWr2+qW0cjR25ZZXAO0j3rlv2V0u4vh29lclpI7acxRbzkbMdqtzeJta+J/hc6dp+nPZPcpsuzdDbgHriu+8EeFYPBuhwafAdzovzN0yaAOWk+B2gR65catFPdWYuHMs0McpWMsT1xmuL1q9ttY1q/vYAo0Tw7CxK44aZeh9+leo/EbULyz8NTQ2MTy3VwPKXH8OeM1zlr8NH/4VTeaIqomo3lswkk/vOR1NAHCfBTw3efFGS88XeKJ5nR3K2UW4+WIx3x0zWT8QENh/aNvFLJPZw3KpCXJIxx09q7L4bw+ItC8Hw+EWs9l1bgx/aB02k1Q+Muir4f8ACulWIPmSlgZZu5YtXRR+M8POf9zmeveB8f8ACL2XQ/IOldAG4rmPCV5b2fhOzeWVbcKgyZDjtWtY67Y6kNtpdw3LjqI3zUVNzvwf8GHojS3Um6oy2cleg607aTk9uorI7RWbikBrNuvEWl2Vz9nuL6GGY9I2cZq9uDRhoj5mcYIPBpgPpu3qcdKhmvIrSFZLmVIg3944/Cq6+ItM3qou42djgKGFICzdWMF7Fsnhjmjx9xxkV5n40/Z48LeMN0jWi207cjyhtwfwr1Fv3ik7unTbVZ9StvPFuLhPPP8ACDz+VXGTi7jUrHzW3wj+IXwtuDeeFtduHgjOUs/NZgfbFdx4b/bQ8eeCTHF420GT7HGNvmRQ4Jx3r2R5Et0Z3cKgGSzdK5Tx3pOn614Wvp5IYblRExjY4I6V3U8Q27M87F0MO4OdSCdj0b4c/tg+B/HVuhk1GPSpG4C3jhMn05r2nSdesNYgWWyvIbmNuQ0Thh+lfmd8N/gLpHxA0m+uZZGgnikzGI+ADzWs3gH4o/Du8M+ga9M9jGflgZz0FdX1hXsz5mGT0sZTVWhK1+h+lW/8aXcD0Nfn5oP7ZPxG8Hyi08QeH2uIIzg3C5yf0r2bwb+3Z4H17ybS/aexvjw6uvAP1rRTi9bnk18mxeHequj6e3Ubga4rQ/iv4V1+NHtNbtXDDhTIAa6q1vYbyMSQSLNG3RkORV6M8ipSnT+JWLeRRmoywXqeKPM6BeRVGRJn0pd3rTRxSH60gsyTcPWk3Co+nWjO7pQK5JupahWpc4oBDqKaGp1AwooooAKKKKACiiigAooooAKKKKACiiigAooooAKKKKACiiigAooooAKKKKACiiigAoopMigBkkgXJJAx6msZvGOhjrqdvn/roK1bw/6LNz/Af5V8oSx7nIJAG48/jW9Kn7QynPlPpg+NNEVsf2pb+uN4rzz4nftN+CfhjDDNquoptlbanlsDk14hq3i3StJvIree5QOTjgZx9cdKzPF3w48OeP0tn1S3S+iiO+MqeM11fVfMdOtBT99XR2Go/wDBQPwTCu6z3XAPTiua1L/gotp0S5stFe5+gasKz+B/g2yZXj0pV21sWfgHQNO3fZtPhjbr8wFP6sluz1PrmEW1O5zt5/wUm1U7ha+DJpe24K1ZV1+2v8RvFQZdO8OPaHGR8p/rXpNlZaWimK2jtyQfmWMBufwq8bWKPJWNAMdQBT+rxH/aVCPwUlc8Gu/HHx/8XSF4L1rK2k7ZHFZp+BXjLxs2fEvia8Vm6iN8c177eeINMsZFjnvLe3I+9lwD+VSWusWN9IEs7pLg4+9GdwFaRpQjujmnm1XaEUjx7w5+yz4f0mQNeyy6m3fz2Jr0rRvh34e8PyIdP0uKJgMbgtdDJcLboXklVFX+JiBn86hsdUtr5na3ljIXg4IrVJLY4Z4mrU+KRNDDHHlRGgHsoFMulLQzc/wNx+FRz6pawXEUD3EYuJRlYwRk1NcMGs5McFkbHHtWi0Z59Ztwl6M+e/hLfRaX428Sz3DLHFHIWLMRirev/tcaJoeqNCtjcSWqvtaYxHb781z/AIH8Or4p8V67prsVgnmKy469a99vvBGjzeHZtKmtIJLZYCmNoHAXrW2IWp8/kf8Au/zZH4F8e6V8RtFXUtLkWSJuwPIrpDHt+mK+Zv2TtMudF8SeKLSFy+jRzsIfQHPSvpqMD5kzyD1zXMfSHG+OviZp/glRFMslxeNwkUYz9OK5LwX+0doniLxANEvYn07UHOEWQbQ3516JH4atIdak1S4VZ53XYC/QD8a8K+J3hG18cfGrw+NGeEz6a4nm8pgOAenvQI+jp5Eht3lkbakYLM3sK8N1/wDaz8MaDq11YSwTyNA+0ssZIOD2ruPjZ4hvPDfgHUHsbaS6uZYzEqx8dRXzn8Mv2h/CtqlloPi7w4NJvY8RNeXEefMb1JxQB9OfDn4hQfETSmv7WBooScIGXBpni34qaJ4OvIbO6kaTUJfuwxDJ/KtK31Gxs/CUuoaQsf2QQmWJ4wADx6CvCP2crY+N/G3ibxXqjefcQ3LJB5nSNcD8qAPY9F+J+ja1HKd8kc0Yy6sOnpUfh34nab4o8TXGlaaWke0wJ2xgAnpXJ6lqWnaTN4v1m6jAtmlWO1cDO9mOBgfUiuj+EvhNfD+jyahdiNdSvm8yRmwp2/w9famUcH8Uvl+J2lAJuy4Jr3S1jUQRDy0zsGflHpXhXxSYS/E7SdjBH38817tbkeVDnn5BzXTW2R8xlP8AvNb1JMtzzkn2piwRrz5aFv720ZqxtFG0VzPc+lWyIidq7R/F+lL5Q+7tU45zjmpNo4pevOcGkBHJHHINrIpHowzSeSqDCqEHsMVLx6Zo/HNADP50xVD5yoOD/EM1LSqxXPFAECgY4JDg0R24XcdoTPJKjrU21Tzjml52n0p9Lh0Z5d+0ET/wg8g4ABUcfWtr4Qf8iJp/+7WL+0D/AMiPN/vD+dbXwg/5ETT/APd/wrpl/CR8vD/kb/I7VaWkWlrkPqWFFFFMQUUUUAFFFFABS/wmkpf4TQBW1b/kD3f/AFwk/wDQTXl37L//AB++Jf8Arqv82r1HVv8AkD3f/XCT/wBBNeXfsv8A/H74l/66r/Nq8vMf4J6mS/8AI0h6HvlOXpTacvSvk+h+zi0UUUAFFFFABRRRQAUUUUwE57da+e9VVj8dI1KZHFfQlfPmqE/8L2j69q6qP2j5rOf+XX+JHvxjV3BMaZIHO0U3btztXBzmplxkfQUZ7Vyvc+ih8KK/lhmyYo93qUFOG7O0gbRyMDHNTnOOBzR1HPWgsiZVflkUv2fHNG3dkOqOO24ZqXbRtFICEQhfuKsZ/wBlQM09V2nPX60/aKNooAhaBXYlvmz2bpSldvQADNS7RRtFAESou75VAYnrjmvHf2iiPsFio7uMt6c17Ptrxf8AaM+Ww08n7m4Z/Ouij8Z4ec/7nMxrfwjqvxYhSyGpTaTpdkoUmPA87I+leW+OPC2t/s4+MtH1Cw1i6vNOu5Qjxs2Rya+svA6xr4YsPKXHyD8TjvXkvxosx8RPHOh+HrdfOjgYyXLAZEeCMVFTc78H/Bj6I9tsZGvNMtpuA80Su34gGqfiRr+PRLhbAbrphtQ+lXbG3+x2cFsDgQxqv5CrO1gM5rI7Twfxl8CpL7w3d6jc6vcNquwyibdgocZxV79lXxFrGveB501WZ55LaeSBZpOpCsQP5VF8fvEvjO10O4tfD/h6a5twMvMjLyO/ej9mT4iWHi3wm9lbaf8A2Ze2jN9ohOM7gfmPHvQBl/Gy+t/HnjO38FxeJG0F4FE7SxuFOemOfrTvAH7N82g65a6rL4yvNahhbcUZlKn8hVv4lfso6D8Q9QuNTE0lhqsq4Fyrn+leZ/DHWfFHwC+J8Hg3X7l9R0e8wLWRiT82cdaAPcfj58SpPh94digsNv8AamoOILcDruPArn7bwbqel+D7DV7rU5k1u4ZS8jHpn+GoP2iPA+o6pr3hrX7SFrq30+9jlmj6/KrAk11eo6y3irT4rmS3Njo9gBdvM3HzJ/Dj8TTFY5Pxnp+vvc6TpFvrs099dFZJ7fgfu84NemeItMj0PwHcWcOSI7crlj14rzWx8WWOgSXXjfW5PNmu5fL0tD1kQjAAH1q9q3xS1e80K8/tnw1Lo1pNAyR3LuGBJHBwDVw+I48b/u8/Rln9nPc2h6jnj970H416/tG3H3gfXpXkH7N7eZ4d1E9hKCT+derahqVrpNqbi6mWCFRyW7/hV1viPOyaX+xwIL7RbHU4WjuLaKWM+qg1xGufAbwnrEbsumxwTv8A8tYxg12mj+ItP1xA1ncrN/sY2n8jWoF7nj2rJN9D31Ofc+cb79le40y4a60TX72KQcqgcgD2qKPT/jp4MkA0zXZZ7JOkchBr6U3YwNuRUEl1bW7BZJEV2OFR2AJ/Ct1WlHdkShSqfxIp/I8PsP2rPij4HjzrOj/2lt4O0Gup8P8A/BQq5mhH9o+F5LWTOD8rV6Q0FtMNzQo2R/dzWF4g8N6FNCZL2CFI8cswC/rWscV3OGpluCrfFCwWH7fXh5zi9spLcepU4rftP28Phq2PtF7JC3oVrzi68HfD7Utlu4tXDYIRXGSe1NuP2e/Amo4Z9IRiw4bNafWvI45ZHgZbNnsFj+2x8MNR4i1fjOCSMV0WmftNeAtWj322sRHnBDMBXzHcfs5/DyO48mK0t4X9N461n6l+y14bZd8c62sKgkkNj8av60jnlw9hGvdnZn3to+tWusWMV3bSB4JBuVgeCK0VbcMivl3wPcSaL4bs9LsdRkmtbddiNuPNfRXhCR5PDtk0jbnKcknNb06qqaI+Vx+WPAq7lc2sYNOpO4pa3PFCiiigAooooAKKKKACiiigAooooAKKKKACiiigAooooAKKKKACiiigAooooAKKKKACmU+mUARXn/HnL/umvhf42+Nh4F8C6lqCMBcAbY1z1JOP6190Xn/HpJ/umvy3/bjvp7fwxpsMTFY5rpQ+P96vQwnU5qp2PwU8GJqngGS91cyT32ohpGeRs7AeRiub+A/je70P4ia94D1OWR1t908DyHJKscgfrXrXwj2t8P8ASlxx9nXr9K+ZZL24s/2zo4xkLOsUb49OK7fU57H2VtOzO75awfG1jPf6DcR205hyhy68HpW9yjgfw4qlq/8AyCbz/rm38qLIR88/shteNceKkuruW6EN/Ki+c+cAMa9/8TavH4d8P32oyMNlvEZPyrwT9kX/AI/vGX+zqUx/8eNe++INCg8SaTPY3LMIJhhlHejToI+VdJ8H+DvjRrFzql/4tlhv7mTK2kU5XA6YxXv3wp+FVh8MbK4t7G7mulnfdvnfcV/GvGviR+yFptvp82p+E7qfT9WhBYeS2BxzXVfsp+PNV8SeHdS0TXpGl1LS5Ps7u5+Y44yaAMHxD4m1P4wfGhvCVnPJa6NpZP2qSIkEnt/Ku01LwLH4a8YWEWmXlwkEsRa48yTjiub8K6He/Cj4oeKb6Wwmv49YnD280K7sdev51reOLvVbO3ZHbOsaq2II+8cfQ/SgBPhn4fn8SfEDUNekuZX0+zZkttxyrcYr22ZW+yykDkRtj8q8R0jx5/YV9beCfB8C32oQLmeSRcxo2M8mu/8AB/irUNWbVdM1SNYtTs0/eeWMLyD0/KqW5lV/hy9DzL4KMf8AhYWvEjnzTu/OvT/ib4gm03S307Typ1S8Xy4++K8U8D+JIfC/iLxVqXlyXBjJOxASSR6Vh6D+0VNb6tdapqnhvUbq6ZyId0BZYx2I4ror6ng5F/u/zZ9C/CvwFH4F8M/Z0G65uHM0xPXcetdh975VTaR0PrXkHw5+Ml/8VNa8m30u50qG2G+Rp4yu8egrW0v4uSah8ULzwuNOnjihjBErKcH8a5eh9HueganpcWsWUlvLIyK6lSYzhufSvkb4sfCK/wDgz4y0jxf4e1O4NtcXQinjmkJJB5r3TXvjpYeG/GK6De6fcxswytxtOz86p+PIZfi0dL0qxt5UghnFxLKy/KVHYUAek6PdR6/4dsZ54RKssauVYZ5rg/jH8GvD3j7wlfrcafFFeRRNJDNCoBDAZFS/Er4mL8GtEsVj024vbdQEzEpO0U2T4pW/izwix0qzmNxfQ+Wi7SSpYY5oA5b9lu7u7zwHf6JqDtILGQ2/zc5WtzRPhLqfhPXb7+wr2G20fUHL3EMinf8Aga6T4UeCZfBPh9obhVN9cMXmPua0fiB4kXwv4ZnuFRppJP3Q8schm4B/DNAHmWvG0vfEP2C3IfQPDsbyXqyD/WSAZU/mKyfh3/a3xuOo6vq1xLa6Fbts09LZyjfLkHP6V1bfDu+t/hPqdivz6zeRl5ZR96THODWJ8I/Ekug/Dm10CHS7iLVBI6MrJgDJ60xnHXlxcN4606OaTzhHKUSQ8naDgV9SWY3QQn/YFfOHiTQW0Hxto8MjZlZt7fU819H2f+ph/wBwV01vhR8zlX+81vUsLS0UVzPc+m6WCiiikIKKKKACiiigApf4TSUv8Jo8h9GeXftBf8iPN/vD+dbXwg/5ETT/APd/wrF/aC/5Eeb/AHh/Otr4P/8AIi6f/u11S/hJHy0P+Rv8jtVpaRaWuU+pYUUUUCCiiigAooooAKX+E0lL/CaAK2rf8ge7/wCuEn/oJry79l//AI/fEv8A11X+bV6jq3/IHu/+uEn/AKCa8u/Zf/4/fEv/AF1X/wBmry8x/gnp5M7ZnA98py9KbT6+UR+0BRRRTsAUUUUWAKKKKLAFFFI1LqK4V8+6p/yXZPqK+gu1fPurf8l3j/Cuql1Pms5/5df4kfQCfeH0pe9NWnfxVyvc+ihsh1FFFBoFFFFOwBRRRRYAooopAIeleL/tIN/xK9OPZXGfzr2nOOa8W/aOO3TbAH5gWHH41vR+M8POf9zma118RLLwl4R0u2knVb67j2RrkDHHWpvBt94c8PxTXlzqlvPqdwN002Rn2Arh7r9mbSviLbWWq3ut6jFIqfIkcpVUyO1R2/7HWhW91FKfEGqtsYNtackN7Goqbnfg/wCDD0R7RD4u0tdG/tWe4W1tGOPMkPB7Vo3Go2cNql09wqW7AFZCeCDXCfEH4PWXjbwbH4djuZ7KCFVCmFsE47mtPUvhvBqPgkeG3vLhY0iCC4DYYfjWZ2nUvdQXVg7xyJJG6H5twIIxXhvwF8Miz8deJ9WtovKsZ5HTAGBuBOTXQ+Efgfd+HrZ7WXxHfz2+cpvlJOK9M07Q7XSbAWNtGsQdTloxgknuadgGad4g07VvOSzu1neM7XXcMg5rxf4xabH4o+KXhaysU829s5luZWUZITP/ANatDT/2dn0TxVPqdj4gvoYLiQvJGJOOTXpfh/wbZeHbl7wZur5xs+1SnL7fTNFgNq4jVwVfEkT/ACsrD+leYfE66l1rUtO8HaQqQzSuJrpV6GEcMPryK9V6Jk9etcvofgiLS/EF5rE0rXF3OTsZ+qr6Ciwjwrxh4di1z9oHwv4bOYdI02yEiRt93cGJzivRfjE0XiLTpNDiYNDHGZWdP4SvIH6V0PjL4Wad4y1WDUzNNYahCu1Z7c4bHpUOreF7fwx4N1MDNzKYWHnS8seKcfiRx4z/AHep6M5n9m1Wt9B1Lc6qBIMfQZrjbPxLc/F79oO90nznGieH5Ajoh+WQlQ3P511HwNZ4/BOuuBhlVyD3zg4ryz9je4lvPiR47mlyZGu/m3deABWlX4jz8l/3OB3Px8muPhlrmjeKtIEkNskqxXESnC7ScZxXuvhzWY/EGi2d/EwZJow/HuK8V/bI3L8L5yhIIZSPzFdh+zndXF38J9GkuBhtmP0rI909KmVmjYJw2OK+W/jhDqOj/GDwnOL2YJcXIVoUkO0jB7V9TNypHSvmf9o8/wDF1PAXYm7Az/wE1IH0nYkfY4OPvIM5r5/+PPizQfEHiqLwVquqvo0Cqs0lwr7cg9s17/arus4P9wfyry34ifs3+HPiReTXmqq5u5Bt85Dyo7U9AWnU5LwH+zX4Vt9TtNc0vXrzUIoGDJmfcrAetdn8fvHknw78Eh7FC17eMLeAA/xHpXgOkaZ4l/Zn+K+mafJfT3vhnUphbRrM2VXPSvcPj94FvPGmj6NfWAMwsblbloh/EoHYUWYGL4d+FKn4cNrGr3142rTQG5YrLjbJjOKyfFVjqd54Z8PaVFfzf2pqGxmVXORD0JP513f9v3HiXQoStrLYafYoHuVlG0sF6j9K4jT/ABfpfhq4vvHOruXVZPsmk2y/xRscDA/KnvuFuZWZ7p4U0FPDehWenoWkMKAF36nPWvpHwev/ABTlkD/zzFfF+m/ELxPDHZatqVnFHo924VIwp8xc9K+zvBxDeG7AjkGJT+ld2E3bPkOIP4cH5m3jBFOpO4pa9M+GCiiigAooooAKKKKACiiigAooooAKKKKACiiigAooooAKKKKACiiigAooooAKKKKACkpaKAK99/x6y/7pr87v2qPA7eLPh3dTQxGa5s5BIiqMnhuv5V+iV5/x7S/7pr5UvtJnuFkhmtJHSTIZSvBB6iu7CySbuc9RHmvwN1yPVvhnYPvX9xFsk5+6VHINeNfDHQ28cftIa/4lYB9Ps4wkVxjK70OCAfwr3eD4QzaP5troxmsNPuGLTW4UncT1x6Vs+G/AumfD/TXsrC1FlFKxkkMp5dicnn613XRgRweNdIvtdfRo7yI3sabim4Zq7rn7nR7vJ4MbHP4Vxlj8J9BsfHE3iWOYC7lXafn4611ut241exNsl+turDaxyOR6UXRPKzwD9kKVZNS8ZCNi4Ooy/wDoRr6E1nxBY+G7cXGo3cVnAWEYeRgq59MmuO8G/C/Sfh/dzy6Ncpb/AGlzJP8AODuY9TWn8QvBGh/Enw+2j6y6zW28SLsk2kMO+aLoOVmzN4k0xdJe/S+ge2VS24SA59q8k/Z+0J38SeMNdMLRxX14ZIdwwrL6itrwr8E9G8OWJsZb43Nhn5YGlzj8c16Ppdrpuk2cdpaPFDBGu1VVhTugsya7uIrGznuJduyFCxLDoo5P8q8d8NrceNNU8Q+K7hC1pbxOmnN7Ac4/HNerazYxaxp0lj9qjRZAVbDDkd6b4f0PTfDehx6TbSxi1QEBcjv1pXQcrPC/2U4bO10XWddvbqL+07iV2mEkgDDBPGCa9O8F79W1LxBraxtHaXa+XGzDBJANNtvhH4Rs9QubmC3jhNw2+QLNgE9eldfG1pY6e9vbtCkSxnCqwwOKakrmNVPkl6M8J+DdnDf+P9ejmhQrHIQVI4+te6L4d0vYF+xQkdvlFeHfBcxx/EPX2e4TaZTzkc176Ly3Uf6+MDPBLCuirOLseJklOUcPdrqyGHTbWxYmCFIz0+RcUi6Za/2j9uS3VLkgK0g6kVZW8tf+e8R/4EKd9stv+e8f/fQrmuj6BRZl6t4b0zWpN95aR3D/AN51Gau2drFYxpFAgRAMADtUzXtt/wA9ov8AvoUn222/57R/99Ci6Hysh1DTbXVIzb3cCTxP1DjNRaX4e0/RWIsbaOHj+EAVb+3W/wDz2j/76FH2y3/57x/99Ci6DlYrAjjpUVxZQXkYSaJXUc7WGaeby2P/AC8R/wDfQpPtlsP+XiPP++KLoLMWMBScrg9M0W9jFFM0qxqHfq2KRr60b71zED/vCl+323G25iI93FHMthqLPCfinj/haGmH/bAr3az/AOPeP/cFeC/FS6gb4macyTx7Qw+bcK9ytrqBLeI/aIfujPziumrJWSPm8rpyjiara3ZfWlqv/aFp/wA/MX/fQpf7Qtf+fiP/AL7Fc3MmfR2ZPRUH9oWv/PxH/wB9ij+0LX/n4j/77FF0HKyeioP7Qtf+fiP/AL7FH9oWv/PxH/32KLoLMnoqudQtv+fmH/vsUv8AaFr/AM/MP/fYouhE9L/Car/2haDrdQ/99ik/tK06faYj7BxS5lcFszzj9oT/AJEWf/eH862fhA3/ABQmn/7tYHx+vLebwROqzxltw43D1rX+EN7br4F08G4iBxj749K6pSTpHzUKcv7V5raWO9WlqqNStv8An4i/77FO/tKz/wCfuH/vsVz6H0zTLFFQf2haHpdQn/gYo/tC0HW6hH/AxSuhE9FV/wC0rP8A5+4f++xSf2laf8/UP/fwUXQWLNFVv7Us/wDn6h/7+Cj+1LP/AJ+4P+/gougsWaKrf2pZ/wDP3B/38FH9qWf/AD9wf9/BRdBYbrBP9lXv/XCT/wBBNeYfsvf8fviX/rov/s1ei6tqlk2l3n+lQj9y4++P7przT9mW8gt73xKHuIl/erhi4wfvV5eYNOjZHqZLCUszg0tkfQQp9Uv7Vs/+fqH/AL7FPGrWWP8Aj6h/77H+NfKLa5+zFuiqn9rWX/P1D/32P8aP7Wsv+fqH/vsf41VwLdFVP7Wsv+fqH/vsf40f2tZf8/UP/fY/xouBboqr/all/wA/cP8A32KP7Usv+fuH/vsf40XEWqRqrf2pZf8AP1D/AN9ig6pZf8/UP/fwUriLP8NfPuqf8l2jr3j+1LPH/H1Cf+BivAdSuov+F5JIZ4tg/i3it6Tsnc+czeLl7JJfaR9CR9akqhHqll2u4T/wMVN/atl/z9Q/99isNme/B2SRaoqr/atl/wA/UP8A32KP7Usv+fuH/vsU7mly1RVX+1LL/n6h/wC+xSf2tZf8/UP/AH8FFx3LdFVP7Ws/+fqH/v4KP7Vs/wDn6h/7+Ci4XLdFVP7Vs/8An6h/7+Cj+1bP/n6h/wC+xUhctEZGK8Y/aIXbp9mxZfvDGfrXrrarZbT/AKXCP+BivGf2iLq3utOsUiuIpPmB4cetbUpcstTxM4TlhJRSPUPAsZHhSwLHPyCtsqGOcZFcx4H1G1j8LWI+1wn5RwXFdD/adljH2qH/AL+Cpm/eO/B/wIPyJ9ucEgkr3pOV4zx6VEdUs/8An6hH/bQUn9qWX/P1D/38FRc7Lk/3mGecdKGyOQagGp2Wf+PqH/v4KU6nYn/l6i/77FO4ExXPWl2AKBjp0qv/AGrZf8/UP/fYpf7Vsv8An6h/77H+NAXRNnbwRTscDmq39p2X/P1F/wB9ikGpWQOftUX/AH2KAuWhlehxXPeOvm8KagTyfKbk/Stj+1LM/wDLzD/32KwfHGoWbeFdQVbqFz5TAAOPSqi/eOPGa0Jpdjgf2e4ftXhnU4ZBnzH25+uRXnXwX0l/h7+0D4s0q5T7PDfXIkt2b5fMG0Zx6816D+zrqEMPh/UFlmjhPncbnA9a7bxP4V0HxJqFnqrTww6pa5ENysgyv19aupK8tDgyhOnhIwlujy/9re6k1TQdP8OWq+ZfX06AIvPG4ZP5V6N4bm074V/D/TYtSuI4ERFXDELyR0p9l4L0dtdh1fVr+HUtQt/9TM7gBcjHSpfiB4N0H4jaMLDUrmEhWDIyygYxWR7XMu51tldQ6lZw3Nu/mQzKGUg54NfNv7SEyf8AC1vAMZdVAvRnJGR8pr6A0GHTvD2j22nwXsIigQIp3g9Pxri/Evwx0HxdrFvqWqXkVxeW774JN4Gw/nQO67no1m3+hx7RkBAc9sYrL03xho2rXM9raalaG5jYq8QmXcD+dSabNb2tiLaTUYplC7QdwGB6V5bN8AfDNt4uk1/S9QWyuZm3SgTZDHvxmgCh8drNfHHizwlpOnbbm4stQS6naM52oM55r3SGMRWsadVVQuPwrmfD3hrw/wCG7p7q2khN5IP3kzygk10LalaMP+PuEfSQUAea/FfVpb66sfCmmHbeXbK1zHH/AM8Sec/hmvKPin4ZtV+N3gTwzIVt9FtrPzQzkKnmIVx+Ne+Wfh3S7fxW+vNexSXZTywxkXhab4w8GeFvG0tvLqnkyzQHMciyhWH40X1HzJaso+MLyPVJdM0DTitxPvWUshBUKPevrbwfGYfDenoeqxKD+VfNXhnwppWhhX09FZunmF9x+ma+mfC+V0OzGMfux/Ku/CaNpnx/EH8OC8zVpw6U0U6vSPhxaKKKACiiigAooooAKKKKACiiigAooooAKKKKACiiigAooooAKKKKACiiigAooooAKKKKAGsNxqtJY23GbeP/AL4FWuaTGetF2tgKq2Nuzf6iMD/cFeb/ABc+B+nfFS3tIJ7mexEDlwbWRoyc+u0ivUtlLtGMVXNLuKyPmP8A4Yn0jp/bepY9Ptb/AONDfsTaOygDWtS/G7f/ABr6Z8lfSkKqP4aOaXcVkfM3/DEukdP7b1L/AMC3/wAaX/hiXR14/trU8H/p7f8Axr6ZDgDgcUm7zMEHAo5pdwsj5oj/AGJdGTP/ABOtUIPrdv8A40N+xLopXjWtSB/6+3/xr6YGVGc5FJw2DnrRzS7hZHzN/wAMT6WWz/bOpD6Xb/40v/DE2kjga3qe33vJP8a+mvLFG0f3aOaXcLI+ZJP2J9Ibga1qQ/7en/xqG8/Yu0az029k/tnUiVhdh/pLnkKfevqLb7VU1WBrjTbuJPvSQug+pUilzS7jsux+fX7Mf7J+jeMrHV76fUr4TLdyxbluXB+ViOea9xj/AGKdK5SbWNQZe225cf1rtf2c/hlf/DPQdRi1J0d7i8mmXZ2DOTz+deyIgVckDNW5yfUinShTjyxR80j9iXRR/wAxjUf/AALf/Gl/4Yl0X/oMah/4FP8A419K8+1PV1wOf0qeaXcvlR80f8MS6L/0GNR/8Cn/AMaG/Yl0X/oM6l/4Fv8A419M8HpSNgf/AKqOaXcVkfM3/DEmif8AQZ1L/wAC3/xpf+GI9E/6DOpf+Bb/AONfS6kZ/wDrUu4Zxxmjml3CyPmX/hiXRv8AoL6l/wCBT/40f8MR6L/0GdQ/8CW/xr6b3e1JT5pdwsj5j/4Yj0XvrGoH/t5f/Gkb9iPRMf8AIW1A/wDby/8AjX08FpO9TzS7jaTPzw+Ln7KeiaH8dvhjoP2+9e21d5BMTOxJ2g98+1e3J+xDosbbhq+o56bTcvjH512nxZ+GGp+LPjf8NvEloVFnoskhm/4Fn/GvaWOJAnr0NW5yfUiFOFN8yW580f8ADEeh/wDQX1D/AMCX/wAaP+GItE/6C+of+BL/AONfTXr/AIU3jrgHvU80u5fKj5n/AOGIdF/6DGof+BLf40f8MQ6J/wBBjUP/AAJb/GvprA9FpOD2/Kjml3FZHzP/AMMQ6J/0F9Q/8CX/AMaT/hiPRP8AoL6h/wCBL/419NLjrjApSy+v6Uc0u4WR8x/8MPaH/wBBfUP/AAJf/Gk/4Yf0P/oL3/8A4Et/jX05uHt+VG4H/wDVT5pdw5UfMf8Aww/oX/QWv8/9fDf40f8ADD+hbgf7Wv8A/wACW/xr6d49qMD2pc0u4cqPif43fsbaJoPw/v76PUbyXyhk+ZcMep+tL8Gv2PdF8SeA9Ov5dRvY2bOFSdgP519Q/GDwtc+M/At9pdnjzZQMfgQaPhF4XufB/gmz0u8A8+L0qnUla1zNUYKXNbU8YH7D+if9Ba+/8CG/xpf+GH9C/wCgrff+BDf419OAU7bScpX3NOVHy/8A8MP6Hux/a1//AOBDf40o/Yf0PJH9rX//AIEN/jX047FRkClDZUH+lHNLuHKj5jP7Duhf9BW+/wDAhv8AGm/8MO6D/wBBW9/8CG/xr6ez/nFNb/PFHNLuHKj5i/4Yc0H/AKCl9/4EN/jQf2GdA/6Cl9/4EN/jX1Av+eKXb/nFLml3DlR8u/8ADDPh/wD6Cl9/4EN/jS/8MNeH15/tS+P/AG8N/jX083y0mfanzS7hyo+Vdc/Ym0Gz0TUbj+0r5mitpXA89uyE+teTfs0/skaR4y8K3l/Pqd9CzTuhMU7L91iBnmvvXX7OS+0LUbaIYkmt5I1+pUivM/2dfh5qHw68IzWd+y75J3kA74LE1ErzXLI6KNSVB81N2Z5uv7DOiMuf7d1QD/r7f/Gl/wCGGNF/6Duqf+Bb/wCNfT/C8n7tSAg9Kx9lHax2/wBpYr+c+Xf+GF9E/wCg7qn/AIFv/jR/wwton/Qd1T/wLf8Axr6jHPSl5p+yh2D+0cV/OfLX/DC+i5x/buqf+Bb/AONL/wAMLaJ/0HdU/wDAt/8AGvqPNM8xc4zz9KPZQ7B/aOK/nPl//hhnRP8AoOar/wCBb/40f8MMaJ/0HNU/8C3/AMa+oPwFOGPXml7KHYX9pYr+c+Xf+GGdE/6Dmq/+Bb/40v8Awwzon/Qc1T/wLf8Axr6g4an7aPYxD+0sV/OfLf8Aww1og6a5qn/gW/8AjXinxO/ZP0nwx8XPCml2upX5bUlYyO1w2eD9a/Q5lxyBXjXxY+Guq+KviZ4W16xKiDTAwlB6nJzTVKKM547EVLc0tjzyP9hnQ2jiP9takuBzi6f/ABqb/hhjRf8AoO6oP+3t/wDGvpyHHlr7AA1Lxil7GJp/aOK/nPl7/hhfRf8AoO6p/wCBb/40n/DC+iD/AJjuqf8AgW/+NfUeQf8A9VHFHsYh/aGK/nPlz/hhnRP+g5qn/gW/+NH/AAwtov8A0HdU/wDAt/8AGvqPinYp+yh2D+0sV/OfLX/DCuif9B3VP/At/wDGk/4YX0T/AKDuqf8AgW/+NfUm36U337Ueyh2D+0sV/OfLv/DC+if9B3VP/Ap/8aUfsL6H213VD/29P/jX0/uDthW5oVxk4XGOtHsodg/tLFfznzD/AMMM6GOTrmqY/wCvt/8AGvFP2k/2VNJ8B6Xps8OqahN9ouoox5ly5GCwHrX6Gbtw9q8c/aO+GOo/E3StNttOKCS2uY5j5nTAYE01TgtbESx2IqLllI83039hnRVsoSNX1FAUUhVuWwOPrVgfsL6KeTrmpj6XT/419M2aiK2hjZvmVApH0FXFXih04PWw1mGKiklPRHy1/wAML6J/0HdU/wDAt/8AGlH7C+hj/mPap/4FP/jX1G2B1NQ7ypB27s8Cl7KHYr+0sV/OfMX/AAwzof8A0HdU/wDAp/8AGk/4YX0T/oPap/4Fv/jX1BuYnBUE/wAqN204JUH6Ueyh2D+0sV/OfL//AAwzon/Qa1L/AMC3/wAaX/hhrRu2s6l/4Fv/AI19Q7fYflR07Uezj2D+0cX/ADs+Xx+w3ovfWtSH/b0/+NH/AAw3ovbWtSP/AG9P/jX1Bu9sU3cA2Mc9aPZx7C/tDF/zs+YT+w3o2P8AkM6l/wCBT/41keKf2KNE0vwzq99/a+ovJb2sjorXLkEhSfWvrbOeg/Wsjxfp0ureF9Vsof8AWXFtJEv1KkU1TitbEyx+K6zPij4A/so6d488DxX11ql5GGYgmGZl5z3wa9MH7DGiMo363qfHYXbj+teo/s9+Ar74e+C00y/P7wsW4+pr1BlJQBO3GKHTi9bFfX8RFWUj5g/4YZ0Nm/5DWp4/6+3/AMaP+GHND3YbWdUP/b2/+NfTsmVUKD8+alVM4ycml7OPYP7QxP8AOz5cP7DWhNgf2zqmP+vt/wDGj/hhrRdzf8TvU8Hp/pb8frX1IYximtwME4H0o9nHsH9oYn+dny8P2F9CGT/beqD2+2P/AI0i/sN6KvTW9Tx/19P/AI19Qbi3anK7Y5GKPZx7E/X8T/Oz5fH7DWh/9BnUv/Ap/wDGlb9hrQ+2s6l/4FP/AI19Phw3X+VHytwDz9KPZx7B9exH858vH9hjQ92RrGpg+12/+NOX9hvRO+s6n/4Fv/jX0/t/2v0pwX3p+zh2D69iP5zy3wT8CdG8HactoJLi62nO6WQk16ZaW6WtvHFGMIgwBUxXdSqu1cVailsYVa9Wt/ElcFp1FFM5wooooAKKKKACiiigAooooAKKKKACiiigAooooAKKKKACiiigAooooAKKKKACiiigAooooAKKKKACiiigApjLT6ZJ2oAjZfMQrkr715XrH7SXg7QdWudOuZpxcW7bHATvXqfCjJbHOa8u+Inwu8Ow6fqWtW/hiLVNS2NIeTlj+dAFRf2pfBDZAnuP++BXUeBPi7oPxAung0p3aRefnXtXyt8H/iD4T+IWh+JIz4It4vEem3htU04MdznA5PPvX0B8AfDV/p1ne3Os+E4fC955mI4423Fl9etAHstFR+ZSebzQBLTJG2jNJvz2P502RvlJPy0Acv8AELWtR0LwreXOk2i3Ooqv7qEjgk18y/Ej4C/ErWPC914usfHupabq8cf2ldJjYC3OBnaT1xX163zqhYY9u1fOH7XXx+uPh34Ru9P0nTZtSnmTZI0aEiNe54oA1v2M/itq/wAUvha0/iFP+JrZXLWkzDlW245r3tVGT8uPQ188/sWeKvCuv/CqIeHCvntKz3UfIbzDjORUXxL/AGhLiz+PVj8LLVhYSzxRzm+3ckN2/SgD6QXGOBig15N4M1jxVa/Ea68P6ojT6bDCZEvj/FjtXrGMjrk0ABA7niuX8bfEDSPAFqtzqhkEbHHyDNdPt54/GsXxR4O0rxVbCLVLVbxF5VWoA86X9qjwM27/AEm64/h8of4063/ag8E3UsSRXFz5srCNVaPuTivD/jd4k8OfBr4iaDp+oeCYDomonY17vOEOR711S6KNa8ZWTeG/h5b3Xh0bW/tLeRt75HNAH0/Z3QulDrkq3IyO1TMOuKihVbeMLt2jGOlPCsFGOaAAqFY564/CkJzk9scD3pcMeucUeXt5JYigBk0nlQs7/wAIya+XviNpfxN+OeqXVr4a1M+G/D0LNEl7bviYyA4PXtmvqFmEkbLjK479xVXR9JtNHhaK0hWGKRi5VR/ETkmgD89PBvxU+K/7L/x40LwR46v28RaLr04t4b65clhnJB/IV+iilWCEEkYyCvTmvjr9ojQR8YP2j/A+h2MPmNoN2uoXM6DOEwRgn8a+kvi38QI/hL8OdV14QeeLCHdHF/eIFAHcru/2aG3f7NfM3g/4meKvGnwzs/HWjXJvvtm2WTTk58gHtX0D4TvJ9S0C0urpds8sYZ0YcqfSgDVP9zofX1rh/HXxh0H4c3UUGrNKrMONq5ruN3Xy+frXLeKvAOh+MJPN1XTY7+WIYUNxmgDiB+1Z4Ib/AJbXI/7Zf/XrQ0P9pDwj4g1KKxtJbgzSHAymK+eLjx54X8O/HkeB9f8ABcFhYz28k8F07Y3FSMKOe+a9D+HHh+71Lx8k6/D+HTfDjEmPUxIc8dOM0AfSiyB41YcBhketA5zznFN2KoVdpCqMCkMkaMAXCkdVzg0AWF606q4uIuP3i/nSrMrSbQ4P0oAf97ikUkMQKa77QcdScV8yfFb4/Xtn+0DpPwzt7s6StxHHIL0DqW7UAfTrZIwelC+1eReB4fGGj/E+60rU72TUtC+x+bFdyDq2Rx+tet5XaRjn1oAkXtT6ZH3p9AEcg5HH40yTO4YOT6ZxTpjtGTzUccRzu4NAGLeeM9C0+d4LnWrOCdfvxySgEVF/wsTwooH/ABPtP/7/AK15Z8Uv2bvCfiW/1DX7u2ea8dS7IHYA4HbBrwL4c+Dfg944j8Trc2YtbzQWWO4txK24ls4wM/7NAH25pnirRdYkKWGqWt4w6rDIGrW2hujYr5q/Zq8H+FLfWtUuNH06SwktyCwYsQy9iM98V9MKvAx0oAI8djmnULS0AMZa53xl440vwNp/2zVGZY/9kZro5CQpI61jeIPDOmeKLTydTtkuov7rGgDzP/hqjwNtUGe4x2/d/wD16fF+1J4JmmWNZrgyM20Dyx/jXin7RuraF8DdW8NTzeBLeXQr7UI7R7tmPyBmA3dfety9sLfxDr2lyeCfh5b6vojSqLnUt5Bh9wM80AfUekapDrFjDeW+7ypV3LuHNXxWfpNtFp+nQW8SeVGigBR29qts/tQBK3Q461XVtzEtlSOo7V5r+0R4q1Dwr8K9U1DSLz7Lfxj93IvJFM/Zx8Uah4t+Eui6prFz9pv5lbzZG4JwTQB6kNqr2pFw2COtM4duFBHrTl4bA6dKAH/WkKhu9fOvxC/aEns/jZp3w4tVFk94Aftx6rn0rsPAGr+LV+JWtaBqkbS6TZxK9vqBGPNJxx+tAHrW1lPUYp9RKvzZPWpaAK1/fR6bZy3M3EUS7mx6V5Te/tQeCrG4kgkmuA6NtOI+P516xeW8d5bSQSpvikG1l9RXhfxs8B6F4R8Ea3rmneEoNUurOBrhlZiC2Ow5oA1v+GpvA6ciW4Of+mYH9a7bwJ8RNI+IdtPdaS0jRQna28Yr5S+HnjbQPid8MbO+8PeAbfUfFMsYL6cWI8v1yc19L/BXQbjQfBsP23RE0G9kAaa2jbIBoA9BjHX0PSmtH6NSR4ZTtcnP6VDPMi28qK+HVeSTyOKAJlK7sOgVqnr5l/Zk+JHiDxd8Vvibp2r6k19Z6bcKloj4wi7iOK+lfM+YbeR35zigCRvbBrxH43eJPGGt3kfhTwNHHHdy/LeXUhIMKeq++cV7XuAJOPp71Rh0u0t764vkiCXUgCySdyKAPzr+Kui/HX9lyaDxkfE0/iXSvOX7RbXEmVQZ56CvvP4U+N4PiJ4F0nW0ADXUCPIB0DEDOPxryb9tLWHuPhTL4Xt7b7RqetOIoIwMnr1r0P4L+EY/hp8J9F0+QNvgtUaUd920EigD0VSP4ORTs18s/Cf43az8fv8AhKtT0Wc6ZdaJcSWselqf9fsON3417d8Kdc1fXtEkk1u2NpeJIUaI0AdvuAb3rmPHHjzS/h7pK6lrDOkDP5Q8tcnJ5/oa6XPzgdxzWN4n8KaZ4u00Wur2q3kCnf5THuKAPOIf2pPBE0hQS3KfKW/1f/16fb/tReCrqRPLlucs20ZQDOa8S/aB8QaF8FPFHh9W8Dwvot9Olu96WOI9xx610moaDFqviazXwl4BttS0NJU83UPMPAyORzQB9N6fqS6tYW9zbZ8qYbhu6gVbYFOc9aqafDHZ6bAiR+WgAG3+7Vpvmyr8J1oATcI9gb5jnrUqHPbFeP8A7Tfi3UfBvwj1HUtGu/Iv4mXy5EOT94VtfAXxNe+J/hppOoapd/aLyRMu5I5OKAPSahkPlxsx52qTR5ysxApd3vQB82+LPBvjr456nfeTr134R0WEmO3ksziV3HrkdK8v+Bnjrx58Jv2ir74WeKdWm8Q2ot1uYryY7m2NnGfevrP4h+PIfh/4dudQlt2nlVSYoUXO5sV8b/s5/HDRfiP+0fquqeLrUaV4nuFFpZW8yFSygkLigD74VQWJ6UirtzXkv7SHxpPwO8EDWhbC6kklEKqSQFz3rkP+E28Yx6F4S1/S531eLXJUE0I5FurZJP6UAfRdKtQWqt5EYlLGTAyTxU60AOooooAKKKKACiiigAooooAKKKKACiiigAooooAKKKKACiiigAooooAKKKKACiiigAooooAKKKKACiikJoAWim7qN1ADqKbuo3UAOprGnUxloAiYqvORn6VV1S9isNPuZ7llWBI2Zs/TpVsou7J7c14Jo/w/+KOrfEHUB4l1yyn8EvMZ7e1t4ysw54Vm3HI/CgD57/ZhurW3/a88ZxSWTW8epyG6ty33XUADdj8K+/VmBxgbk6bhzXy98Wv2avFOpfGLQfGPgXULXRktoPs13HLHnzEJzxgjBr6T8OaXLpekWttPL5s0aAM5/iPc0AR+JLLUNQ0e6h0u7WxvWGIpmGQp+lfO118JP2gZLqZofinZpAz5QfYz8o9K+oDGN2ec00Lg8UAfMMnwj/aFYlY/ipYjpybM/wCNe2fDTRfE+g6GIPFetR6zqHQzRoVBrtNv4UgjAXHXvzQBXWVIUJYiFVPO8gCs7WdD0vV7K6W5tLe5jeJs7lDdj3rn/jF4L1Tx14Hv9L0bUG03UpF/c3GeFPvXk3wt+G/xx8M6W+l+IPFOlahaY2rIlu3mbeh53elBSOD/AGTfD8HgT4pfEGeGBrPw6hDiQn92G3HOP0qD9u34Pz6ppul/F3wkxGt6MBPLNGT88C/MB/Ovo24+Eq6Z8N9Y0PRJFh1G/TLXEo3AyZzk9K4WH4Q/EW6+FN54R1PWtPuTdRtA0giOBGRjH3qBM6X9mX4or8YPhbpPiCWLZfGJUmYjnOOa9eXLDPT0rg/g38L7P4S+CbXQrQhjGo8xl6Fvau8C+9AhG+bKjqe9MP8ArNpOeOc1I3ArzH426b491bRYIPAWpWumakJVZpbxS6lQeeARQB8//wDBQ6S1vPDWjQi0e7uoLtJGkj6IoPPNfSHwX1Ky1L4X6BcWY228lspVVOCxxz+tclqnwPvPF3wp1LSNeuobvxLfwnzLrHyJJjAKjsKyf2Wfg/42+Gfhm00nxnq8GpLpm6Kx+yKVHl7iRvyTk80Ae9bnMe7BHopNeKfE34e/FvxBrX2jwp45ttEsP+feWAua9ybnIoC4Hr7mgD5eX4Q/tBK2X+Kdio/69DXVfDT4dfF7QfESXHirx7a63p3/AD7x25jNe7bBxkZ+tLtHpQBE4KqMfQ4rhviV8QF8I2AtrNoptVuDshh3gHcfWu5uI2aCRYztcghT718YfE39kP4n/ELx/deI/wDhMIbQZP2eFAwCDPHGetAH0F8OfB+neCLO817VLq3fWLoGS4uC4JVSQdua3PGMGi/Ezw7qXheS4jf7daE46na2QG/SvlLRf2MPijHrFk2q/EBrrTFkDXEAJy6+mc17Vqnwb8Z6d8WNO8Q+HdYtoNHt9NjspbWdCzMVJOc596APnf8AZT1XWP2ePjZrHwk8QFp9Gnd59PZucoSdvFffsYVVCxqFT0HSvDtH+Ad/qXxobx34lube6nhgMNskKbdo7Z617ksLKoUEYoAHxg45OelJtPOWGO1OaHMm/POOnavHvjJ4d+KGueJNK/4QrWLDTdGA23yXMZZ3HfaQRg0AfL37ZesWDftCeBdVS0aW2spltrm4TgB3YADPfpX3npMkP9mWvlBVCxJ+7XtkA14P8dP2bLr4ifC2HRdGnt7XxHFcRXQv513AyIc5P416F8FfB/iTwt4aij8V38eo6yUVZpIQRHwMDAJPbFAHowyq4JJPWvDfiF8HfHXiXxTcaho/jBdMtJB8tuyE4r3JV+ahkBNAHzOf2f8A4onO3x+g/wC2bV2nwt+FPjPwjqjXGt+KRqkPXaFI/nXsqoB3NHlhd3JOfWgChq2oQ6Lp8l5cuFhj5Z/Svkn9uP4S/wDCYeELL4l+GJBFrmiqLlbiM8sq8gZ/Cvqbx14dl8UeE9Q0mCURS3Ee1XbtXkafBfxlP8O7jwje6xaz2FypikbYdwQ8YBz6UAav7KfxTl+MHwg0rV7uJlvo0WCdmH3mA5P04r2QqNuAMVyfws+G+l/CzwjaaFpUeyGFQGP944611u3acigB0fen01eKdQBGw3dajJUAEkqB6VKwqJnVSN3SgBsxjaJhIq+UQQS3p3r89fhjpdlpv7enjLT4pVOlap5TLAPuSFQ2fr1r6Q8Q/EjxxrPxEu/B2n6FNb2MhwNVkQmIR/xfjivH/jx8Jdc+Ffxi+HHjjwVpNxq62Qnj1BYxuZ2cphifQc0Afa2n6bbWKsLe2jt+cfIoGauLnGDXOeAzqlx4ftrrWRsv5l8x48YCZ5A/KujXO0E9aAHUlBNJ96gBJGxx2qtuV84IZfQVYYbhgivPvjDpXjC+8N7PAt9bafrG7790hdcfQEUAeBf8FGJI9T+D5sLazfUr6xkF6yR9Yo15LH6AV7H+y/qNnffBDwpNaBQHtF3887sd6paP8HtX1f4Y6vp/iy4g1DxJqllJbTXSrhBuUjgEnHJrmv2ZfgV42+FthNpnibWbe90yB/8AQ4rUFSq54B5OaAPolYgvQ4zWN4u0+/1bw/e2emXY069kQrHOwyFPrW0sfY5P1pxj3D1+tAHwD8df2fPi1o3w91e/1T4kR3+nBt5tRCRxzgZqX9n74C/FzWvhpot/pvxHisrA5ZbfyW6bjX2J8WvAU/xD8D3+hRSrDJccCRxwPwpfhH4Bf4b+ANO8PvKJXtVI3L0OSTQBr+DdM1HSfD9raarejUr5EAluFGAx9ea1Lm6Szt2klPlovc9BUzRtg1h+ONEvtf8AC99Y2FwtvdzLtSR+QtAHyd+3F8J59X0a0+KPg+cf2xoreYWizlwvUZ/Cvc/2ZPiovxi+Eul+JGiKXDII5Sw5LLwf1rlrH4LfED/hWl34UvtdsbgXDv8AP5R+4xPHWvTPgz8K7L4R+B7Tw9Yj93EdzkdCx6kfjQB3K/eGeuKlpiqRzTsn0oARvmQgHBxXI/Eq6tf+EJ1iGciQTwNCI/75x0FdJqyXMmm3CWUixXTIREzjgNjivEPhr4D+ImoeJry5+IOp2d9pcMxeyhtYyhB/2sk54oA8L/4Jw3lrZ6l8QNJuImg1KDWJRCsg5SLjgegr7lVg7AjkdmByDXyrF+zb4x8MftFXfifw1qdpY+HtUDPe25jO45JzggjHFfU2l6dFpljFbRuzLGMAscmgCyv3jivmD4k/An4ueIfGGsarofxHh0vTJ2LQ2ZgJ8pf7pNfUG3r70xrfdC0Z6MMGgD8y/wBnn4L/ABL1z4ifEez0X4gR6Xf2sypdXHlFhMd3YV9w/BD4e+NPAem3CeK/EyeIp35WRUK/zql8GfgZP8MPiB4316S6SeDX5lkjjUfcwSa9jX7uO1JgRNIBGkpGNtZniLxHY+FdLudR1C4jht41zl2A57fritllB6j8K+av2nv2f/HPxumtbXSPEUWk6Pbtu8gKQXP+0c8ikB1fhTw6nxC8Sx+LtfkhMELf6BbtIDsH97r3r0i48YaImox6e93G1xK2xUByOeMV8XxfsU/F2GNIo/iGYolAULGSAAPxr1S8/Zv8ZaX4N8JWui6/D/b+k3n2m5vbpS/nDdnHUVQHz/4u0TVv2Nv2qdP1bSQ6+EPFl15MzH7vmMdxAHrwa/RDS7iC6sYbu2UCK4USDA9a8M+Jv7P+t/GLX/CEviS+tZdO0O6S98mOMqzShSOuenzGvfLW1Sxt44Il2xRqFVfQCgCRQFO4nrxTDgtktz0p5G5WBFecfHLS/HWreE7e3+Ht9aabrq3KOZryMunlgNuGMjvigDwv/golPb33wztNOhtWv76K4W6ZI+qIp5Oe30r2n9m3VbLWPgr4WvbQjyZ7NHAJ5PHes2P4OXuvfDXU7PxPPDf+KNRt2Sa6UfIrkY+UdhXK/su/A/xz8KtBtdI8V65b32n6euyyitUKbUHQNycnFAH0MwdsHGY/7orH8daTquueGrq00W/XTb+Rdsc7DO2t3ymABVsN6U/yxxnmgD8+f2ivgP8AFvw78L9Uu9V+I0WoWQZS0HkkdWHetP4J/s+fFzUPA2h6hp/xJitNPyH+y+STx6Zr63+NXw5f4n+Ar7w/HMIGuNvztyMgg/0q78LPBcngPwVY6LNIJnt12llHBoA2fDdheaXodla6jci9vI4wJJ1GAx9a0WO/7vAUZzUmNo9qbNHmGVI+CVIFAFa4js9QUrMkVwvcHDY/Cvjj9pf4ZWcP7Sfws1/RLNVvF1OEXgt1A2w7hyQO3Wuq034L/G7wv8QtR1TRvGOnvol1JuFreRM7IM9Adwr2Pwj8MbhdePiPxLOl/rxQIDGMRKAOCoOeaAKfxw8B6R8aPAet+E5WSS+aB2iHdGxwa+b/ANhHx9rOg+Itb+EvicNc3mjvutpX5Hlg4GK9u0/4XeP9L+J2qeIoNbtTYXMbLHbSRk7cn61P8Jf2fpPBvj7V/GWszw3Wt3uUDwLtATOcYoKue1rkoC3DVJHTCu7rT1+WgQ+im7qN1Ah1FNDU6gAooooAKKKKACiiigAooooAKKKKACiiigAooooAKKKKACiiigAooooAKKKKACiiigBN1MMgPGMH3p+Kq3kkkFvNJHGZXCkrGpwWbHAo3E2luTFwvJ4FEcglGVIYdiDmvyv/AG1P2vPjxoOsXugjw/dfD7QdzRx6lAfNedP7wkXhK2Pgt+198fPD/wAN9HsdH+ENx4psI4/3erPd83H+0civWWW1ZUlUTWvmcn1iKdmj9OqK/P3/AIbY/aQx/wAkAm/8Cx/hSH9tj9o/v8AJsd/9LH+FZf2fW7r70V9YifoHmjd7V+fy/t1fHqMbJPgNeCT0WcEfypf+G6vjx/0Qe9/7/j/Cl9QreX3oPrET7+KhgSenemtGMkgfTivgL/hur47dD8Cb0H/rsP8ACnr+3t8ZIV23XwN1JZh1CyAij6jW8vvQfWIn32sa91yfU0qrtOcc18B/8N+/Fsc/8KP1P/vsUf8ADfnxb/6Ifqmf94UfUqvl96H7eJ9/FqOK+Al/4KE/FCBtt18E9YDdcIQaf/w8S+In/RFta/IUnga2/wCqK9tCx99UbsV8CH/goh8ROv8AwpTXD+A/xo/4eNeObbi6+CviBc/d2Ip/rT+o1vL7xe2iffLAnGOKcQK+Bl/4KR+LTx/wpjxGB/1yX/Gl/wCHkPi3/ojXiL/v2v8AjR9RrB9Yij72B680KoGTjmvgj/h5R4ltV3XHwb8SBf8ApnCpP86cP+CnWqqOfg94r/8AAcf40/qFe17B9Ygfe+Pag/Svgn/h5xqucf8ACnvFf/gOP8aQf8FPb+L5p/g94s8oddtspP8A6FR9Qr6afiL28L7n3tuHHNMkhjm++oJr4Mb/AIKmLuI/4VB4z/8AAJf/AIqj/h6Uvf4Q+M8f9eQ/+Ko+oV+w/bQ7n3ryvTpjFG35SBgE+2K+Cl/4KmRo26T4ReMxH/s2Qz/6FUn/AA9Y0nv8JPHWf+weP/iqh4KvHdFKtCR95rx15pS3tmvgpv8Agq5pMY/5JJ46x/2Dx/8AFUf8PXdJ3YPwl8dL/wBw9f8A4uksHW7Fe0ifem7Paj8/yr4SX/gqtoDdfhl40Vv7rWA/+Kp3/D1TQf8AomXjL/wAH/xVP6jiOsbEutA+6+e+T+FN7/418K/8PVtA/wCiZ+Mv/AAf/FVZX/gqh4V2gv4B8WoccqbDke3Wj6lX/lF7aB9w9+n6dqFyK+H/APh6l4Rb/mRPFn/gB/8AXpG/4KpeElx/xQnivn/pwP8AjR9Sr/yh7an3PuLIx7+1J+dfEsX/AAVN8E7cy+EPE0Df3WsTn+dSH/gqd4F/6FXxH/4AtR9SxH8o/bQ7n2uyj3ppUfeA3Yr4p/4emeBf+hW8Sf8AgEf8akh/4Kj/AA/2nzdA1+DPTdZNS+p4j+UXtoH2lsDjk5+opeEwM18Zf8PRPh0P+YNrv/gG1If+Co3w6Xn+xde/8AmpfU6/8oe2h3PtDOGFGa+M4/8AgqN8MuDNputwj1ayapT/AMFRfhUP+WGr+v8Ax5PR9SxG3KNVoX3PscUFj6d6+OF/4KjfCllyINYI/wCvJ/8ACnR/8FQ/hKWIlXVYY+7tZPjNH1Ovtyh7aHc+xevFBXpxxXyB/wAPQ/g31+16iR/14yf4Uf8AD0T4NEA/a9R/8AZP8Kr6liP5GJVoPqfYHPpQema+P/8Ah6J8GVxvvdQRe7NZSYH6VYP/AAVC+BIxnXbz3/0GT/Cl9SxH8jK9rT7n1xS7q+R/+HoXwJ/6Dt3/AOAUn+FIP+CoPwJ3ca9dgdybGX/Cj6liP5H9wvaw7n1szBulM2hvT2r5Rb/gp5+z6eviyZT/ANeUv/xNC/8ABTz9n3t4smH/AG5S/wDxNL6piP8An2/uNOaL6n1YuEjCkgrjnNO5QABcDtXyiP8Agpx+z/MwQeK5SWPT7FL1/wC+a6GP9v34PSRK6a7M6EZB+yv/AIVx4j/ZVesrep6eDy/F5g2sHSdRreyv+R9Gx7l6k9al3fU/hXzcv7fXwh765Jj/AK9n/wAKX/hv74RLwNblP/bs/wDhXE8Zh0/4i+89T/VnOVo8LP8A8BZ9Hk57UA46182t+358KSfk1WeQeotn/wAKY37fnwt/6CVwP+3Z/wDCj65h/wDn4vvK/wBWM6f/ADCz/wDAWfSh6Uzj7r4PoTivmw/t+fC1hj+05/8AwGf/AAqN/wBvz4Z7sLd3bj1Fq/8AhR9cw/8Az8X3j/1Xzr/oGl9zPpg7eOg9u1IqLnKjB9hXzP8A8N9/Dj/ntd/+Az/4Uh/b6+G68iW8J/69n/wpfXsP/Oiv9Vs7/wCgWX3H06ue/NOOe1fLrft//D/d+7W+dfUWr/4Uh/b/APAeB+6v/wDwFf8AwpfXsP8Azor/AFVzr/oGl9x9QnP5UgLc5r5eH7f3gPP+qvx/26v/AIVHL+394Jz8lnqUv+7avR9ew/8AMH+quc/9A0j6nyfSmbOc/nXyx/w3/wCDv+gZqn/gI1H/AA394P8A+gbqn/gK1H1/D/zIf+qmdf8AQMz6oVSM9KAD/k18pS/8FAvCinCaNq0o9VtWqL/h4F4Z6DQdY/8AARqPr+G/nH/qnnP/AD4f4H1pzn2o3Z7V8mD/AIKBeG/+gDrH/gI1Rzf8FBvD6j934a1qX/dtD/jS+v4b+cP9VM4/58P8D61ZR3z+dMI9BgfSvklv+CgmiH/mVtc/8Az/AI0z/h4Noy8f8Irrn/gGf8aX17D/AM5X+qWcf8+H+B9ccb1yOeu6pVYHnr+FfIEn/BQfSVXcnhHX5D/dWzP+NMH/AAUN088/8IR4hx6fZP8A7Kn9eofzB/qnnH/Pn8V/mfYeaQMT7V8e/wDDwzT/APoR/EP/AICH/Go5f+Ch1mnKeA/Ecvstp/8AZUfX6Hcf+qWcP/lz+K/zPsY9iOtL9RXxmf8AgohEP+ae+Jv/AAEH/wAVS/8ADxCH/onnib/wEH/xVL6/h+sg/wBUc4/58/iv8z7L3ZYccUn618Zn/goYrKTH8PPEufe04/8AQqj/AOHhU3X/AIV14iz/ANev/wBel9fw3834Frg/OX/y6/Ff5n2e3T/61DKeh5J9uK+Mf+HhU54/4Vz4i/8AAX/69C/8FBLtpNg+G/iHeeg+zD/Gn/aGG/m/Af8AqfnP/Pr8V/mfZ235s45pQuK+Mf8AhvbWP+iba/8A9+R/jR/w3trH/RNtf/78j/Gj6/Q7i/1Qzb+Rf+BL/M+zuc9Ka2GYcc18Z/8ADeGuSfc+GuvbvQwj/Gj/AIbl8ULz/wAKy1k/WMf40v7QojXB2bP7C/8AAo/5n2YF6DGP5UKoGOAD7CvjL/hujxT/ANEx1n/vgf40n/Dc3itunwy1k/8AAB/jR/aFHz+4f+p2bdYx/wDAo/5n2ft+YnNKuFGK+L/+G2vHHb4X6tj6D/Gj/htjx3yR8L9UwPYf40f2hR8/uK/1OzXtH/wKP+Z9nswyOMil3D1r4u/4bZ8edB8LtVJ+g/xoP7aHxGblfhVqOPcij+0KPn9zF/qdmnXl/wDA4/5n2jxS9PrXxZ/w2d8Sf+iVah/30KQ/tl/Eo/8ANKdR/wC+hSWYUfP7mP8A1OzP+5/4HH/M+0vwGfejkjp+VfFf/DYnxY7fCe7x2/eCj/hsL4tf9Eluz/21FP6/R8/uYf6nZn3h/wCBx/zPtXHOc4NAU+34V8V/8Ng/FpgcfCa7Ddv3oqJv2ufjaxynwikK+8/P8qPr9Hz+5h/qdmX81P8A8GQ/zPtmms4RcngV8Tf8NbfG8sP+LQyf9/8A/wCtVe+/aw+Nk1vKr/CSWIMpBY3H3eOvSplmFJLRP7mVHg7MXJRcqev/AE8h/mfb8c6SruQhh7HNP3cgV+WfwO/aR+K+k+KHsNKt7rxNDJcO0mny7m8nLHID9Bjp+Ffpf4L1PUdY8P2d7qlidNvZYw0lqWDFD6ZFaYXGRxd+WLRzcRcMYjhyrGnWqRmn2af3o3uhp1NP3vanL0r0D44WiiigAooooAKKKKACiiigAooooAKKKKACiiigAooooAKKKKACiiigAooooAKKKKAG7jTOvXmpaZQBg+K/Beg+OdNk0/XtKtdVtJFw0V1GGGKXwb4L0nwH4ft9F0a1W1063GIoeu0en0rdpVp8zta4rLsM2L/dH5UmxP7o/KpTSbaLsLEPlRZ/1Sn32ij7PD/zyX/vmp9tLT5mFit9nizxCn/fIpPscDkkwRk98oKtU1u1HMwsVGsoP+feLH+4P8K8af8AaW8HWXx6f4V6harYayYRNb3M23y52IzsHHXFe3MMivyK/bY8GeIviB+21/Y/hJ3TxELNr2yMbbX3QRGU7f8AawhwPXFd+CorEScZStoctebp2aR+kvx++LOh/AP4Z6h4z1XSf7Qs7JkVoYFUOQzADBIPc1vfDHxVpXxO8BaL4ps9LS1ttUgE8cMqKWUZIwePavzq+In7Vkf7QX7C/jHQdeZLPx7oD20WoWknyNOolA81QevIw2OhIz1FfROi/tCaX+zh+xJ4I8TX8P2y6awWGzs1PM0xdto9hmtamDqU4JdW7CVWLb02PrRdOtG/5dYMf9cx/hQ2l2TfetLc/WNf8K/PVvjR+2bJ4Zbx7F4b0ZPDvlm8OksLcTCADcTg/vPu9utd1rH/AAUVsE/Zbt/iJZaWH8UXF/8A2MNJf7sV2FLMT3KADj1JrKWDrJpLXpp+ofWKdm7H2f8A2TY/8+dv/wB+l/wo/smw/wCfO3/79r/hX5lfEz9o79rj4d/DOPxn4lg03T/Derqi281vFb+daCT7jEKNwyCOWr6f1/x78WLj9lvw54h8EX+j6h4tmgge5vr9o4LfYcb3JmwuQMnmieEqQSblu7bjVaEtkfSjaTp+fmsbbHvEv+FcV8TfiH4D+EWnWt74omsdNiu5PKt1eJd0rdwoxz1FfBnhP9vb4p/Dv4j6BpvxF1jwn4w0XU7pbSRvDd9Z3MtuzMFBIt2O3BYfe9TVH/gqoPHh+IXgVro2reEjct/YagRiQXexPN3n72Pu9eK3hgaqqxpzl8XmRKtBwcorY/Sf7Lpkmkm+h0+GVTEZUXyF3MMZA6V4x+zh8c1+OmqeL7K88D/2CNDvfsqS3EAxMOfUdRj9RXFfDB/2nLX4T+KJfEc2j/27HZK2gtCttsBAB+fHHTP3q4f9mb48/GX4tfDf4nLf6pYL4y0F9lo8FlAEDqCWUhVwwOO9ZqhLlnZ3t5lqSutD7hGg6Z/0D7TP/XBP8KX+wdN/6B1p/wB+F/wr5d/Y+/axufih8EfEmtePr2C38R+E57iLWJREsICJl1cIAMAIQOB1U1zP7Mv7VnjXxr4F+IPxU8fXMdp4F08yvpdittHHJtUkhQ4GXOBjqeTWLw+ITku36l+0g7WPsb+wdLJ5060+nkr/AIUf8I/pef8AkGWf/fhP8K/P7Rf2hf2rPjxZ3fi/4aeHNK0rwfvYWcd8bcSXCr/11O7p6cV7h+xv+1jqPx4bxB4Y8X6Omh+OvDbhNQtY+UkXO3zB+II+o9Kqpha1ODlJ3tvrsEKsZbI+gPEFtpWg6Lf6i+kWs6WsDzGKO3Xc+0E4HHtXxnd/8FIvB1rczRSfCLXMRuVL/ZVwcHGf9X04r7pkXoAMj8xXzF+3t8Zrb4P/AAcnstPWM+JtfP2HT4VXL5bgtgc4GRz70YXlqVFTnFu/mFZyjHmViD9mn9qrwX+074m1PStF8BS6cLCLzJ7q6iQoGz9z7o5r6RXwnov/AECLEf8Abuv+FeD/ALCvwDHwL+CenR30Q/4SPVx9v1GZ1xIZH+YKT32ggfhX0PeT/ZLWafBYRoXIAyeBmoxDXtXGk9CqavG8il/wiWif9Amw/wDAdP8ACoG8C+HZGJbRNPJPJ/0df8K/O/RP2vf2if2gPiB4ltPhVFoFhY6PdPbjTb2S1W4lCsVziU7jnaenTNfT3xO/aX1L9nr9nOy8XfEGzhPi+SBY2023ICNckfdz0C57+laTw9em1Hm1fmRGrBpto9u/4QDw2G/5AWnn/t3X/CnDwD4b/wCgFp//AIDr/hXwdonxT/bX8deH7fxpofhvSoNEnxPBpM6WyTSRnpxJ+8GR+NetftOftda/8B/A/g3S7fRYdQ+KHiWBdmnxgvFbyYXeT68tgD1Bp/V6/OoKd35MPaR5W2rH0hL8N/CcjZfw9p7N6m3X/CmD4Y+Eh18O6bj/AK91/wAK+CfEf7Sv7Vn7P9pYeLPid4b07UPCUsi/aIbRYPNiViOCY+Q2D/F+Neg/tifth+KPh78N/h94v+HN3Attr0oMkM9skxkXAOwZBwTnHFVHC4iTSi738yPbQ1uj62/4Vj4R/wChb03/AMB1/wAKjk+FHg2blvDOmt9bdf8ACvmb4CeKf2ovGHjrSNd8d2ek6B8Oru3a8kgQW5ljXAKIQP3gLDJ9u9cb4t/a3+MPxu+J2u+EfgDotm2m6FO1te61qAiCu6ttbb5vy4yDjHJqI4evKUoqXw7u+hXtYJXaPsj/AIVD4J/6FbS//AZf8KD8IfBP/Qr6WP8At2X/AAr5R+B/7XHxM8P/ABps/hN8cNDtbDXdTRjpuo2RQrOyjO3938pyMnjpjmvtmMFVGelYVoVqMrSf4msHGaukeG/HaT4WfBHwLceIdd8L6VJtIitbRbdd9xOx2oi/ViBUumeGfAFn8Lk8ZeKPBOk6PGlp9suohaqTEvXv7Gvl39sHxBL8Tf23PhZ8OpW8zRtNnhu7m3wCPNJDKT/wE191eMfAWkePfCdx4b1iKSXSZ0VJY45mjLKuONykHHHStpp0qceZu71+RmvebcVoj59/4Wt8Cl8IN4rHgmYeGxH5p1Q6KBAF/vbt3Spfh740+Cfxw8P+I5/h/wCE9P1+60e1eUxS2ASNpNuUjz6k4r5X/bj+L1z8SvFuhfs9fCq3aezs5I7OaC0b5ZZeAsZI/hUYyT7194fsy/s+6R+zn8KrDwpYKtxd482/vcfNczn7zE+mScDsOK6atP2NKM5N8z6eRlGTlJpLQ5H4D2fwi+OnhI6vpvgnSba5t5TbXtlJbrvglXgqePrXpo+AXw5PH/CF6P8A+Aq18WfALxE/wr/4KGfEDwVAGi0vxCDeiHpGjjHIHTnPav0QUYrlxHPRnbmZrStNO5wD/s//AA4YYbwVoxHvarioj+zn8MW5PgXRD/26LXo1LtNcntan8zNuSPY84/4Zx+GH/Qi6L/4BrR/wzn8MdpH/AAguiAf9ei16PtNLT9rU/mY+SPY8w/4Zn+FfOfAWhf8AgGtKP2afhV/0IOhf+Aa16fTWo9rU/mYcsex5mf2afhX28BaHnt/oa0o/Z4+HQyP+ES0sL0x9nFelUjVjUiqv8TU6qOIrYZ3oTcb72djzj/hnX4d7v+RU0zH/AF7il/4Z5+HfP/FJ6YB/17ivSF606svY0v5UdX9pY3rWl97POU/Z++H6LhfCumgenkCnf8KC8Ar/AMytpp/7YLXolFHsaf8AKg/tLG/8/pfezzz/AIUL4C/6FXTR/wBu61KnwN8DRjC+GdNH/bAV31FHsaf8qF/aOM/5/S+9nBf8KP8AA/8A0LWnf9+BTx8EvBAH/Itad/34Fd1TKXsKX8qF/aGL/wCfsvvZxS/BvwZCPk8O6eo68QCqlx8O/h/byeXNpelQuOqsiA13kmeRnAx1r84/in4F/wCFs/tqXHhK51O6srW+RyzW8mGGyEvx/wB81x4iUKCXLBNt2Pp8iw+IzedX2uJlCNOLk3dvReVz7lt/hf4Gu/8AUaRpkw/2I0P8qux/CfwlH93QbED/AK4rXwn408L+LP2P/iZ4V/svxde6roeoTeVJbXEmW6jgoOo5647V9eePP2mPA/wt02xm8S6xHaXVzEkgto0aWXBGc7EBbHvisqFelUuqseVo68wyrMKHsamCryrQqpuLXNfTTVHZ/wDCrfCv/QDsf+/C0n/CrfCv/QCsT/2xFc78Lf2iPA3xfDr4a1mO6njXc9vIrRShfUo4DY/Cue8fftgfDD4a+IJtF1fXv+JhExWWGzgkn8thjh9inafriuvmw/LfQ8GNDOpVnQiqnOtWtT0C4+H/AIR0uF55NIsYY0G5naJQFA7modD8OeCvEVmt5pdjpt7atwssUasv51598Tfjl8OdX+DMmtanrUy+G9Wzard2kEjuGbjG1VLA/hXl/gH4geBvgX+y9can4Q1/UNQsWkljtr69tJN7XLE4yhXgbvbAFZSqUYy1Sta/Q78PgsfiaXxzU3JQS1td+fkfUX/CvvDn/QHsvwhWsu50XwTpepwadPb6Zb31z/qrdkUO/wBBXzB+yr+2Npt7pp0Xx3r13eeKdS1OQ2qraySJ5bBdihkUqo4bjIxV3xt4o+EvxG/aV0SWTxJqkPirRpPsYsIrSbyZGDbgC2zA5PUHms44mhOEZwS1OueTZnhMXVwmLlNciburu9v08z6sHgXw/wAf8Smz/wC/S0h8D6Bn/kEWf/fla5Dw/wDH/wAHeIviFe+CbW9nHiG0UmS3uLWSIYHHysyhW/A0/wCJHx88I/CnVtK0vxBeTxX2pyeXaw29pLOzHIHIRTjqOT712RlSkr3R857LM/aKkufmavu9u/odcvg3Qo/u6VaKP+uK1IPCOif9Au0+vkr/AIVxvxP+P3gb4P2kFx4n1mOyadd8cCqzysPUIoLH8qpfC79pnwB8Xrh7fw7rcc10vP2e4RoZT9EcA/pS9pQUuRtXGsNmsqLxKjPk762PQB4S0UHjS7PP/XFf8KqzWPhmxmKS2+mwyd1dEB/Wt1d2M/nXzv8AGb9j3Sfi140ufE114i1LTpZY0VobaTag2qAOPwqqsHGN4RTZOAlDEVuTF4hwj3V3+B7VHH4XYhdmllj04jrQXw/pDAEafZkf9cV/wr8zPh/8FYPFH7SJ8LaDq2o3+iaHKJL26mmJBZD93jjriv08tbVbS1jhQ/6tAgJ9hiuXB1vrEXJwtrY9niHLFksqUKeIc3OPN1Vr7X1K/wDwj+ldtNtP+/K/4Uv/AAj+lHrptoP+2K/4VxXxW+Ofg74MWkM3ijWI7Ezf6uFQ0kr89QigsR74qt8Jf2hvBXxsa7XwtqTXclqMyxyQvE6jOM4YA45rr9pS5uTS54X1XMHQ+tKMvZ99bHff8I7pX/QOtP8Avyv+FIPDulK3Gn2ufXyV/wAK8w+JX7VHw4+FGoGw17XkS+HW3tkeeQe5VASPxrd+Ffxw8JfGPTZ77wvqi3sVu22VGUo8Z6/MrAFfxFJVKTlyaXLng8yp0frFSMlB9dbHZ/2Jpv8Az42//fpf8KP7D07/AJ8bb/v0v+FeMeMP20PhT4H8QSaTfeI/NuYm2SGzt5LhEb+6zIpA/OvRfD/xU8M+LPCMvibSdTi1DSY0aRpYfnIx1BA5z7UKpQk7RsKrgczowjVqU5KMtnZ9To/7D09eRZW//fpf8KUaLp/X7Dbj6xj/AArwWX9u74QQ6b9tbxDNsDFChspvNGDjmPZuH1xXp178ZvCmn+BYPF95q0VloU6CSOa6zEXBGQArYOfbGamNajK/K0VUy/M6LjGpTknLRLXX0Ot/sfTjx9it/wDv2P8ACk/sXTl/5c4P+/Y/wrxXwj+2j8KvG2vR6RYa+I7tztT7ZBJCjk8fKzqAfwNe5QzLcRCVGDBhkFcHj1960hOlU+BpmGKwuPwLUcVGUG+9yD+x7H/n0g/79iqETaHc6nPp0P2OS8gRXlhQKWQHOCR74rnPjd8RofhV8NdZ8ROfnt4SIhjO6Q8KPzryP9iHw/eXvgPUPH+sM9xrviu6kuZZpSSwjViiJz0UbTj61nKpH2qopXdrndRwNeWXzzGc7RTUV5yev4I+jf7LsU4NrCT/ALgp32GxHS3g/wC+BXzT4o8L+I9O1rxl4y8c+JtX0Tw5C5Njp+n6s8KeWo4b904ILY6e9eIfs06n8QfjZ8WJry28Ta/Z+DNPmLss19NIJMH5YyzMc56muWeKUJxpuGrPZw3DtbFYSrjY4hKnTSbetrv7K7s++LS40W8vruzga0lurRgk8KAFoyVDAMPcEH8avjTbP/n3i/74FfH37RetXP7PX7QHhXx3ZTOul+IsWWrW6klZvLwA5H94KVGfavsHT7yLUbOG4gYPFKu9SO4PeumlUhOcqdtUeLj8BUweHoYqM3KFVXT807NfJjhp9r/z7x/98Cl+w23/AD7x/wDfAq1+FFdXKjwueXdlX7Dbf88I/wDvkU77Hb9oUz/uip2oWjlj2Dnl3K/2SFeRCmf92orjTre6R45YUZXUhsLVylWhxVrWBVJJ3ucb4P8AhX4Z8Ao66LpFvatI7O7hAWJJycmuujXbgYxTwtBpRhGCtFGlWvVry5qsnJ92FOHSkXrTqswCiiigAooooAKKKKACiiigAooooAKKKKACiiigAooooAKKKKACiiigAooooAKKKKACkpaKAEpaKKACiiigAooooAKSlooAYw9K/OjXmDf8FY/C65H/AB5XJI7/APHm9foyVzXKSfC3wpJ41i8XPoVo3iWJSiamU/fKCu0gH6HFdWHrexbv1VjKcOc/Oz/go9+yDNpFxdfFLwZbMLW6+TW9PthgLyD5wA6gkc/hUv7SHw71fxj+wT8LdT0m0lv4tJjWa5toQSxjLtlvwxX6WalpNnrFhcWV9bx3VrcIY5YZV3K6nqCPSqmn+FdJ0rQYdFtLCGHSYY/KjswuY1XJOMHtzXXHH1FGEZP4Wc/1dJya6n5QeFrL9ky+8EW2oat4s8SafqqQKLjSZJZfNEmOUCjjr716z+0h+z78Lfh3+xDNdeHtSu7PT5tTh1fTJrgFmluWVgEPoCu4/wDAa+zZP2YfhVNqJv38CaM12W3GU2/OfWuY/a18ITal8A9S0fQ/Blv4rdGj8jSidixgZy6gDqBkD/erb66pVE43WuuxKouMGvI/Pj7Z8Xf2iPAHhHwJ4q8a+ENN8HqIHM326NboxqBsVxk8gcYr0L9uLT4PBo+EXg671S7tfhVbrGt7fWO4rKFGCTt/OvHtZ+C99400l9E8Pfs6ax4f8STDy49WmnkEcEmAN4J4PY1+kfwJ+AK6b+z/AOGfBfxItLfxPe2UCrMLxfMCtjoCef1r0K9anQcaqenb9TClCU1a5+Yf7Sdj8DNMuvBDfBw3V55N9FJql+6t5QBkTaCxUc8NX1F/wU8tprz4d/BjxFbQvc6Zp92ZrieIFgqPDFtPHrg19nRfs6/DO30STR4/BWjrpsjiVrcW4wWGcHPXua6fVvAmga54dj0HUNKtrzR441iSzmTciqowAM+grznj488JWfu3/E2WHkotJ6s8n+Df7THgH40eHZ9L8KayupXtppnmXEaxMvlfJjBJHWvn/wD4Jsqsnij4wKcOp1gjHb+LivsLwT8FfA/w5kuZPDPhmw0V7lNkxtI9pdfQ1oeE/hr4Y8BzX03h/RrXSpb6TzblrdcGVvU+9cn1iEY1IRXxHT7OV1dn5XftgfCfxX8Ifj9r3hjwYHj0b4qrFD5MYJ3sznzIxjodxY/Qivsv4ufs5v4f/Yn1L4eeGkZryx01XxEvM8ibWf8AFtp/OvpHWPBuieINU0vUtS0y3vb/AEuQy2VxMgLwMepU9q12jDAg8g8EHvWlTHynCEf5d/Myjh1GUn3Pxs+BOjfs6T+CFtPiP4g17wr4ts2ZbqzMkqI2O6AD2r7n/Yj+EPwn0XTb/wAf/DK41O5h1hDZSyagSGIjkbnB55OTn3r2fXf2cfhl4m1N9R1TwTpF7eudzTSQDJPrXY+HPCukeENLj07RdPg0yxj+7BbIFUc5qsTjPbxajdX+4KdDkLl1dx2dvLNK+yOJS7M3QADJP0r8o/EH7QHgr41ftoHxB448QQ6Z4I8KMYtOimDOs0qt8zAAdyP0Ffq/d2MN9ay286CWCZDG8Z6MpGCK8tm/ZQ+EM8jPJ8PtFd2JZmaA8k9T1rHCV6dByc1q+xpUpynZJlb4Y/tTfDD4ueIk0Hwj4nh1TUVj837PCjLtUD3HtXrzbRG2/pjmuF8H/AX4ffD3VhqnhvwlpujagF2faLSLa230613hQN1H1rlqODneG3maRjZWZ+T37TUP7O2t654m8Q+EvF134M+IOn3T77KCGRVuJ1P3l2juc+vNR/Fe2+JXxs/YV8KeKdbs7nVNV0e9JkjkUmSa3VyFkbjnKgGv0e1T9m34Ya1rDapfeB9HudQZt5uHtxuJznNd1BoGm2ukrpcVjBHpyp5YtVjHlhfTb0xXq/X4RjGKje3c5vq9pNo+SvAf/BRj4OWvw10yfUtal0zVba1WOXR2tXM4kVcbAAMZyPWvIv23rqe1+J3wg+ONlZ3Go+Evs8azlYiWtxuLhmXsTvI/4DX2lJ+zH8KptS+3v4E0drvfv83yOd3r1rudS8J6Nq2i/wBj3mmWtxpezZ9keIGML6AdqwjiKNOp7SnF+ZXs5yjyzZ+f37Zn7ZXw/wDjR8F38HeA7qXxPr+tFEjtYLZ90WSPvZHBFcP+1x4Ov/h/8B/2edD1NPKvrbULeOVM9DvQ4r9DPDn7Pfw38H6oNS0XwbpOn34ORPFANwPrzW34w+Gfhf4gNYnxHolrrH2GTzbb7Uhbyn/vL78VUcXCnyqmnZE+wk25N6lm3tDeeC4rZDtaawWNT6Ex4r8dPhz8Pfhv8P8A4qeMfC/xvuta8N3EV9KLPUbdpEimXecMSvXI5z71+08dukEKRIMIgCqPQDoK4/xn8GvBHxDkWXxL4Z07WZVGBJdQgt+dZ4bFqjzxktJF1KLnZX0R8Z/svfBX9nfxp8VI9b+H+tazres+GZFuY7i6d/KyyuuAWHPBNffnGRiuX8F/Czwl8PI5E8NeH7HRVkxv+yRBd2PeuqKqOSK5sRV9rK8W7eZrTp8isfnD+0NpjeFv+Ck3w+1e6DLa6wsBilPCgoAnX+lfQH7dX7UFn8APhXcW9ldoPFOsKYLGJWAZQR80n0A/nW3+17+z1P8AGTw7pOtaBsi8YeGrpL/TZDx5hQ5aIn0YZHsTXUWfwn8KfGLw/omseOvBlnd6ylsIpI76Ms0R43AHPTIFdvtqc/ZTmrqJgqUotpbM+Mf2J/hxonwG+HutfHv4lXkMms3kclzbJJIrzJGecgE/fc5/DFfoF8OfG0PxE8DeH/E9vZXWnwaxZR3sdtdqBLGsihgrgEgEZ5wTWBdfs6/Dm9sVsrjwta3FkoAFtLJI0QA6YUtjj6V1Wsv/AMIn4RvW0qxM32G0f7NYwD7xVDtRfyArDFYj63Uc3u/wRpRp+xVj8/PBOkzeNP8AgqDruoJGZbTR7QxysnRTkbc+/Jr9IE5HTBr5y/ZN+A998Px4j8aeJ0B8ZeKrs3d2v/PBP4UH0FfRyrili6qqzVtkgowcE+YWlooriOgKKKKACiiigBKNo9KWigBKWiigAooooAKKKKACmU+mUAMk6Ee1fm58Uj4qX9tqf/hCTB/wk2x/spuVJT/Unfkf7ua/SOQBlI6HFfNEP7N+tx/tXQ/ExtRtf7JjSRTabD5p3QlBznHU+leXjsO8RyJO1nc+64UzShlcsVUr2fNTaSeqb00fkeeaL+zL8SfiN45sfFnxP1iFxpeZYbG3Bxu68Dt0HftXK/s8eC9G+Lf7Qnje48XWy6lNYzmG3s7rlURRhePwr9AThsgjIIxXyr8VP2RdduvH114y+HfiRvDWrXn/AB8rtDRye+K5K2D9nyTiubXXzPeyvih46Nahiqio3hywlFWUe6Vtr9zyb4teE9K+FP7W3gv/AIRGFdNN9cxxXFvbcLtchW4+hJrA+Inwh8U/BD4meIfEsnha28ceGb2RpZGmOXRScnPof51798G/2RtT0Px1H428feIZPE3iCEERZAWOMkY3AeorF+Jn7NPxd8ReLNbk0f4heRoOpytI1ncQK+xTgFV9sCuV4Wcqbko2d7pdj6TD8QYWGKpUPrCcYU1Gcnf39U9Gtbroy7pviHwR8WP2XNRk0fR4rSzsYpCti6D9zKATx+NcL8C9Fstb/Yt1cXlvHcrElxLGsoyFYA4I969t+H/7MY+HXwW1PwnZ332jUL5HMlzKON7AjoO1WfgL8Abz4e/Bi48Fa9dQ3r3CyxySQIVUBwRxkn1rojhqknGU468rT06nzlTOMDh6NWGGqtxVaMo3etluzyP/AIJ+/D/w5r3wxu9Y1LSbW61K21eZYriRAXQAJjB/E1l/G7w9peh/tieBvsNnFafaoxNMYlwZG3EZPvxWn4O/ZD+J3w38SC28NeOUsfC8l6tzJaiIFmXdlhn1IAFeofE79nzWfGXx18K+NLW+t4tP0qNUmhkQl3IYnIOfeksPN0I0pU9U0dtbOcNTzitjfrXPTqwlbV6XWievc8w/ay8PXPwu+JXhL4qaUmy3huI7fUNg4aNsKSfoDWP8HoZP2nP2mLvx1cK03hvw/Eq2iuODKfT6c/mK+tPi58OrX4meA9S8PXAXbcwlY2YZCPjg/mKwf2dfgrB8Efh/BoUbpPdMzSXNygx5jk9fyx+VbSwk/rHOvgevzPKo8R4eGSuLX+1JckZf3Hv87aHwO2oeIfHX7R3i+9fwvb+M7qyvp7eHTb+5MKRRxuyIQNrZ4UH8a6+P4W/EbUvil4a8Q6f8PLTwdNZ3KGZtPvN6unRsgqvYmvcPjB+x7quseP7rxp8PvEUnhvXLrBnGA0bNjBbHvXQfA34J/Erwp4xOs+NPHDa5AsLRrZpEqR5PfjvXDSwc+dwqXet76f8ADn1eM4nwbwka2CnFWpqLg779dL2+dj6IsfNa1h804kCjd7nHNeKftdfGJPhH8Kb+e1n2a7ej7PYovLeY3AbHcDOTXuO3Ax2xXyX+1D+y/wCOvjh8QLPVtO12zstJsIgttaTRFsSdWY/MOc8fSvbxntI0ZexV2flfDcMFUzSnPMJ8lJO7v1tsvmdL+xV8H2+Hvw4j1jU0J13WP388j8vg8gV9G7h3r420v4DftC2M1rH/AMLGthaxOpMa2oA2g8gc+lfXmi213a6VaR3cgluUjVZX/vMByaMHFxppOFrG3EnLVxksZ7eNRzf2ei6I+Rv2zPgb4l8SeMdE8a+HbOLXG08KZdLmP3trZ4HcGsn4B/GzQjp3izTrfwjH4O8a29hI00EK/LLsHQHjn8K9k/aI+EnxA8ea1pmpeCfFreH3tovKeFkDxyDcSSR64Ncv8Cv2S9Q8G+KNR8TeMtYXW9bvYmhZkQInzdTge1eZPDy+tc9NWvuz7TCZtgp5HHD5jVTcF7sVdPfZrZr5Hmf7Ffws8L/FFfEnifxTbR65rEt6wZbv59gz0wfrXtPxt8K6P8FvgZ41ufBenR6VPPEzSraDBBYbS3HTA/lXnevfsa+NPCXijUNT+GfjF/D9vfSGSW1lQOgJPYV6j8H/AIFeJdH8La/p3j/xLJ4rbWAVlWRAqICu3CgdOKeHpTjT9lKHva6mWcZhha+MjmNPF89K8WqWulrXVttPQ8i/Y/8AgX4J8VfAt9a1jT7bVNTv2ka4muAGZBjhc+1cT+ziD4b8VfGDw3ps8j6Faxu0SbsqDjt/L8K69v2OPiT4NmvNN8CeP30zw5cyMzW00IZlyecHtxmvXvhH+y9bfC3wFrmnw3jX+uatG32i+n5Jcj27VhDD1EoQjCzje776Hq4vPMFBYmo8T7SNaUXGH8mqfystDwr9hf4LeEvHXhLWdW13SLfU7h7qSLNym4KoYjArB/bgnvLj43eE/CVpZLc6XbW8clvpjSeVDM5/hJwccLjp3r6g/ZT+Bur/AAO8G3mk6vewXs89zJN5lupVcMxIHJPrUH7Sn7Mlt8bm07VLS/l0jXtPOYLuHGT6A57ZANbVMHNYNRgve6nJh+JsMuJ5YvEVOaja0b6qLaSvb/I+TPHvwz8d+NNBhs7b4OaX4euI2UwX1lfZkXHTjYM/nX3f8D7PW9P+F+g2niLcNWjtlSYMcnIGOtfPnhL9nP41Ra5pr658STNpdnMr+VDAqtIo7Ma+u4Y2iVQzZIGCcV0YGi6blUta+h89xRm0cVRpYSE4zUW3dXb9Lttny9/wUUmlh+A6LCWCnUYg+3+7sf8ArivTP2X1htfgL4QwFjjWyDcdBySf1zVj9pP4cn4ofCbWtGiXN20Zlg/315H9R+NeM/s56j4j8bfsvzeE9DuoNO8W6S0+mTPdAkQOJGIJGQT8rD8quSlTxjqJaNfiZ0Z0sVw3DDKVnGrd+Saep5T+1n8UdS+OXxHtfhj4VZp7SO4WO4kjY7WcHnOOy9T9K+xvgb8MtL+Evgex0KxEfmxoHuGGNxcjkmvn74E/sseNPgrqV7qsn9ka9q9x0up1dWQnqfvck17X8Efhz4n8L6z4k1vxZqcd/f6rOpjjg3CKGNQcKASfU1jg6M/autVXvP8ABHo8RZjhJYCnlmXVF7Gkk33nJ7v5Hin/AAUmhT/hAfDEobF0t+fK/ELn9MV9L/Bhpm+E/hN7n/XtpsBfPrsGf1r5q/bG02f4wfFj4e/DzTcvLDM97fNHyIoiQuW9PumvrrQ9NTR9KtLGIYht41jQewHFb4eDeLq1ejt+B5mbYiEeHsvwbd5pzk/JNu337mlS0lLXrH5+FJS0UAJRS0UAFJS0UAJS0UUAFFFFABRRRQAUUUUAFFFFABSUtRs3zGgBzGmt9T+dZOueJLXQowZWLzNwkMfLv9BWINN8R6t/pT6l/Zok5S2RAdi9sk9/Wq5WK5//2Q==)"
      ],
      "metadata": {
        "id": "h5OoCAuZSGTA"
      }
    },
    {
      "cell_type": "markdown",
      "source": [
        "### Removing outliers"
      ],
      "metadata": {
        "id": "SueXyJ__ZvKH"
      }
    },
    {
      "cell_type": "code",
      "source": [
        "data = data[(stats.zscore(data['ap_hi']) > -2) & (stats.zscore(data['ap_hi']) < 2) & (stats.zscore(data['ap_lo']) > -2) & (stats.zscore(data['ap_lo']) < 2)]"
      ],
      "metadata": {
        "id": "LSnyr9KXSLfl"
      },
      "execution_count": 18,
      "outputs": []
    },
    {
      "cell_type": "code",
      "source": [
        "data.shape"
      ],
      "metadata": {
        "colab": {
          "base_uri": "https://localhost:8080/"
        },
        "id": "OHLo7Ou4baKX",
        "outputId": "8f48cd53-fc44-4683-db8f-b118f9188fb4"
      },
      "execution_count": 19,
      "outputs": [
        {
          "output_type": "execute_result",
          "data": {
            "text/plain": [
              "(65148, 12)"
            ]
          },
          "metadata": {},
          "execution_count": 19
        }
      ]
    },
    {
      "cell_type": "markdown",
      "source": [
        "## Preprocessing"
      ],
      "metadata": {
        "id": "Y5ALhssEb17H"
      }
    },
    {
      "cell_type": "code",
      "source": [
        "y = data['cardio']\n",
        "X = data.drop(columns=['cardio'])"
      ],
      "metadata": {
        "id": "oaRMyYkTeRJ9"
      },
      "execution_count": 20,
      "outputs": []
    },
    {
      "cell_type": "code",
      "source": [
        "X"
      ],
      "metadata": {
        "colab": {
          "base_uri": "https://localhost:8080/",
          "height": 424
        },
        "id": "2Bi6S7pbgfHT",
        "outputId": "73dfb760-b521-4805-d545-2b571a2a7226"
      },
      "execution_count": 21,
      "outputs": [
        {
          "output_type": "execute_result",
          "data": {
            "text/plain": [
              "         age  gender  height  weight  ap_hi  ap_lo  cholesterol  gluc  smoke  \\\n",
              "0      18393       2     168    62.0    110     80            1     1      0   \n",
              "1      20228       1     156    85.0    140     90            3     1      0   \n",
              "2      18857       1     165    64.0    130     70            3     1      0   \n",
              "3      17623       2     169    82.0    150    100            1     1      0   \n",
              "5      21914       1     151    67.0    120     80            2     2      0   \n",
              "...      ...     ...     ...     ...    ...    ...          ...   ...    ...   \n",
              "69995  19240       2     168    76.0    120     80            1     1      1   \n",
              "69996  22601       1     158   126.0    140     90            2     2      0   \n",
              "69997  19066       2     183   105.0    180     90            3     1      0   \n",
              "69998  22431       1     163    72.0    135     80            1     2      0   \n",
              "69999  20540       1     170    72.0    120     80            2     1      0   \n",
              "\n",
              "       alco  active  \n",
              "0         0       1  \n",
              "1         0       1  \n",
              "2         0       0  \n",
              "3         0       1  \n",
              "5         0       0  \n",
              "...     ...     ...  \n",
              "69995     0       1  \n",
              "69996     0       1  \n",
              "69997     1       0  \n",
              "69998     0       0  \n",
              "69999     0       1  \n",
              "\n",
              "[65148 rows x 11 columns]"
            ],
            "text/html": [
              "\n",
              "  <div id=\"df-59128cd7-c444-473f-958b-310da9a3348d\">\n",
              "    <div class=\"colab-df-container\">\n",
              "      <div>\n",
              "<style scoped>\n",
              "    .dataframe tbody tr th:only-of-type {\n",
              "        vertical-align: middle;\n",
              "    }\n",
              "\n",
              "    .dataframe tbody tr th {\n",
              "        vertical-align: top;\n",
              "    }\n",
              "\n",
              "    .dataframe thead th {\n",
              "        text-align: right;\n",
              "    }\n",
              "</style>\n",
              "<table border=\"1\" class=\"dataframe\">\n",
              "  <thead>\n",
              "    <tr style=\"text-align: right;\">\n",
              "      <th></th>\n",
              "      <th>age</th>\n",
              "      <th>gender</th>\n",
              "      <th>height</th>\n",
              "      <th>weight</th>\n",
              "      <th>ap_hi</th>\n",
              "      <th>ap_lo</th>\n",
              "      <th>cholesterol</th>\n",
              "      <th>gluc</th>\n",
              "      <th>smoke</th>\n",
              "      <th>alco</th>\n",
              "      <th>active</th>\n",
              "    </tr>\n",
              "  </thead>\n",
              "  <tbody>\n",
              "    <tr>\n",
              "      <th>0</th>\n",
              "      <td>18393</td>\n",
              "      <td>2</td>\n",
              "      <td>168</td>\n",
              "      <td>62.0</td>\n",
              "      <td>110</td>\n",
              "      <td>80</td>\n",
              "      <td>1</td>\n",
              "      <td>1</td>\n",
              "      <td>0</td>\n",
              "      <td>0</td>\n",
              "      <td>1</td>\n",
              "    </tr>\n",
              "    <tr>\n",
              "      <th>1</th>\n",
              "      <td>20228</td>\n",
              "      <td>1</td>\n",
              "      <td>156</td>\n",
              "      <td>85.0</td>\n",
              "      <td>140</td>\n",
              "      <td>90</td>\n",
              "      <td>3</td>\n",
              "      <td>1</td>\n",
              "      <td>0</td>\n",
              "      <td>0</td>\n",
              "      <td>1</td>\n",
              "    </tr>\n",
              "    <tr>\n",
              "      <th>2</th>\n",
              "      <td>18857</td>\n",
              "      <td>1</td>\n",
              "      <td>165</td>\n",
              "      <td>64.0</td>\n",
              "      <td>130</td>\n",
              "      <td>70</td>\n",
              "      <td>3</td>\n",
              "      <td>1</td>\n",
              "      <td>0</td>\n",
              "      <td>0</td>\n",
              "      <td>0</td>\n",
              "    </tr>\n",
              "    <tr>\n",
              "      <th>3</th>\n",
              "      <td>17623</td>\n",
              "      <td>2</td>\n",
              "      <td>169</td>\n",
              "      <td>82.0</td>\n",
              "      <td>150</td>\n",
              "      <td>100</td>\n",
              "      <td>1</td>\n",
              "      <td>1</td>\n",
              "      <td>0</td>\n",
              "      <td>0</td>\n",
              "      <td>1</td>\n",
              "    </tr>\n",
              "    <tr>\n",
              "      <th>5</th>\n",
              "      <td>21914</td>\n",
              "      <td>1</td>\n",
              "      <td>151</td>\n",
              "      <td>67.0</td>\n",
              "      <td>120</td>\n",
              "      <td>80</td>\n",
              "      <td>2</td>\n",
              "      <td>2</td>\n",
              "      <td>0</td>\n",
              "      <td>0</td>\n",
              "      <td>0</td>\n",
              "    </tr>\n",
              "    <tr>\n",
              "      <th>...</th>\n",
              "      <td>...</td>\n",
              "      <td>...</td>\n",
              "      <td>...</td>\n",
              "      <td>...</td>\n",
              "      <td>...</td>\n",
              "      <td>...</td>\n",
              "      <td>...</td>\n",
              "      <td>...</td>\n",
              "      <td>...</td>\n",
              "      <td>...</td>\n",
              "      <td>...</td>\n",
              "    </tr>\n",
              "    <tr>\n",
              "      <th>69995</th>\n",
              "      <td>19240</td>\n",
              "      <td>2</td>\n",
              "      <td>168</td>\n",
              "      <td>76.0</td>\n",
              "      <td>120</td>\n",
              "      <td>80</td>\n",
              "      <td>1</td>\n",
              "      <td>1</td>\n",
              "      <td>1</td>\n",
              "      <td>0</td>\n",
              "      <td>1</td>\n",
              "    </tr>\n",
              "    <tr>\n",
              "      <th>69996</th>\n",
              "      <td>22601</td>\n",
              "      <td>1</td>\n",
              "      <td>158</td>\n",
              "      <td>126.0</td>\n",
              "      <td>140</td>\n",
              "      <td>90</td>\n",
              "      <td>2</td>\n",
              "      <td>2</td>\n",
              "      <td>0</td>\n",
              "      <td>0</td>\n",
              "      <td>1</td>\n",
              "    </tr>\n",
              "    <tr>\n",
              "      <th>69997</th>\n",
              "      <td>19066</td>\n",
              "      <td>2</td>\n",
              "      <td>183</td>\n",
              "      <td>105.0</td>\n",
              "      <td>180</td>\n",
              "      <td>90</td>\n",
              "      <td>3</td>\n",
              "      <td>1</td>\n",
              "      <td>0</td>\n",
              "      <td>1</td>\n",
              "      <td>0</td>\n",
              "    </tr>\n",
              "    <tr>\n",
              "      <th>69998</th>\n",
              "      <td>22431</td>\n",
              "      <td>1</td>\n",
              "      <td>163</td>\n",
              "      <td>72.0</td>\n",
              "      <td>135</td>\n",
              "      <td>80</td>\n",
              "      <td>1</td>\n",
              "      <td>2</td>\n",
              "      <td>0</td>\n",
              "      <td>0</td>\n",
              "      <td>0</td>\n",
              "    </tr>\n",
              "    <tr>\n",
              "      <th>69999</th>\n",
              "      <td>20540</td>\n",
              "      <td>1</td>\n",
              "      <td>170</td>\n",
              "      <td>72.0</td>\n",
              "      <td>120</td>\n",
              "      <td>80</td>\n",
              "      <td>2</td>\n",
              "      <td>1</td>\n",
              "      <td>0</td>\n",
              "      <td>0</td>\n",
              "      <td>1</td>\n",
              "    </tr>\n",
              "  </tbody>\n",
              "</table>\n",
              "<p>65148 rows × 11 columns</p>\n",
              "</div>\n",
              "      <button class=\"colab-df-convert\" onclick=\"convertToInteractive('df-59128cd7-c444-473f-958b-310da9a3348d')\"\n",
              "              title=\"Convert this dataframe to an interactive table.\"\n",
              "              style=\"display:none;\">\n",
              "        \n",
              "  <svg xmlns=\"http://www.w3.org/2000/svg\" height=\"24px\"viewBox=\"0 0 24 24\"\n",
              "       width=\"24px\">\n",
              "    <path d=\"M0 0h24v24H0V0z\" fill=\"none\"/>\n",
              "    <path d=\"M18.56 5.44l.94 2.06.94-2.06 2.06-.94-2.06-.94-.94-2.06-.94 2.06-2.06.94zm-11 1L8.5 8.5l.94-2.06 2.06-.94-2.06-.94L8.5 2.5l-.94 2.06-2.06.94zm10 10l.94 2.06.94-2.06 2.06-.94-2.06-.94-.94-2.06-.94 2.06-2.06.94z\"/><path d=\"M17.41 7.96l-1.37-1.37c-.4-.4-.92-.59-1.43-.59-.52 0-1.04.2-1.43.59L10.3 9.45l-7.72 7.72c-.78.78-.78 2.05 0 2.83L4 21.41c.39.39.9.59 1.41.59.51 0 1.02-.2 1.41-.59l7.78-7.78 2.81-2.81c.8-.78.8-2.07 0-2.86zM5.41 20L4 18.59l7.72-7.72 1.47 1.35L5.41 20z\"/>\n",
              "  </svg>\n",
              "      </button>\n",
              "      \n",
              "  <style>\n",
              "    .colab-df-container {\n",
              "      display:flex;\n",
              "      flex-wrap:wrap;\n",
              "      gap: 12px;\n",
              "    }\n",
              "\n",
              "    .colab-df-convert {\n",
              "      background-color: #E8F0FE;\n",
              "      border: none;\n",
              "      border-radius: 50%;\n",
              "      cursor: pointer;\n",
              "      display: none;\n",
              "      fill: #1967D2;\n",
              "      height: 32px;\n",
              "      padding: 0 0 0 0;\n",
              "      width: 32px;\n",
              "    }\n",
              "\n",
              "    .colab-df-convert:hover {\n",
              "      background-color: #E2EBFA;\n",
              "      box-shadow: 0px 1px 2px rgba(60, 64, 67, 0.3), 0px 1px 3px 1px rgba(60, 64, 67, 0.15);\n",
              "      fill: #174EA6;\n",
              "    }\n",
              "\n",
              "    [theme=dark] .colab-df-convert {\n",
              "      background-color: #3B4455;\n",
              "      fill: #D2E3FC;\n",
              "    }\n",
              "\n",
              "    [theme=dark] .colab-df-convert:hover {\n",
              "      background-color: #434B5C;\n",
              "      box-shadow: 0px 1px 3px 1px rgba(0, 0, 0, 0.15);\n",
              "      filter: drop-shadow(0px 1px 2px rgba(0, 0, 0, 0.3));\n",
              "      fill: #FFFFFF;\n",
              "    }\n",
              "  </style>\n",
              "\n",
              "      <script>\n",
              "        const buttonEl =\n",
              "          document.querySelector('#df-59128cd7-c444-473f-958b-310da9a3348d button.colab-df-convert');\n",
              "        buttonEl.style.display =\n",
              "          google.colab.kernel.accessAllowed ? 'block' : 'none';\n",
              "\n",
              "        async function convertToInteractive(key) {\n",
              "          const element = document.querySelector('#df-59128cd7-c444-473f-958b-310da9a3348d');\n",
              "          const dataTable =\n",
              "            await google.colab.kernel.invokeFunction('convertToInteractive',\n",
              "                                                     [key], {});\n",
              "          if (!dataTable) return;\n",
              "\n",
              "          const docLinkHtml = 'Like what you see? Visit the ' +\n",
              "            '<a target=\"_blank\" href=https://colab.research.google.com/notebooks/data_table.ipynb>data table notebook</a>'\n",
              "            + ' to learn more about interactive tables.';\n",
              "          element.innerHTML = '';\n",
              "          dataTable['output_type'] = 'display_data';\n",
              "          await google.colab.output.renderOutput(dataTable, element);\n",
              "          const docLink = document.createElement('div');\n",
              "          docLink.innerHTML = docLinkHtml;\n",
              "          element.appendChild(docLink);\n",
              "        }\n",
              "      </script>\n",
              "    </div>\n",
              "  </div>\n",
              "  "
            ]
          },
          "metadata": {},
          "execution_count": 21
        }
      ]
    },
    {
      "cell_type": "code",
      "source": [
        "print(X.shape, y.shape)"
      ],
      "metadata": {
        "colab": {
          "base_uri": "https://localhost:8080/"
        },
        "id": "y3_CwpywezDu",
        "outputId": "c87ab199-431d-466b-8b99-0854b916a6ad"
      },
      "execution_count": 22,
      "outputs": [
        {
          "output_type": "stream",
          "name": "stdout",
          "text": [
            "(65148, 11) (65148,)\n"
          ]
        }
      ]
    },
    {
      "cell_type": "markdown",
      "source": [
        "### Splitting the data"
      ],
      "metadata": {
        "id": "f-OhZg1EgpKI"
      }
    },
    {
      "cell_type": "code",
      "source": [
        "X_train, X_test, y_train, y_test = train_test_split(X, y, test_size=0.25, random_state=28)"
      ],
      "metadata": {
        "id": "gLsy1ETcgrIk"
      },
      "execution_count": 30,
      "outputs": []
    },
    {
      "cell_type": "markdown",
      "source": [
        "### Scaling the numerical features"
      ],
      "metadata": {
        "id": "7cXwYA9Ve3WG"
      }
    },
    {
      "cell_type": "code",
      "source": [
        "ct = ColumnTransformer([\n",
        "    ('scaler', MinMaxScaler(), [i for i in range(6)]),\n",
        "    ('passthrough', 'passthrough', [i for i in range(6, 11)])\n",
        "])\n",
        "\n",
        "X_train_scaled = ct.fit_transform(X_train)\n",
        "X_test_scaled = ct.transform(X_test)"
      ],
      "metadata": {
        "id": "WTIU3g3de23b"
      },
      "execution_count": 31,
      "outputs": []
    },
    {
      "cell_type": "markdown",
      "source": [
        "## Baseline Model"
      ],
      "metadata": {
        "id": "cnw3CKjUjgVR"
      }
    },
    {
      "cell_type": "code",
      "source": [
        "lr = LogisticRegression(random_state=28)\n",
        "lr.fit(X_train_scaled, y_train)"
      ],
      "metadata": {
        "colab": {
          "base_uri": "https://localhost:8080/",
          "height": 75
        },
        "id": "qhmXAYj1kZD0",
        "outputId": "8a88961c-434f-44bc-8127-198fd0d9bc8a"
      },
      "execution_count": 35,
      "outputs": [
        {
          "output_type": "execute_result",
          "data": {
            "text/plain": [
              "LogisticRegression(random_state=28)"
            ],
            "text/html": [
              "<style>#sk-container-id-2 {color: black;background-color: white;}#sk-container-id-2 pre{padding: 0;}#sk-container-id-2 div.sk-toggleable {background-color: white;}#sk-container-id-2 label.sk-toggleable__label {cursor: pointer;display: block;width: 100%;margin-bottom: 0;padding: 0.3em;box-sizing: border-box;text-align: center;}#sk-container-id-2 label.sk-toggleable__label-arrow:before {content: \"▸\";float: left;margin-right: 0.25em;color: #696969;}#sk-container-id-2 label.sk-toggleable__label-arrow:hover:before {color: black;}#sk-container-id-2 div.sk-estimator:hover label.sk-toggleable__label-arrow:before {color: black;}#sk-container-id-2 div.sk-toggleable__content {max-height: 0;max-width: 0;overflow: hidden;text-align: left;background-color: #f0f8ff;}#sk-container-id-2 div.sk-toggleable__content pre {margin: 0.2em;color: black;border-radius: 0.25em;background-color: #f0f8ff;}#sk-container-id-2 input.sk-toggleable__control:checked~div.sk-toggleable__content {max-height: 200px;max-width: 100%;overflow: auto;}#sk-container-id-2 input.sk-toggleable__control:checked~label.sk-toggleable__label-arrow:before {content: \"▾\";}#sk-container-id-2 div.sk-estimator input.sk-toggleable__control:checked~label.sk-toggleable__label {background-color: #d4ebff;}#sk-container-id-2 div.sk-label input.sk-toggleable__control:checked~label.sk-toggleable__label {background-color: #d4ebff;}#sk-container-id-2 input.sk-hidden--visually {border: 0;clip: rect(1px 1px 1px 1px);clip: rect(1px, 1px, 1px, 1px);height: 1px;margin: -1px;overflow: hidden;padding: 0;position: absolute;width: 1px;}#sk-container-id-2 div.sk-estimator {font-family: monospace;background-color: #f0f8ff;border: 1px dotted black;border-radius: 0.25em;box-sizing: border-box;margin-bottom: 0.5em;}#sk-container-id-2 div.sk-estimator:hover {background-color: #d4ebff;}#sk-container-id-2 div.sk-parallel-item::after {content: \"\";width: 100%;border-bottom: 1px solid gray;flex-grow: 1;}#sk-container-id-2 div.sk-label:hover label.sk-toggleable__label {background-color: #d4ebff;}#sk-container-id-2 div.sk-serial::before {content: \"\";position: absolute;border-left: 1px solid gray;box-sizing: border-box;top: 0;bottom: 0;left: 50%;z-index: 0;}#sk-container-id-2 div.sk-serial {display: flex;flex-direction: column;align-items: center;background-color: white;padding-right: 0.2em;padding-left: 0.2em;position: relative;}#sk-container-id-2 div.sk-item {position: relative;z-index: 1;}#sk-container-id-2 div.sk-parallel {display: flex;align-items: stretch;justify-content: center;background-color: white;position: relative;}#sk-container-id-2 div.sk-item::before, #sk-container-id-2 div.sk-parallel-item::before {content: \"\";position: absolute;border-left: 1px solid gray;box-sizing: border-box;top: 0;bottom: 0;left: 50%;z-index: -1;}#sk-container-id-2 div.sk-parallel-item {display: flex;flex-direction: column;z-index: 1;position: relative;background-color: white;}#sk-container-id-2 div.sk-parallel-item:first-child::after {align-self: flex-end;width: 50%;}#sk-container-id-2 div.sk-parallel-item:last-child::after {align-self: flex-start;width: 50%;}#sk-container-id-2 div.sk-parallel-item:only-child::after {width: 0;}#sk-container-id-2 div.sk-dashed-wrapped {border: 1px dashed gray;margin: 0 0.4em 0.5em 0.4em;box-sizing: border-box;padding-bottom: 0.4em;background-color: white;}#sk-container-id-2 div.sk-label label {font-family: monospace;font-weight: bold;display: inline-block;line-height: 1.2em;}#sk-container-id-2 div.sk-label-container {text-align: center;}#sk-container-id-2 div.sk-container {/* jupyter's `normalize.less` sets `[hidden] { display: none; }` but bootstrap.min.css set `[hidden] { display: none !important; }` so we also need the `!important` here to be able to override the default hidden behavior on the sphinx rendered scikit-learn.org. See: https://github.com/scikit-learn/scikit-learn/issues/21755 */display: inline-block !important;position: relative;}#sk-container-id-2 div.sk-text-repr-fallback {display: none;}</style><div id=\"sk-container-id-2\" class=\"sk-top-container\"><div class=\"sk-text-repr-fallback\"><pre>LogisticRegression(random_state=28)</pre><b>In a Jupyter environment, please rerun this cell to show the HTML representation or trust the notebook. <br />On GitHub, the HTML representation is unable to render, please try loading this page with nbviewer.org.</b></div><div class=\"sk-container\" hidden><div class=\"sk-item\"><div class=\"sk-estimator sk-toggleable\"><input class=\"sk-toggleable__control sk-hidden--visually\" id=\"sk-estimator-id-2\" type=\"checkbox\" checked><label for=\"sk-estimator-id-2\" class=\"sk-toggleable__label sk-toggleable__label-arrow\">LogisticRegression</label><div class=\"sk-toggleable__content\"><pre>LogisticRegression(random_state=28)</pre></div></div></div></div></div>"
            ]
          },
          "metadata": {},
          "execution_count": 35
        }
      ]
    },
    {
      "cell_type": "code",
      "source": [
        "def evaluate_model(model, X_train, X_test, y_train, y_test):\n",
        "  print(\"Training set\")\n",
        "  print(classification_report(y_train, model.predict(X_train)))\n",
        "  train_plot = ConfusionMatrixDisplay(confusion_matrix(y_train, model.predict(X_train)))\n",
        "  train_plot.plot()\n",
        "  plt.show()\n",
        "  print(\"----------------\")\n",
        "  print(\"Test Set\")\n",
        "  print(classification_report(y_test, model.predict(X_test)))\n",
        "  test_plot = ConfusionMatrixDisplay(confusion_matrix(y_test, model.predict(X_test)))\n",
        "  test_plot.plot()\n",
        "  plt.show()"
      ],
      "metadata": {
        "id": "k3JnLg11k984"
      },
      "execution_count": 61,
      "outputs": []
    },
    {
      "cell_type": "code",
      "source": [
        "evaluate_model(lr, X_train_scaled, X_test_scaled, y_train, y_test)"
      ],
      "metadata": {
        "colab": {
          "base_uri": "https://localhost:8080/",
          "height": 1000
        },
        "id": "s5pjxYOlkm5Q",
        "outputId": "eb789022-cc52-48c2-de86-7d0f7fa01bf2"
      },
      "execution_count": 62,
      "outputs": [
        {
          "output_type": "stream",
          "name": "stdout",
          "text": [
            "Training set\n",
            "              precision    recall  f1-score   support\n",
            "\n",
            "           0       0.70      0.78      0.74     24256\n",
            "           1       0.75      0.67      0.71     24605\n",
            "\n",
            "    accuracy                           0.72     48861\n",
            "   macro avg       0.73      0.73      0.72     48861\n",
            "weighted avg       0.73      0.72      0.72     48861\n",
            "\n"
          ]
        },
        {
          "output_type": "display_data",
          "data": {
            "text/plain": [
              "<Figure size 640x480 with 2 Axes>"
            ],
            "image/png": "[encoded data removed]"
          },
          "metadata": {}
        },
        {
          "output_type": "stream",
          "name": "stdout",
          "text": [
            "----------------\n",
            "Test Set\n",
            "              precision    recall  f1-score   support\n",
            "\n",
            "           0       0.70      0.78      0.74      8196\n",
            "           1       0.75      0.67      0.70      8091\n",
            "\n",
            "    accuracy                           0.72     16287\n",
            "   macro avg       0.73      0.72      0.72     16287\n",
            "weighted avg       0.73      0.72      0.72     16287\n",
            "\n"
          ]
        },
        {
          "output_type": "display_data",
          "data": {
            "text/plain": [
              "<Figure size 640x480 with 2 Axes>"
            ],
            "image/png": "[encoded data removed]"
          },
          "metadata": {}
        }
      ]
    }
  ]
}